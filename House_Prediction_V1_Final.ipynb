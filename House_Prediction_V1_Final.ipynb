{
 "cells": [
  {
   "cell_type": "markdown",
   "metadata": {
    "collapsed": true
   },
   "source": [
    "# House Price Prediction using PYSPARK"
   ]
  },
  {
   "cell_type": "markdown",
   "metadata": {},
   "source": [
    "# Overview\n",
    "\n",
    "Whenever you ask someone what do they look in their dream home, most people will say rooms, yard, garage, locality. However, there are lots of factor that affect a house price. No doubt, locality, area are some of the important factors in price determination, however there are behemoth of other attributes like basement type, basement material, Lot Frontage, Street area in front of the house to name a few.\n",
    "\n",
    "This dataset is taken from an ongoing kaggle dataset for predicting the price of a house. This dataset is a big dataset with over 81 features. This dataset represents house prices in various localities in Ames, Iowa.\n",
    "\n",
    "The analysis has been in done in PySpark 1.6 on Cloudera platform\n"
   ]
  },
  {
   "cell_type": "markdown",
   "metadata": {},
   "source": [
    "### Data\n",
    "https://www.kaggle.com/c/house-prices-advanced-regression-techniques/data"
   ]
  },
  {
   "cell_type": "markdown",
   "metadata": {},
   "source": [
    "# Architectural Diagram"
   ]
  },
  {
   "cell_type": "code",
   "execution_count": 3,
   "metadata": {},
   "outputs": [
    {
     "data": {
      "image/png": "[encoded data removed]",
      "text/plain": [
       "<IPython.core.display.Image object>"
      ]
     },
     "execution_count": 3,
     "metadata": {},
     "output_type": "execute_result"
    }
   ],
   "source": [
    "from IPython.display import Image\n",
    "Image(\"/home/cloudera/Downloads/work flow.JPG\")"
   ]
  },
  {
   "cell_type": "markdown",
   "metadata": {},
   "source": [
    "### Importing Libraries and creating RDD"
   ]
  },
  {
   "cell_type": "code",
   "execution_count": 4,
   "metadata": {
    "collapsed": true
   },
   "outputs": [],
   "source": [
    "#Boiler plate Imports Pyspark SQL, SQL COntext and reading the train.csv i.e the dataset\n",
    "\n",
    "sc\n",
    "from pyspark.sql import SQLContext,Row\n",
    "from pyspark import SparkConf,SparkContext\n",
    "import numpy as np\n",
    "import pandas as pd\n",
    "rdd=sc.textFile(\"file:///home/cloudera/Downloads/train.csv\") \n"
   ]
  },
  {
   "cell_type": "code",
   "execution_count": 5,
   "metadata": {
    "collapsed": true
   },
   "outputs": [],
   "source": [
    "#Removing the header row\n",
    "header=rdd.first()\n",
    "\n",
    "rddheader = rdd.first()\n",
    "header = sc.parallelize([rddheader])\n",
    "rdddata = rdd.subtract(header)"
   ]
  },
  {
   "cell_type": "code",
   "execution_count": 6,
   "metadata": {
    "collapsed": true
   },
   "outputs": [],
   "source": [
    "#Fuction to define and take in all the variables.\n",
    "def myfunc(line):\n",
    "    l1=line.split(\",\")\n",
    "    return Row(Id=l1[0],MSSubClass=l1[1],MSZoning=l1[2],LotFrontage=str(l1[3]),\n",
    "               LotArea=str(l1[4]),Street=l1[5],Alley=l1[6],\n",
    "               LotShape=l1[7],LandContour=l1[8],Utilities=l1[9],LotConfig=l1[10],\n",
    "               LandSlope=l1[11],Neighborhood=l1[12],Condition1=l1[13],Condition2=l1[14],BldgType=l1[15],\n",
    "               HouseStyle=l1[16],OverallQual=l1[17],OverallCond=l1[18],YearBuilt=l1[19],YearRemodAdd=l1[20],\n",
    "               RoofStyle=l1[21],RoofMatl=l1[22],Exterior1st=l1[23],Exterior2nd=l1[24],MasVnrType=l1[25],\n",
    "               MasVnrArea=l1[26],ExterQual=l1[27],ExterCond=l1[28],Foundation=l1[29],BsmtQual=l1[30],\n",
    "               BsmtCond=l1[31],BsmtExposure=l1[32],BsmtFinType1=l1[33],BsmtFinSF1=str(l1[34]),BsmtFinType2=l1[35],\n",
    "               BsmtFinSF2=str(l1[36]),BsmtUnfSF=str(l1[37]),TotalBsmtSF=str(l1[38]),Heating=l1[39],HeatingQC=l1[40],\n",
    "               CentralAir=l1[41],Electrical=l1[42],firstFlrSF=str(l1[43]),secondFlrSF=str(l1[44]),LowQualFinSF=l1[45],\n",
    "               GrLivArea=str(l1[46]),BsmtFullBath=str(l1[47]),BsmtHalfBath=str(l1[48]),FullBath=str(l1[49]),\n",
    "               HalfBath=str(l1[50]),BedroomAbvGr=str(l1[51]),KitchenAbvGr=str(l1[52]),KitchenQual=l1[53],\n",
    "               TotRmsAbvGrd=str(l1[54]),Functional=l1[55],Fireplaces=str(l1[56]),\n",
    "               FireplaceQu=l1[57],GarageType=l1[58],GarageYrBlt=l1[59],GarageFinish=l1[60],\n",
    "               GarageCars=str(l1[61]),GarageArea=str(l1[62]),GarageQual=l1[63],GarageCond=l1[64],PavedDrive=l1[65],\n",
    "               WoodDeckSF=str(l1[66]),OpenPorchSF=str(l1[67]),EnclosedPorch=str(l1[68]),threeSsnPorch=str(l1[69]),\n",
    "               ScreenPorch=str(l1[70]),PoolArea=str(l1[71]),PoolQC=l1[72],Fence=l1[73],MiscFeature=l1[74],\n",
    "               MiscVal=str(l1[75]),MoSold=l1[76],YrSold=l1[77],SaleType=l1[78],SaleCondition=l1[79],SalePrice=str(l1[80]))\n",
    " "
   ]
  },
  {
   "cell_type": "code",
   "execution_count": 7,
   "metadata": {
    "collapsed": true
   },
   "outputs": [],
   "source": [
    "res=rdddata.map(myfunc)"
   ]
  },
  {
   "cell_type": "code",
   "execution_count": 8,
   "metadata": {},
   "outputs": [
    {
     "data": {
      "text/plain": [
       "[Row(Alley=u'NA', BedroomAbvGr='2', BldgType=u'1Fam', BsmtCond=u'NA', BsmtExposure=u'NA', BsmtFinSF1='0', BsmtFinSF2='0', BsmtFinType1=u'NA', BsmtFinType2=u'NA', BsmtFullBath='0', BsmtHalfBath='0', BsmtQual=u'NA', BsmtUnfSF='0', CentralAir=u'N', Condition1=u'Norm', Condition2=u'Norm', Electrical=u'SBrkr', EnclosedPorch='0', ExterCond=u'TA', ExterQual=u'TA', Exterior1st=u'AsbShng', Exterior2nd=u'AsbShng', Fence=u'NA', FireplaceQu=u'NA', Fireplaces='0', Foundation=u'Slab', FullBath='1', Functional=u'Typ', GarageArea='0', GarageCars='0', GarageCond=u'NA', GarageFinish=u'NA', GarageQual=u'NA', GarageType=u'NA', GarageYrBlt=u'NA', GrLivArea='912', HalfBath='0', Heating=u'GasA', HeatingQC=u'Gd', HouseStyle=u'1.5Fin', Id=u'1219', KitchenAbvGr='1', KitchenQual=u'TA', LandContour=u'Lvl', LandSlope=u'Gtl', LotArea='6240', LotConfig=u'Inside', LotFrontage='52', LotShape=u'Reg', LowQualFinSF=u'0', MSSubClass=u'50', MSZoning=u'RM', MasVnrArea=u'0', MasVnrType=u'None', MiscFeature=u'NA', MiscVal='0', MoSold=u'7', Neighborhood=u'BrkSide', OpenPorchSF='0', OverallCond=u'5', OverallQual=u'4', PavedDrive=u'N', PoolArea='0', PoolQC=u'NA', RoofMatl=u'CompShg', RoofStyle=u'Gable', SaleCondition=u'Normal', SalePrice='80500', SaleType=u'WD', ScreenPorch='0', Street=u'Pave', TotRmsAbvGrd='3', TotalBsmtSF='0', Utilities=u'AllPub', WoodDeckSF='0', YearBuilt=u'1947', YearRemodAdd=u'1950', YrSold=u'2006', firstFlrSF='672', secondFlrSF='240', threeSsnPorch='0'),\n",
       " Row(Alley=u'Pave', BedroomAbvGr='1', BldgType=u'TwnhsE', BsmtCond=u'TA', BsmtExposure=u'No', BsmtFinSF1='1106', BsmtFinSF2='0', BsmtFinType1=u'GLQ', BsmtFinType2=u'Unf', BsmtFullBath='1', BsmtHalfBath='0', BsmtQual=u'Gd', BsmtUnfSF='135', CentralAir=u'Y', Condition1=u'Norm', Condition2=u'Norm', Electrical=u'SBrkr', EnclosedPorch='0', ExterCond=u'TA', ExterQual=u'Gd', Exterior1st=u'VinylSd', Exterior2nd=u'VinylSd', Fence=u'NA', FireplaceQu=u'NA', Fireplaces='0', Foundation=u'PConc', FullBath='1', Functional=u'Typ', GarageArea='569', GarageCars='2', GarageCond=u'TA', GarageFinish=u'Fin', GarageQual=u'TA', GarageType=u'Attchd', GarageYrBlt=u'2007', GrLivArea='1241', HalfBath='1', Heating=u'GasA', HeatingQC=u'Ex', HouseStyle=u'1Story', Id=u'978', KitchenAbvGr='1', KitchenQual=u'Gd', LandContour=u'Lvl', LandSlope=u'Gtl', LotArea='4274', LotConfig=u'Inside', LotFrontage='35', LotShape=u'IR1', LowQualFinSF=u'0', MSSubClass=u'120', MSZoning=u'FV', MasVnrArea=u'NA', MasVnrType=u'NA', MiscFeature=u'NA', MiscVal='0', MoSold=u'11', Neighborhood=u'Somerst', OpenPorchSF='116', OverallCond=u'5', OverallQual=u'7', PavedDrive=u'Y', PoolArea='0', PoolQC=u'NA', RoofMatl=u'CompShg', RoofStyle=u'Gable', SaleCondition=u'Partial', SalePrice='199900', SaleType=u'New', ScreenPorch='0', Street=u'Pave', TotRmsAbvGrd='4', TotalBsmtSF='1241', Utilities=u'AllPub', WoodDeckSF='0', YearBuilt=u'2006', YearRemodAdd=u'2007', YrSold=u'2007', firstFlrSF='1241', secondFlrSF='0', threeSsnPorch='0')]"
      ]
     },
     "execution_count": 8,
     "metadata": {},
     "output_type": "execute_result"
    }
   ],
   "source": [
    "    res.take(2)"
   ]
  },
  {
   "cell_type": "code",
   "execution_count": 9,
   "metadata": {
    "collapsed": true
   },
   "outputs": [],
   "source": [
    "sqlcontext=SQLContext(sc)"
   ]
  },
  {
   "cell_type": "code",
   "execution_count": 10,
   "metadata": {
    "collapsed": true
   },
   "outputs": [],
   "source": [
    "temp=sqlcontext.createDataFrame(res)"
   ]
  },
  {
   "cell_type": "code",
   "execution_count": 11,
   "metadata": {},
   "outputs": [
    {
     "data": {
      "text/plain": [
       "[('Alley', 'string'),\n",
       " ('BedroomAbvGr', 'string'),\n",
       " ('BldgType', 'string'),\n",
       " ('BsmtCond', 'string'),\n",
       " ('BsmtExposure', 'string'),\n",
       " ('BsmtFinSF1', 'string'),\n",
       " ('BsmtFinSF2', 'string'),\n",
       " ('BsmtFinType1', 'string'),\n",
       " ('BsmtFinType2', 'string'),\n",
       " ('BsmtFullBath', 'string'),\n",
       " ('BsmtHalfBath', 'string'),\n",
       " ('BsmtQual', 'string'),\n",
       " ('BsmtUnfSF', 'string'),\n",
       " ('CentralAir', 'string'),\n",
       " ('Condition1', 'string'),\n",
       " ('Condition2', 'string'),\n",
       " ('Electrical', 'string'),\n",
       " ('EnclosedPorch', 'string'),\n",
       " ('ExterCond', 'string'),\n",
       " ('ExterQual', 'string'),\n",
       " ('Exterior1st', 'string'),\n",
       " ('Exterior2nd', 'string'),\n",
       " ('Fence', 'string'),\n",
       " ('FireplaceQu', 'string'),\n",
       " ('Fireplaces', 'string'),\n",
       " ('Foundation', 'string'),\n",
       " ('FullBath', 'string'),\n",
       " ('Functional', 'string'),\n",
       " ('GarageArea', 'string'),\n",
       " ('GarageCars', 'string'),\n",
       " ('GarageCond', 'string'),\n",
       " ('GarageFinish', 'string'),\n",
       " ('GarageQual', 'string'),\n",
       " ('GarageType', 'string'),\n",
       " ('GarageYrBlt', 'string'),\n",
       " ('GrLivArea', 'string'),\n",
       " ('HalfBath', 'string'),\n",
       " ('Heating', 'string'),\n",
       " ('HeatingQC', 'string'),\n",
       " ('HouseStyle', 'string'),\n",
       " ('Id', 'string'),\n",
       " ('KitchenAbvGr', 'string'),\n",
       " ('KitchenQual', 'string'),\n",
       " ('LandContour', 'string'),\n",
       " ('LandSlope', 'string'),\n",
       " ('LotArea', 'string'),\n",
       " ('LotConfig', 'string'),\n",
       " ('LotFrontage', 'string'),\n",
       " ('LotShape', 'string'),\n",
       " ('LowQualFinSF', 'string'),\n",
       " ('MSSubClass', 'string'),\n",
       " ('MSZoning', 'string'),\n",
       " ('MasVnrArea', 'string'),\n",
       " ('MasVnrType', 'string'),\n",
       " ('MiscFeature', 'string'),\n",
       " ('MiscVal', 'string'),\n",
       " ('MoSold', 'string'),\n",
       " ('Neighborhood', 'string'),\n",
       " ('OpenPorchSF', 'string'),\n",
       " ('OverallCond', 'string'),\n",
       " ('OverallQual', 'string'),\n",
       " ('PavedDrive', 'string'),\n",
       " ('PoolArea', 'string'),\n",
       " ('PoolQC', 'string'),\n",
       " ('RoofMatl', 'string'),\n",
       " ('RoofStyle', 'string'),\n",
       " ('SaleCondition', 'string'),\n",
       " ('SalePrice', 'string'),\n",
       " ('SaleType', 'string'),\n",
       " ('ScreenPorch', 'string'),\n",
       " ('Street', 'string'),\n",
       " ('TotRmsAbvGrd', 'string'),\n",
       " ('TotalBsmtSF', 'string'),\n",
       " ('Utilities', 'string'),\n",
       " ('WoodDeckSF', 'string'),\n",
       " ('YearBuilt', 'string'),\n",
       " ('YearRemodAdd', 'string'),\n",
       " ('YrSold', 'string'),\n",
       " ('firstFlrSF', 'string'),\n",
       " ('secondFlrSF', 'string'),\n",
       " ('threeSsnPorch', 'string')]"
      ]
     },
     "execution_count": 11,
     "metadata": {},
     "output_type": "execute_result"
    }
   ],
   "source": [
    "\n",
    "temp.dtypes"
   ]
  },
  {
   "cell_type": "code",
   "execution_count": 12,
   "metadata": {
    "collapsed": true
   },
   "outputs": [],
   "source": [
    "temp.registerTempTable(\"temp_table\")"
   ]
  },
  {
   "cell_type": "code",
   "execution_count": 13,
   "metadata": {},
   "outputs": [
    {
     "data": {
      "text/plain": [
       "DataFrame[Alley: string, BedroomAbvGr: string, BldgType: string, BsmtCond: string, BsmtExposure: string, BsmtFinSF1: string, BsmtFinSF2: string, BsmtFinType1: string, BsmtFinType2: string, BsmtFullBath: string, BsmtHalfBath: string, BsmtQual: string, BsmtUnfSF: string, CentralAir: string, Condition1: string, Condition2: string, Electrical: string, EnclosedPorch: string, ExterCond: string, ExterQual: string, Exterior1st: string, Exterior2nd: string, Fence: string, FireplaceQu: string, Fireplaces: string, Foundation: string, FullBath: string, Functional: string, GarageArea: string, GarageCars: string, GarageCond: string, GarageFinish: string, GarageQual: string, GarageType: string, GarageYrBlt: string, GrLivArea: string, HalfBath: string, Heating: string, HeatingQC: string, HouseStyle: string, Id: string, KitchenAbvGr: string, KitchenQual: string, LandContour: string, LandSlope: string, LotArea: string, LotConfig: string, LotFrontage: string, LotShape: string, LowQualFinSF: string, MSSubClass: string, MSZoning: string, MasVnrArea: string, MasVnrType: string, MiscFeature: string, MiscVal: string, MoSold: string, Neighborhood: string, OpenPorchSF: string, OverallCond: string, OverallQual: string, PavedDrive: string, PoolArea: string, PoolQC: string, RoofMatl: string, RoofStyle: string, SaleCondition: string, SalePrice: string, SaleType: string, ScreenPorch: string, Street: string, TotRmsAbvGrd: string, TotalBsmtSF: string, Utilities: string, WoodDeckSF: string, YearBuilt: string, YearRemodAdd: string, YrSold: string, firstFlrSF: string, secondFlrSF: string, threeSsnPorch: string]"
      ]
     },
     "execution_count": 13,
     "metadata": {},
     "output_type": "execute_result"
    }
   ],
   "source": [
    "sqlcontext.sql(\"select * from temp_table\")"
   ]
  },
  {
   "cell_type": "code",
   "execution_count": 14,
   "metadata": {
    "scrolled": true
   },
   "outputs": [
    {
     "name": "stdout",
     "output_type": "stream",
     "text": [
      "root\n",
      " |-- Alley: string (nullable = true)\n",
      " |-- BedroomAbvGr: string (nullable = true)\n",
      " |-- BldgType: string (nullable = true)\n",
      " |-- BsmtCond: string (nullable = true)\n",
      " |-- BsmtExposure: string (nullable = true)\n",
      " |-- BsmtFinSF1: string (nullable = true)\n",
      " |-- BsmtFinSF2: string (nullable = true)\n",
      " |-- BsmtFinType1: string (nullable = true)\n",
      " |-- BsmtFinType2: string (nullable = true)\n",
      " |-- BsmtFullBath: string (nullable = true)\n",
      " |-- BsmtHalfBath: string (nullable = true)\n",
      " |-- BsmtQual: string (nullable = true)\n",
      " |-- BsmtUnfSF: string (nullable = true)\n",
      " |-- CentralAir: string (nullable = true)\n",
      " |-- Condition1: string (nullable = true)\n",
      " |-- Condition2: string (nullable = true)\n",
      " |-- Electrical: string (nullable = true)\n",
      " |-- EnclosedPorch: string (nullable = true)\n",
      " |-- ExterCond: string (nullable = true)\n",
      " |-- ExterQual: string (nullable = true)\n",
      " |-- Exterior1st: string (nullable = true)\n",
      " |-- Exterior2nd: string (nullable = true)\n",
      " |-- Fence: string (nullable = true)\n",
      " |-- FireplaceQu: string (nullable = true)\n",
      " |-- Fireplaces: string (nullable = true)\n",
      " |-- Foundation: string (nullable = true)\n",
      " |-- FullBath: string (nullable = true)\n",
      " |-- Functional: string (nullable = true)\n",
      " |-- GarageArea: string (nullable = true)\n",
      " |-- GarageCars: string (nullable = true)\n",
      " |-- GarageCond: string (nullable = true)\n",
      " |-- GarageFinish: string (nullable = true)\n",
      " |-- GarageQual: string (nullable = true)\n",
      " |-- GarageType: string (nullable = true)\n",
      " |-- GarageYrBlt: string (nullable = true)\n",
      " |-- GrLivArea: string (nullable = true)\n",
      " |-- HalfBath: string (nullable = true)\n",
      " |-- Heating: string (nullable = true)\n",
      " |-- HeatingQC: string (nullable = true)\n",
      " |-- HouseStyle: string (nullable = true)\n",
      " |-- Id: string (nullable = true)\n",
      " |-- KitchenAbvGr: string (nullable = true)\n",
      " |-- KitchenQual: string (nullable = true)\n",
      " |-- LandContour: string (nullable = true)\n",
      " |-- LandSlope: string (nullable = true)\n",
      " |-- LotArea: string (nullable = true)\n",
      " |-- LotConfig: string (nullable = true)\n",
      " |-- LotFrontage: string (nullable = true)\n",
      " |-- LotShape: string (nullable = true)\n",
      " |-- LowQualFinSF: string (nullable = true)\n",
      " |-- MSSubClass: string (nullable = true)\n",
      " |-- MSZoning: string (nullable = true)\n",
      " |-- MasVnrArea: string (nullable = true)\n",
      " |-- MasVnrType: string (nullable = true)\n",
      " |-- MiscFeature: string (nullable = true)\n",
      " |-- MiscVal: string (nullable = true)\n",
      " |-- MoSold: string (nullable = true)\n",
      " |-- Neighborhood: string (nullable = true)\n",
      " |-- OpenPorchSF: string (nullable = true)\n",
      " |-- OverallCond: string (nullable = true)\n",
      " |-- OverallQual: string (nullable = true)\n",
      " |-- PavedDrive: string (nullable = true)\n",
      " |-- PoolArea: string (nullable = true)\n",
      " |-- PoolQC: string (nullable = true)\n",
      " |-- RoofMatl: string (nullable = true)\n",
      " |-- RoofStyle: string (nullable = true)\n",
      " |-- SaleCondition: string (nullable = true)\n",
      " |-- SalePrice: string (nullable = true)\n",
      " |-- SaleType: string (nullable = true)\n",
      " |-- ScreenPorch: string (nullable = true)\n",
      " |-- Street: string (nullable = true)\n",
      " |-- TotRmsAbvGrd: string (nullable = true)\n",
      " |-- TotalBsmtSF: string (nullable = true)\n",
      " |-- Utilities: string (nullable = true)\n",
      " |-- WoodDeckSF: string (nullable = true)\n",
      " |-- YearBuilt: string (nullable = true)\n",
      " |-- YearRemodAdd: string (nullable = true)\n",
      " |-- YrSold: string (nullable = true)\n",
      " |-- firstFlrSF: string (nullable = true)\n",
      " |-- secondFlrSF: string (nullable = true)\n",
      " |-- threeSsnPorch: string (nullable = true)\n",
      "\n"
     ]
    }
   ],
   "source": [
    "#Printing the schema of the Dataset\n",
    "temp.printSchema()"
   ]
  },
  {
   "cell_type": "code",
   "execution_count": 15,
   "metadata": {},
   "outputs": [
    {
     "data": {
      "text/plain": [
       "81"
      ]
     },
     "execution_count": 15,
     "metadata": {},
     "output_type": "execute_result"
    }
   ],
   "source": [
    "    len(temp.columns)"
   ]
  },
  {
   "cell_type": "markdown",
   "metadata": {},
   "source": [
    "# Visualization"
   ]
  },
  {
   "cell_type": "markdown",
   "metadata": {},
   "source": [
    "In this section, we will create plots to get visual representation from our data.\n",
    "\n",
    "We will ask some questions and see the results\n",
    "\n",
    "The logic has been created using PySpark"
   ]
  },
  {
   "cell_type": "markdown",
   "metadata": {},
   "source": [
    "## Importing required libraries"
   ]
  },
  {
   "cell_type": "code",
   "execution_count": 16,
   "metadata": {
    "collapsed": true
   },
   "outputs": [],
   "source": [
    "#Importing Libraries to visualize the data\n",
    "#Rahul's Start\n",
    "import matplotlib.pyplot as plt\n",
    "import seaborn as sns"
   ]
  },
  {
   "cell_type": "code",
   "execution_count": 17,
   "metadata": {},
   "outputs": [
    {
     "data": {
      "text/plain": [
       "['Alley',\n",
       " 'BedroomAbvGr',\n",
       " 'BldgType',\n",
       " 'BsmtCond',\n",
       " 'BsmtExposure',\n",
       " 'BsmtFinSF1',\n",
       " 'BsmtFinSF2',\n",
       " 'BsmtFinType1',\n",
       " 'BsmtFinType2',\n",
       " 'BsmtFullBath',\n",
       " 'BsmtHalfBath',\n",
       " 'BsmtQual',\n",
       " 'BsmtUnfSF',\n",
       " 'CentralAir',\n",
       " 'Condition1',\n",
       " 'Condition2',\n",
       " 'Electrical',\n",
       " 'EnclosedPorch',\n",
       " 'ExterCond',\n",
       " 'ExterQual',\n",
       " 'Exterior1st',\n",
       " 'Exterior2nd',\n",
       " 'Fence',\n",
       " 'FireplaceQu',\n",
       " 'Fireplaces',\n",
       " 'Foundation',\n",
       " 'FullBath',\n",
       " 'Functional',\n",
       " 'GarageArea',\n",
       " 'GarageCars',\n",
       " 'GarageCond',\n",
       " 'GarageFinish',\n",
       " 'GarageQual',\n",
       " 'GarageType',\n",
       " 'GarageYrBlt',\n",
       " 'GrLivArea',\n",
       " 'HalfBath',\n",
       " 'Heating',\n",
       " 'HeatingQC',\n",
       " 'HouseStyle',\n",
       " 'Id',\n",
       " 'KitchenAbvGr',\n",
       " 'KitchenQual',\n",
       " 'LandContour',\n",
       " 'LandSlope',\n",
       " 'LotArea',\n",
       " 'LotConfig',\n",
       " 'LotFrontage',\n",
       " 'LotShape',\n",
       " 'LowQualFinSF',\n",
       " 'MSSubClass',\n",
       " 'MSZoning',\n",
       " 'MasVnrArea',\n",
       " 'MasVnrType',\n",
       " 'MiscFeature',\n",
       " 'MiscVal',\n",
       " 'MoSold',\n",
       " 'Neighborhood',\n",
       " 'OpenPorchSF',\n",
       " 'OverallCond',\n",
       " 'OverallQual',\n",
       " 'PavedDrive',\n",
       " 'PoolArea',\n",
       " 'PoolQC',\n",
       " 'RoofMatl',\n",
       " 'RoofStyle',\n",
       " 'SaleCondition',\n",
       " 'SalePrice',\n",
       " 'SaleType',\n",
       " 'ScreenPorch',\n",
       " 'Street',\n",
       " 'TotRmsAbvGrd',\n",
       " 'TotalBsmtSF',\n",
       " 'Utilities',\n",
       " 'WoodDeckSF',\n",
       " 'YearBuilt',\n",
       " 'YearRemodAdd',\n",
       " 'YrSold',\n",
       " 'firstFlrSF',\n",
       " 'secondFlrSF',\n",
       " 'threeSsnPorch']"
      ]
     },
     "execution_count": 17,
     "metadata": {},
     "output_type": "execute_result"
    }
   ],
   "source": [
    "temp.columns"
   ]
  },
  {
   "cell_type": "markdown",
   "metadata": {},
   "source": [
    "##### Calculating Total Number of localities in our dataset"
   ]
  },
  {
   "cell_type": "code",
   "execution_count": 18,
   "metadata": {},
   "outputs": [
    {
     "data": {
      "text/plain": [
       "25"
      ]
     },
     "execution_count": 18,
     "metadata": {},
     "output_type": "execute_result"
    }
   ],
   "source": [
    "##Visualization 1--Total number of localities\n",
    "\n",
    "locality_count=temp.select('Neighborhood').distinct()\n",
    "locality_count.count()"
   ]
  },
  {
   "cell_type": "markdown",
   "metadata": {},
   "source": [
    "It can be clearly seen that our dataset contain information about 25 localities of Ames"
   ]
  },
  {
   "cell_type": "markdown",
   "metadata": {},
   "source": [
    "#### Let us now see the names of these localities"
   ]
  },
  {
   "cell_type": "code",
   "execution_count": 19,
   "metadata": {},
   "outputs": [
    {
     "data": {
      "text/html": [
       "<div>\n",
       "<table border=\"1\" class=\"dataframe\">\n",
       "  <thead>\n",
       "    <tr style=\"text-align: right;\">\n",
       "      <th></th>\n",
       "      <th>Neighborhood</th>\n",
       "    </tr>\n",
       "  </thead>\n",
       "  <tbody>\n",
       "    <tr>\n",
       "      <th>0</th>\n",
       "      <td>Veenker</td>\n",
       "    </tr>\n",
       "    <tr>\n",
       "      <th>1</th>\n",
       "      <td>NPkVill</td>\n",
       "    </tr>\n",
       "    <tr>\n",
       "      <th>2</th>\n",
       "      <td>Blmngtn</td>\n",
       "    </tr>\n",
       "    <tr>\n",
       "      <th>3</th>\n",
       "      <td>IDOTRR</td>\n",
       "    </tr>\n",
       "    <tr>\n",
       "      <th>4</th>\n",
       "      <td>MeadowV</td>\n",
       "    </tr>\n",
       "    <tr>\n",
       "      <th>5</th>\n",
       "      <td>Edwards</td>\n",
       "    </tr>\n",
       "    <tr>\n",
       "      <th>6</th>\n",
       "      <td>NWAmes</td>\n",
       "    </tr>\n",
       "    <tr>\n",
       "      <th>7</th>\n",
       "      <td>Gilbert</td>\n",
       "    </tr>\n",
       "    <tr>\n",
       "      <th>8</th>\n",
       "      <td>StoneBr</td>\n",
       "    </tr>\n",
       "    <tr>\n",
       "      <th>9</th>\n",
       "      <td>Sawyer</td>\n",
       "    </tr>\n",
       "    <tr>\n",
       "      <th>10</th>\n",
       "      <td>Mitchel</td>\n",
       "    </tr>\n",
       "    <tr>\n",
       "      <th>11</th>\n",
       "      <td>ClearCr</td>\n",
       "    </tr>\n",
       "    <tr>\n",
       "      <th>12</th>\n",
       "      <td>CollgCr</td>\n",
       "    </tr>\n",
       "    <tr>\n",
       "      <th>13</th>\n",
       "      <td>NoRidge</td>\n",
       "    </tr>\n",
       "    <tr>\n",
       "      <th>14</th>\n",
       "      <td>BrkSide</td>\n",
       "    </tr>\n",
       "    <tr>\n",
       "      <th>15</th>\n",
       "      <td>SawyerW</td>\n",
       "    </tr>\n",
       "    <tr>\n",
       "      <th>16</th>\n",
       "      <td>NridgHt</td>\n",
       "    </tr>\n",
       "    <tr>\n",
       "      <th>17</th>\n",
       "      <td>Crawfor</td>\n",
       "    </tr>\n",
       "    <tr>\n",
       "      <th>18</th>\n",
       "      <td>NAmes</td>\n",
       "    </tr>\n",
       "    <tr>\n",
       "      <th>19</th>\n",
       "      <td>BrDale</td>\n",
       "    </tr>\n",
       "    <tr>\n",
       "      <th>20</th>\n",
       "      <td>Somerst</td>\n",
       "    </tr>\n",
       "    <tr>\n",
       "      <th>21</th>\n",
       "      <td>Blueste</td>\n",
       "    </tr>\n",
       "    <tr>\n",
       "      <th>22</th>\n",
       "      <td>Timber</td>\n",
       "    </tr>\n",
       "    <tr>\n",
       "      <th>23</th>\n",
       "      <td>SWISU</td>\n",
       "    </tr>\n",
       "    <tr>\n",
       "      <th>24</th>\n",
       "      <td>OldTown</td>\n",
       "    </tr>\n",
       "  </tbody>\n",
       "</table>\n",
       "</div>"
      ],
      "text/plain": [
       "   Neighborhood\n",
       "0       Veenker\n",
       "1       NPkVill\n",
       "2       Blmngtn\n",
       "3        IDOTRR\n",
       "4       MeadowV\n",
       "5       Edwards\n",
       "6        NWAmes\n",
       "7       Gilbert\n",
       "8       StoneBr\n",
       "9        Sawyer\n",
       "10      Mitchel\n",
       "11      ClearCr\n",
       "12      CollgCr\n",
       "13      NoRidge\n",
       "14      BrkSide\n",
       "15      SawyerW\n",
       "16      NridgHt\n",
       "17      Crawfor\n",
       "18        NAmes\n",
       "19       BrDale\n",
       "20      Somerst\n",
       "21      Blueste\n",
       "22       Timber\n",
       "23        SWISU\n",
       "24      OldTown"
      ]
     },
     "execution_count": 19,
     "metadata": {},
     "output_type": "execute_result"
    }
   ],
   "source": [
    "##Visualization 2--Names of localities\n",
    "\n",
    "locality_name=temp.select('Neighborhood').distinct()\n",
    "locality_name=locality_name.toPandas()\n",
    "locality_name"
   ]
  },
  {
   "cell_type": "markdown",
   "metadata": {},
   "source": [
    "#### We now know number and names of the localities, let us now see, what is the average house price in these localities"
   ]
  },
  {
   "cell_type": "code",
   "execution_count": 20,
   "metadata": {
    "collapsed": true
   },
   "outputs": [],
   "source": [
    "##Visualization 3--Average house price per locality\n",
    "line=res.map(lambda x:Row(Neighborhood=x[57],SalePrice=float(x[67])))\n",
    "line=sqlcontext.createDataFrame(line)\n",
    "price_locality=line.groupBy('Neighborhood').avg('SalePrice').orderBy('avg(SalePrice)', ascending=False)\n",
    "price_locality=price_locality.toPandas()\n",
    "price_locality.columns=['Neighborhood','Average Price']"
   ]
  },
  {
   "cell_type": "code",
   "execution_count": 21,
   "metadata": {},
   "outputs": [
    {
     "data": {
      "text/html": [
       "<div>\n",
       "<table border=\"1\" class=\"dataframe\">\n",
       "  <thead>\n",
       "    <tr style=\"text-align: right;\">\n",
       "      <th></th>\n",
       "      <th>Neighborhood</th>\n",
       "      <th>Average Price</th>\n",
       "    </tr>\n",
       "  </thead>\n",
       "  <tbody>\n",
       "    <tr>\n",
       "      <th>0</th>\n",
       "      <td>NoRidge</td>\n",
       "      <td>335295.317073</td>\n",
       "    </tr>\n",
       "    <tr>\n",
       "      <th>1</th>\n",
       "      <td>NridgHt</td>\n",
       "      <td>316270.623377</td>\n",
       "    </tr>\n",
       "    <tr>\n",
       "      <th>2</th>\n",
       "      <td>StoneBr</td>\n",
       "      <td>310499.000000</td>\n",
       "    </tr>\n",
       "    <tr>\n",
       "      <th>3</th>\n",
       "      <td>Timber</td>\n",
       "      <td>242247.447368</td>\n",
       "    </tr>\n",
       "    <tr>\n",
       "      <th>4</th>\n",
       "      <td>Veenker</td>\n",
       "      <td>238772.727273</td>\n",
       "    </tr>\n",
       "    <tr>\n",
       "      <th>5</th>\n",
       "      <td>Somerst</td>\n",
       "      <td>225379.837209</td>\n",
       "    </tr>\n",
       "    <tr>\n",
       "      <th>6</th>\n",
       "      <td>ClearCr</td>\n",
       "      <td>212565.428571</td>\n",
       "    </tr>\n",
       "    <tr>\n",
       "      <th>7</th>\n",
       "      <td>Crawfor</td>\n",
       "      <td>210624.725490</td>\n",
       "    </tr>\n",
       "    <tr>\n",
       "      <th>8</th>\n",
       "      <td>CollgCr</td>\n",
       "      <td>197965.773333</td>\n",
       "    </tr>\n",
       "    <tr>\n",
       "      <th>9</th>\n",
       "      <td>Blmngtn</td>\n",
       "      <td>194870.882353</td>\n",
       "    </tr>\n",
       "    <tr>\n",
       "      <th>10</th>\n",
       "      <td>Gilbert</td>\n",
       "      <td>192854.506329</td>\n",
       "    </tr>\n",
       "    <tr>\n",
       "      <th>11</th>\n",
       "      <td>NWAmes</td>\n",
       "      <td>189050.068493</td>\n",
       "    </tr>\n",
       "    <tr>\n",
       "      <th>12</th>\n",
       "      <td>SawyerW</td>\n",
       "      <td>186555.796610</td>\n",
       "    </tr>\n",
       "    <tr>\n",
       "      <th>13</th>\n",
       "      <td>Mitchel</td>\n",
       "      <td>156270.122449</td>\n",
       "    </tr>\n",
       "    <tr>\n",
       "      <th>14</th>\n",
       "      <td>NAmes</td>\n",
       "      <td>145847.080000</td>\n",
       "    </tr>\n",
       "    <tr>\n",
       "      <th>15</th>\n",
       "      <td>NPkVill</td>\n",
       "      <td>142694.444444</td>\n",
       "    </tr>\n",
       "    <tr>\n",
       "      <th>16</th>\n",
       "      <td>SWISU</td>\n",
       "      <td>142591.360000</td>\n",
       "    </tr>\n",
       "    <tr>\n",
       "      <th>17</th>\n",
       "      <td>Blueste</td>\n",
       "      <td>137500.000000</td>\n",
       "    </tr>\n",
       "    <tr>\n",
       "      <th>18</th>\n",
       "      <td>Sawyer</td>\n",
       "      <td>136793.135135</td>\n",
       "    </tr>\n",
       "    <tr>\n",
       "      <th>19</th>\n",
       "      <td>OldTown</td>\n",
       "      <td>128225.300885</td>\n",
       "    </tr>\n",
       "    <tr>\n",
       "      <th>20</th>\n",
       "      <td>Edwards</td>\n",
       "      <td>128219.700000</td>\n",
       "    </tr>\n",
       "    <tr>\n",
       "      <th>21</th>\n",
       "      <td>BrkSide</td>\n",
       "      <td>124834.051724</td>\n",
       "    </tr>\n",
       "    <tr>\n",
       "      <th>22</th>\n",
       "      <td>BrDale</td>\n",
       "      <td>104493.750000</td>\n",
       "    </tr>\n",
       "    <tr>\n",
       "      <th>23</th>\n",
       "      <td>IDOTRR</td>\n",
       "      <td>100123.783784</td>\n",
       "    </tr>\n",
       "    <tr>\n",
       "      <th>24</th>\n",
       "      <td>MeadowV</td>\n",
       "      <td>98576.470588</td>\n",
       "    </tr>\n",
       "  </tbody>\n",
       "</table>\n",
       "</div>"
      ],
      "text/plain": [
       "   Neighborhood  Average Price\n",
       "0       NoRidge  335295.317073\n",
       "1       NridgHt  316270.623377\n",
       "2       StoneBr  310499.000000\n",
       "3        Timber  242247.447368\n",
       "4       Veenker  238772.727273\n",
       "5       Somerst  225379.837209\n",
       "6       ClearCr  212565.428571\n",
       "7       Crawfor  210624.725490\n",
       "8       CollgCr  197965.773333\n",
       "9       Blmngtn  194870.882353\n",
       "10      Gilbert  192854.506329\n",
       "11       NWAmes  189050.068493\n",
       "12      SawyerW  186555.796610\n",
       "13      Mitchel  156270.122449\n",
       "14        NAmes  145847.080000\n",
       "15      NPkVill  142694.444444\n",
       "16        SWISU  142591.360000\n",
       "17      Blueste  137500.000000\n",
       "18       Sawyer  136793.135135\n",
       "19      OldTown  128225.300885\n",
       "20      Edwards  128219.700000\n",
       "21      BrkSide  124834.051724\n",
       "22       BrDale  104493.750000\n",
       "23       IDOTRR  100123.783784\n",
       "24      MeadowV   98576.470588"
      ]
     },
     "execution_count": 21,
     "metadata": {},
     "output_type": "execute_result"
    }
   ],
   "source": [
    "price_locality"
   ]
  },
  {
   "cell_type": "code",
   "execution_count": 22,
   "metadata": {
    "scrolled": true
   },
   "outputs": [
    {
     "data": {
      "image/png": "[encoded data removed]",
      "text/plain": [
       "<matplotlib.figure.Figure at 0x7f7304094590>"
      ]
     },
     "metadata": {},
     "output_type": "display_data"
    }
   ],
   "source": [
    "# Plotting the above results on graph\n",
    "\n",
    "plt.figure(figsize=(10,8))\n",
    "ax1=sns.barplot(x='Neighborhood', y='Average Price', data=price_locality)\n",
    "ax1.set_xticklabels(ax1.get_xticklabels(), rotation=60, ha=\"right\")\n",
    "\n",
    "plt.show()"
   ]
  },
  {
   "cell_type": "markdown",
   "metadata": {},
   "source": [
    "It can be clearly seen that average house price in NoRidge is greatest followed by NridgHt, StoneBr"
   ]
  },
  {
   "cell_type": "markdown",
   "metadata": {},
   "source": [
    "#### We now know NoRidge is most expensive, is it also highest rated too?"
   ]
  },
  {
   "cell_type": "code",
   "execution_count": 23,
   "metadata": {
    "collapsed": true
   },
   "outputs": [],
   "source": [
    "####Visualization 4-- Highest Rated Quality Locality\n",
    "\n",
    "\n",
    "line=res.map(lambda x:Row(Neighborhood=x[57],Quality_Rating=int(x[60])))\n",
    "line=sqlcontext.createDataFrame(line)\n",
    "quality_locality=line.groupBy('Neighborhood').avg('Quality_Rating').orderBy('avg(Quality_Rating)', ascending=False)\n",
    "quality_locality=quality_locality.toPandas()\n",
    "quality_locality.columns=['Neighborhood','Quality_Rating']"
   ]
  },
  {
   "cell_type": "code",
   "execution_count": 24,
   "metadata": {},
   "outputs": [
    {
     "data": {
      "image/png": "[encoded data removed]",
      "text/plain": [
       "<matplotlib.figure.Figure at 0x7f730185e2d0>"
      ]
     },
     "metadata": {},
     "output_type": "display_data"
    }
   ],
   "source": [
    "# Plotting the above results on graph\n",
    "\n",
    "plt.figure(figsize=(10,8))\n",
    "ax1=sns.barplot(x='Neighborhood', y='Quality_Rating', data=quality_locality)\n",
    "ax1.set_xticklabels(ax1.get_xticklabels(), rotation=60, ha=\"right\")\n",
    "plt.show()"
   ]
  },
  {
   "cell_type": "markdown",
   "metadata": {},
   "source": [
    "It tuns out NoRidge is not highest rated but NridgHt is."
   ]
  },
  {
   "cell_type": "markdown",
   "metadata": {},
   "source": [
    "#### Let us now see, how the house style varies among different localities"
   ]
  },
  {
   "cell_type": "code",
   "execution_count": 25,
   "metadata": {
    "collapsed": true
   },
   "outputs": [],
   "source": [
    "###Visualization 5--Average house price for different House Styles for various localities, in order to avoid clutter we have set a \n",
    "#limit\n",
    "\n",
    "line=res.map(lambda x:Row(Neighborhood=x[57],HouseStyle=x[39],SalePrice=int(x[67])))\n",
    "line=sqlcontext.createDataFrame(line)\n",
    "price_locality_Housestyle=line.groupBy('Neighborhood','HouseStyle').avg('SalePrice').orderBy('Neighborhood', ascending=False).limit(20)\n",
    "price_locality_Housestyle=price_locality_Housestyle.toPandas()\n",
    "price_locality_Housestyle.columns=['Neighborhood','HouseStyle','Average Sales Price']"
   ]
  },
  {
   "cell_type": "code",
   "execution_count": 26,
   "metadata": {},
   "outputs": [
    {
     "data": {
      "image/png": "[encoded data removed]",
      "text/plain": [
       "<matplotlib.figure.Figure at 0x7f73017c0dd0>"
      ]
     },
     "metadata": {},
     "output_type": "display_data"
    }
   ],
   "source": [
    "# Plotting the above results on graph\n",
    "\n",
    "plt.figure(figsize=(18,8))\n",
    "ax1 = sns.barplot(x='HouseStyle', y=\"Average Sales Price\", data=price_locality_Housestyle,hue='Neighborhood')\n",
    "ax1.set_xticklabels(ax1.get_xticklabels(), rotation=60,ha=\"center\")\n",
    "plt.show()\n"
   ]
  },
  {
   "cell_type": "markdown",
   "metadata": {},
   "source": [
    "#### Now we want see the average area for a particular type of house in various localities"
   ]
  },
  {
   "cell_type": "code",
   "execution_count": 27,
   "metadata": {},
   "outputs": [
    {
     "data": {
      "text/html": [
       "<div>\n",
       "<table border=\"1\" class=\"dataframe\">\n",
       "  <thead>\n",
       "    <tr style=\"text-align: right;\">\n",
       "      <th></th>\n",
       "      <th>Neighborhood</th>\n",
       "      <th>HouseStyle</th>\n",
       "      <th>Average Living Area</th>\n",
       "    </tr>\n",
       "  </thead>\n",
       "  <tbody>\n",
       "    <tr>\n",
       "      <th>0</th>\n",
       "      <td>Veenker</td>\n",
       "      <td>1Story</td>\n",
       "      <td>1435.250000</td>\n",
       "    </tr>\n",
       "    <tr>\n",
       "      <th>1</th>\n",
       "      <td>Veenker</td>\n",
       "      <td>2Story</td>\n",
       "      <td>2167.000000</td>\n",
       "    </tr>\n",
       "    <tr>\n",
       "      <th>2</th>\n",
       "      <td>Veenker</td>\n",
       "      <td>SLvl</td>\n",
       "      <td>1643.500000</td>\n",
       "    </tr>\n",
       "    <tr>\n",
       "      <th>3</th>\n",
       "      <td>Timber</td>\n",
       "      <td>SLvl</td>\n",
       "      <td>1348.250000</td>\n",
       "    </tr>\n",
       "    <tr>\n",
       "      <th>4</th>\n",
       "      <td>Timber</td>\n",
       "      <td>1.5Fin</td>\n",
       "      <td>1751.500000</td>\n",
       "    </tr>\n",
       "    <tr>\n",
       "      <th>5</th>\n",
       "      <td>Timber</td>\n",
       "      <td>1Story</td>\n",
       "      <td>1677.608696</td>\n",
       "    </tr>\n",
       "    <tr>\n",
       "      <th>6</th>\n",
       "      <td>Timber</td>\n",
       "      <td>2Story</td>\n",
       "      <td>2110.555556</td>\n",
       "    </tr>\n",
       "    <tr>\n",
       "      <th>7</th>\n",
       "      <td>StoneBr</td>\n",
       "      <td>1Story</td>\n",
       "      <td>1608.222222</td>\n",
       "    </tr>\n",
       "    <tr>\n",
       "      <th>8</th>\n",
       "      <td>StoneBr</td>\n",
       "      <td>2Story</td>\n",
       "      <td>2575.571429</td>\n",
       "    </tr>\n",
       "    <tr>\n",
       "      <th>9</th>\n",
       "      <td>Somerst</td>\n",
       "      <td>2Story</td>\n",
       "      <td>1652.489796</td>\n",
       "    </tr>\n",
       "    <tr>\n",
       "      <th>10</th>\n",
       "      <td>Somerst</td>\n",
       "      <td>1Story</td>\n",
       "      <td>1522.702703</td>\n",
       "    </tr>\n",
       "    <tr>\n",
       "      <th>11</th>\n",
       "      <td>SawyerW</td>\n",
       "      <td>1.5Unf</td>\n",
       "      <td>784.000000</td>\n",
       "    </tr>\n",
       "    <tr>\n",
       "      <th>12</th>\n",
       "      <td>SawyerW</td>\n",
       "      <td>1.5Fin</td>\n",
       "      <td>2132.000000</td>\n",
       "    </tr>\n",
       "    <tr>\n",
       "      <th>13</th>\n",
       "      <td>SawyerW</td>\n",
       "      <td>SLvl</td>\n",
       "      <td>1644.000000</td>\n",
       "    </tr>\n",
       "    <tr>\n",
       "      <th>14</th>\n",
       "      <td>SawyerW</td>\n",
       "      <td>1Story</td>\n",
       "      <td>1316.785714</td>\n",
       "    </tr>\n",
       "    <tr>\n",
       "      <th>15</th>\n",
       "      <td>SawyerW</td>\n",
       "      <td>SFoyer</td>\n",
       "      <td>1034.666667</td>\n",
       "    </tr>\n",
       "    <tr>\n",
       "      <th>16</th>\n",
       "      <td>SawyerW</td>\n",
       "      <td>2Story</td>\n",
       "      <td>1982.880000</td>\n",
       "    </tr>\n",
       "    <tr>\n",
       "      <th>17</th>\n",
       "      <td>Sawyer</td>\n",
       "      <td>1Story</td>\n",
       "      <td>1143.113208</td>\n",
       "    </tr>\n",
       "    <tr>\n",
       "      <th>18</th>\n",
       "      <td>Sawyer</td>\n",
       "      <td>2Story</td>\n",
       "      <td>1460.000000</td>\n",
       "    </tr>\n",
       "    <tr>\n",
       "      <th>19</th>\n",
       "      <td>Sawyer</td>\n",
       "      <td>1.5Fin</td>\n",
       "      <td>1746.600000</td>\n",
       "    </tr>\n",
       "    <tr>\n",
       "      <th>20</th>\n",
       "      <td>Sawyer</td>\n",
       "      <td>SLvl</td>\n",
       "      <td>1311.400000</td>\n",
       "    </tr>\n",
       "    <tr>\n",
       "      <th>21</th>\n",
       "      <td>Sawyer</td>\n",
       "      <td>SFoyer</td>\n",
       "      <td>1124.166667</td>\n",
       "    </tr>\n",
       "    <tr>\n",
       "      <th>22</th>\n",
       "      <td>SWISU</td>\n",
       "      <td>1Story</td>\n",
       "      <td>614.000000</td>\n",
       "    </tr>\n",
       "    <tr>\n",
       "      <th>23</th>\n",
       "      <td>SWISU</td>\n",
       "      <td>1.5Fin</td>\n",
       "      <td>1702.583333</td>\n",
       "    </tr>\n",
       "    <tr>\n",
       "      <th>24</th>\n",
       "      <td>SWISU</td>\n",
       "      <td>2.5Fin</td>\n",
       "      <td>2724.750000</td>\n",
       "    </tr>\n",
       "    <tr>\n",
       "      <th>25</th>\n",
       "      <td>SWISU</td>\n",
       "      <td>2Story</td>\n",
       "      <td>1781.857143</td>\n",
       "    </tr>\n",
       "    <tr>\n",
       "      <th>26</th>\n",
       "      <td>OldTown</td>\n",
       "      <td>1.5Fin</td>\n",
       "      <td>1504.272727</td>\n",
       "    </tr>\n",
       "    <tr>\n",
       "      <th>27</th>\n",
       "      <td>OldTown</td>\n",
       "      <td>2Story</td>\n",
       "      <td>1757.343750</td>\n",
       "    </tr>\n",
       "    <tr>\n",
       "      <th>28</th>\n",
       "      <td>OldTown</td>\n",
       "      <td>2.5Unf</td>\n",
       "      <td>2011.625000</td>\n",
       "    </tr>\n",
       "    <tr>\n",
       "      <th>29</th>\n",
       "      <td>OldTown</td>\n",
       "      <td>2.5Fin</td>\n",
       "      <td>3110.000000</td>\n",
       "    </tr>\n",
       "  </tbody>\n",
       "</table>\n",
       "</div>"
      ],
      "text/plain": [
       "   Neighborhood HouseStyle  Average Living Area\n",
       "0       Veenker     1Story          1435.250000\n",
       "1       Veenker     2Story          2167.000000\n",
       "2       Veenker       SLvl          1643.500000\n",
       "3        Timber       SLvl          1348.250000\n",
       "4        Timber     1.5Fin          1751.500000\n",
       "5        Timber     1Story          1677.608696\n",
       "6        Timber     2Story          2110.555556\n",
       "7       StoneBr     1Story          1608.222222\n",
       "8       StoneBr     2Story          2575.571429\n",
       "9       Somerst     2Story          1652.489796\n",
       "10      Somerst     1Story          1522.702703\n",
       "11      SawyerW     1.5Unf           784.000000\n",
       "12      SawyerW     1.5Fin          2132.000000\n",
       "13      SawyerW       SLvl          1644.000000\n",
       "14      SawyerW     1Story          1316.785714\n",
       "15      SawyerW     SFoyer          1034.666667\n",
       "16      SawyerW     2Story          1982.880000\n",
       "17       Sawyer     1Story          1143.113208\n",
       "18       Sawyer     2Story          1460.000000\n",
       "19       Sawyer     1.5Fin          1746.600000\n",
       "20       Sawyer       SLvl          1311.400000\n",
       "21       Sawyer     SFoyer          1124.166667\n",
       "22        SWISU     1Story           614.000000\n",
       "23        SWISU     1.5Fin          1702.583333\n",
       "24        SWISU     2.5Fin          2724.750000\n",
       "25        SWISU     2Story          1781.857143\n",
       "26      OldTown     1.5Fin          1504.272727\n",
       "27      OldTown     2Story          1757.343750\n",
       "28      OldTown     2.5Unf          2011.625000\n",
       "29      OldTown     2.5Fin          3110.000000"
      ]
     },
     "execution_count": 27,
     "metadata": {},
     "output_type": "execute_result"
    }
   ],
   "source": [
    "##Visualization 6--Average Area for various house styles per location\n",
    "\n",
    "line=res.map(lambda x:Row(Neighborhood=x[57],HouseStyle=x[39],GrLivArea=int(x[35])))\n",
    "line=sqlcontext.createDataFrame(line)\n",
    "area_locality_Housestyle=line.groupBy('Neighborhood','HouseStyle').avg('GrLivArea').orderBy('Neighborhood', ascending=False).limit(30)\n",
    "area_locality_Housestyle=area_locality_Housestyle.toPandas()\n",
    "area_locality_Housestyle.columns=['Neighborhood','HouseStyle','Average Living Area']\n",
    "area_locality_Housestyle"
   ]
  },
  {
   "cell_type": "code",
   "execution_count": 28,
   "metadata": {},
   "outputs": [
    {
     "data": {
      "image/png": "[encoded data removed]",
      "text/plain": [
       "<matplotlib.figure.Figure at 0x7f731689d050>"
      ]
     },
     "metadata": {},
     "output_type": "display_data"
    }
   ],
   "source": [
    "# Plotting the above results on graph\n",
    "\n",
    "plt.figure(figsize=(18,8))\n",
    "ax1 = sns.barplot(x='HouseStyle', y=\"Average Living Area\", data=area_locality_Housestyle,hue='Neighborhood')\n",
    "ax1.set_xticklabels(ax1.get_xticklabels(), rotation=60, ha=\"right\")\n",
    "plt.show()"
   ]
  },
  {
   "cell_type": "markdown",
   "metadata": {},
   "source": [
    "# Identifying columns with NA Values"
   ]
  },
  {
   "cell_type": "code",
   "execution_count": 29,
   "metadata": {},
   "outputs": [
    {
     "data": {
      "text/plain": [
       "1369"
      ]
     },
     "execution_count": 29,
     "metadata": {},
     "output_type": "execute_result"
    }
   ],
   "source": [
    "#Aashish\n",
    "temp.filter(temp['Alley']=='NA').count()"
   ]
  },
  {
   "cell_type": "code",
   "execution_count": 30,
   "metadata": {
    "collapsed": true
   },
   "outputs": [],
   "source": [
    "#Creating a dictionary and filtering NA values\n",
    "temp_dict={}\n",
    "for col in temp.columns:\n",
    "    temp_dict[col]=temp.filter(temp[col]=='NA').count()"
   ]
  },
  {
   "cell_type": "code",
   "execution_count": 31,
   "metadata": {},
   "outputs": [
    {
     "data": {
      "text/plain": [
       "('MasVnrType', 8)"
      ]
     },
     "execution_count": 31,
     "metadata": {},
     "output_type": "execute_result"
    }
   ],
   "source": [
    "temp_dict.items()[0]"
   ]
  },
  {
   "cell_type": "code",
   "execution_count": 32,
   "metadata": {
    "collapsed": true
   },
   "outputs": [],
   "source": [
    "#Creating Dirty,Drop and Good columns\n",
    "drop_columns=[]\n",
    "dirty_columns=[]\n",
    "good_columns=[]\n",
    "for item in temp_dict.items():\n",
    "    if item[1]>689:\n",
    "        temp=temp.drop(item[0])\n",
    "        drop_columns.append(item[0])\n",
    "    elif item[1]==0:\n",
    "        good_columns.append(item[0])\n",
    "    else:\n",
    "        dirty_columns.append(item[0])\n",
    "        "
   ]
  },
  {
   "cell_type": "code",
   "execution_count": 33,
   "metadata": {},
   "outputs": [
    {
     "data": {
      "text/plain": [
       "['MiscFeature', 'PoolQC', 'FireplaceQu', 'Fence', 'Alley']"
      ]
     },
     "execution_count": 33,
     "metadata": {},
     "output_type": "execute_result"
    }
   ],
   "source": [
    "drop_columns"
   ]
  },
  {
   "cell_type": "code",
   "execution_count": 34,
   "metadata": {},
   "outputs": [
    {
     "data": {
      "text/plain": [
       "['MasVnrType',\n",
       " 'GarageQual',\n",
       " 'GarageFinish',\n",
       " 'GarageYrBlt',\n",
       " 'Electrical',\n",
       " 'BsmtQual',\n",
       " 'BsmtExposure',\n",
       " 'MasVnrArea',\n",
       " 'GarageCond',\n",
       " 'BsmtCond',\n",
       " 'LotFrontage',\n",
       " 'BsmtFinType2',\n",
       " 'BsmtFinType1',\n",
       " 'GarageType']"
      ]
     },
     "execution_count": 34,
     "metadata": {},
     "output_type": "execute_result"
    }
   ],
   "source": [
    "dirty_columns"
   ]
  },
  {
   "cell_type": "code",
   "execution_count": 35,
   "metadata": {
    "collapsed": true
   },
   "outputs": [],
   "source": [
    "#Based on the dirty columns cleaning the NA values within the dataset.\n",
    "\n",
    "temp.registerTempTable(\"new_temp\")\n",
    "\n",
    "t1=sqlcontext.sql(\"select * from new_temp where MasVnrType!='NA'\")\n",
    "\n",
    "t1.registerTempTable(\"new_temp\")\n",
    "\n",
    "t1=sqlcontext.sql(\"select * from new_temp where GarageQual!='NA'\")\n",
    "\n",
    "t1.registerTempTable(\"new_temp\")\n",
    "\n",
    "t1=sqlcontext.sql(\"select * from new_temp where GarageFinish!='NA'\")\n",
    "\n",
    "t1.registerTempTable(\"new_temp\")\n",
    "t1=sqlcontext.sql(\"select * from new_temp where GarageYrBlt!='NA'\")\n",
    "\n",
    "t1.registerTempTable(\"new_temp\")\n",
    "t1=sqlcontext.sql(\"select * from new_temp where Electrical!='NA'\")\n",
    "\n",
    "t1.registerTempTable(\"new_temp\")\n",
    "t1=sqlcontext.sql(\"select * from new_temp where BsmtQual!='NA'\")\n",
    "\n",
    "t1.registerTempTable(\"new_temp\")\n",
    "t1=sqlcontext.sql(\"select * from new_temp where BsmtExposure!='NA'\")\n",
    "\n",
    "t1.registerTempTable(\"new_temp\")\n",
    "t1=sqlcontext.sql(\"select * from new_temp where MasVnrArea!='NA'\")\n",
    "\n",
    "t1.registerTempTable(\"new_temp\")\n",
    "t1=sqlcontext.sql(\"select * from new_temp where GarageCond!='NA'\")\n",
    "\n",
    "t1.registerTempTable(\"new_temp\")\n",
    "t1=sqlcontext.sql(\"select * from new_temp where BsmtFinType1!='NA'\")\n",
    "\n",
    "t1.registerTempTable(\"new_temp\")\n",
    "t1=sqlcontext.sql(\"select * from new_temp where BsmtFinType2!='NA'\")\n",
    "\n",
    "t1.registerTempTable(\"new_temp\")\n",
    "t1=sqlcontext.sql(\"select * from new_temp where GarageType!='NA'\")"
   ]
  },
  {
   "cell_type": "code",
   "execution_count": 36,
   "metadata": {
    "collapsed": true
   },
   "outputs": [],
   "source": [
    "temp_dict2={}\n",
    "for col in t1.columns:\n",
    "    temp_dict2[col]=t1.filter(t1[col]=='NA').count()"
   ]
  },
  {
   "cell_type": "code",
   "execution_count": 37,
   "metadata": {
    "collapsed": true
   },
   "outputs": [],
   "source": [
    "t1=t1.drop('LotFrontage')"
   ]
  },
  {
   "cell_type": "code",
   "execution_count": 38,
   "metadata": {},
   "outputs": [
    {
     "data": {
      "text/html": [
       "<div>\n",
       "<table border=\"1\" class=\"dataframe\">\n",
       "  <thead>\n",
       "    <tr style=\"text-align: right;\">\n",
       "      <th></th>\n",
       "      <th>YearRemodAdd</th>\n",
       "      <th>YrSold</th>\n",
       "      <th>firstFlrSF</th>\n",
       "      <th>secondFlrSF</th>\n",
       "      <th>threeSsnPorch</th>\n",
       "    </tr>\n",
       "  </thead>\n",
       "  <tbody>\n",
       "    <tr>\n",
       "      <th>0</th>\n",
       "      <td>1999</td>\n",
       "      <td>2006</td>\n",
       "      <td>1588</td>\n",
       "      <td>0</td>\n",
       "      <td>0</td>\n",
       "    </tr>\n",
       "    <tr>\n",
       "      <th>1</th>\n",
       "      <td>1996</td>\n",
       "      <td>2009</td>\n",
       "      <td>804</td>\n",
       "      <td>670</td>\n",
       "      <td>0</td>\n",
       "    </tr>\n",
       "    <tr>\n",
       "      <th>2</th>\n",
       "      <td>1964</td>\n",
       "      <td>2008</td>\n",
       "      <td>798</td>\n",
       "      <td>813</td>\n",
       "      <td>0</td>\n",
       "    </tr>\n",
       "    <tr>\n",
       "      <th>3</th>\n",
       "      <td>2002</td>\n",
       "      <td>2009</td>\n",
       "      <td>630</td>\n",
       "      <td>0</td>\n",
       "      <td>0</td>\n",
       "    </tr>\n",
       "    <tr>\n",
       "      <th>4</th>\n",
       "      <td>1970</td>\n",
       "      <td>2009</td>\n",
       "      <td>1687</td>\n",
       "      <td>998</td>\n",
       "      <td>0</td>\n",
       "    </tr>\n",
       "  </tbody>\n",
       "</table>\n",
       "</div>"
      ],
      "text/plain": [
       "  YearRemodAdd YrSold firstFlrSF secondFlrSF threeSsnPorch\n",
       "0         1999   2006       1588           0             0\n",
       "1         1996   2009        804         670             0\n",
       "2         1964   2008        798         813             0\n",
       "3         2002   2009        630           0             0\n",
       "4         1970   2009       1687         998             0"
      ]
     },
     "execution_count": 38,
     "metadata": {},
     "output_type": "execute_result"
    }
   ],
   "source": [
    "t1.toPandas().iloc[0:5,70:]"
   ]
  },
  {
   "cell_type": "markdown",
   "metadata": {},
   "source": [
    "# Preprocessing the data and Value Encoding"
   ]
  },
  {
   "cell_type": "code",
   "execution_count": 39,
   "metadata": {
    "collapsed": true
   },
   "outputs": [],
   "source": [
    "# Getting Numerical Columns from the Spark Dataframe\n",
    "num_cols=['BedroomAbvGr','BsmtFinSF1','BsmtFinSF2','BsmtFullBath','BsmtHalfBath','BsmtUnfSF','EnclosedPorch',' \tFireplaces','FullBath','GarageArea','GarageCars','HalfBath','KitchenAbvGr','LotArea','LowQualFinSF','MSSubClass','MasVnrArea','MiscVal','MoSold','OpenPorchSF','OverallCond','OverallQual','PoolArea','SalePrice','ScreenPorch','TotRmsAbvGrd','TotalBsmtSF','WoodDeckSF','firstFlrSF','secondFlrSF','threeSsnPorch']"
   ]
  },
  {
   "cell_type": "code",
   "execution_count": 40,
   "metadata": {
    "collapsed": true
   },
   "outputs": [],
   "source": [
    "#temp.registerTempTable(\"new_temp\")\n",
    "#clean_temp=sqlcontext.sql(\"select * from (select * from new_temp where MasVnrType!='NA') as s where s.Electrical!='NA'\")"
   ]
  },
  {
   "cell_type": "code",
   "execution_count": 41,
   "metadata": {
    "collapsed": true
   },
   "outputs": [],
   "source": [
    "#Generating a list of Categorical columns\n",
    "categoricalcols=[]\n",
    "for col in t1.columns:\n",
    "    if col in num_cols:\n",
    "        pass\n",
    "    else:\n",
    "        categoricalcols.append(col)"
   ]
  },
  {
   "cell_type": "markdown",
   "metadata": {},
   "source": [
    "# ENCODING"
   ]
  },
  {
   "cell_type": "code",
   "execution_count": 42,
   "metadata": {
    "collapsed": true
   },
   "outputs": [],
   "source": [
    "from pyspark.sql.types import DoubleType\n",
    "from pyspark.ml.feature import StringIndexer"
   ]
  },
  {
   "cell_type": "code",
   "execution_count": 43,
   "metadata": {
    "collapsed": true
   },
   "outputs": [],
   "source": [
    "flag=0\n",
    "for col in categoricalcols:\n",
    "    if flag != 1:\n",
    "        indexer = StringIndexer(inputCol=col, outputCol=col+\"_categorical\").fit(t1)\n",
    "        indexed_df = indexer.transform(t1)\n",
    "        #indexed_df.drop(\"bar\").show()\n",
    "        #indexed_df.toPandas()\n",
    "        flag=1\n",
    "    else:\n",
    "        indexer = StringIndexer(inputCol=col, outputCol=col+\"_categorical\").fit(indexed_df)\n",
    "        indexed_df = indexer.transform(indexed_df)"
   ]
  },
  {
   "cell_type": "code",
   "execution_count": 44,
   "metadata": {
    "collapsed": true
   },
   "outputs": [],
   "source": [
    "df=indexed_df.toPandas()"
   ]
  },
  {
   "cell_type": "code",
   "execution_count": 45,
   "metadata": {},
   "outputs": [
    {
     "data": {
      "text/plain": [
       "120"
      ]
     },
     "execution_count": 45,
     "metadata": {},
     "output_type": "execute_result"
    }
   ],
   "source": [
    "len(indexed_df.columns)"
   ]
  },
  {
   "cell_type": "code",
   "execution_count": 46,
   "metadata": {
    "collapsed": true
   },
   "outputs": [],
   "source": [
    "#indexed_df.select(['MSZoning_categorical','MSZoning']).distinct().toPandas()"
   ]
  },
  {
   "cell_type": "code",
   "execution_count": 47,
   "metadata": {
    "collapsed": true
   },
   "outputs": [],
   "source": [
    "#Converting columns from string to Float which are of type string in the dataframe.\n",
    "from pyspark.sql.functions import expr\n",
    "\n",
    "\n",
    "indexed_df=indexed_df.withColumn(\"BedroomAbvGr\", expr(\"CAST(BedroomAbvGr AS FLOAT)\"))\n",
    "indexed_df=indexed_df.withColumn(\"BsmtFinSF1\", expr(\"CAST(BsmtFinSF1 AS FLOAT)\"))\n",
    "indexed_df=indexed_df.withColumn(\"BsmtFinSF2\", expr(\"CAST(BsmtFinSF2 AS FLOAT)\"))\n",
    "indexed_df=indexed_df.withColumn(\"BsmtHalfBath\", expr(\"CAST(BsmtHalfBath AS FLOAT)\"))\n",
    "\n",
    "\n",
    "indexed_df=indexed_df.withColumn(\"BsmtFullBath\", expr(\"CAST(BsmtFullBath AS FLOAT)\"))\n",
    "indexed_df=indexed_df.withColumn(\"BsmtUnfSF\", expr(\"CAST(BsmtUnfSF AS FLOAT)\"))\n",
    "indexed_df=indexed_df.withColumn(\"EnclosedPorch\", expr(\"CAST(EnclosedPorch AS FLOAT)\"))\n",
    "indexed_df=indexed_df.withColumn(\"Fireplaces\", expr(\"CAST(Fireplaces AS FLOAT)\"))\n",
    "indexed_df=indexed_df.withColumn(\"FullBath\", expr(\"CAST(FullBath AS FLOAT)\"))\n",
    "\n",
    "indexed_df=indexed_df.withColumn(\"GarageArea\", expr(\"CAST(GarageArea AS FLOAT)\"))\n",
    "indexed_df=indexed_df.withColumn(\"GarageCars\", expr(\"CAST(GarageCars AS FLOAT)\"))\n",
    "indexed_df=indexed_df.withColumn(\"HalfBath\", expr(\"CAST(HalfBath AS FLOAT)\"))\n",
    "indexed_df=indexed_df.withColumn(\"KitchenAbvGr\", expr(\"CAST(KitchenAbvGr AS FLOAT)\"))\n",
    "\n",
    "indexed_df=indexed_df.withColumn(\"LotArea\", expr(\"CAST(LotArea AS FLOAT)\"))\n",
    "indexed_df=indexed_df.withColumn(\"LowQualFinSF\", expr(\"CAST(LowQualFinSF AS FLOAT)\"))\n",
    "indexed_df=indexed_df.withColumn(\"MSSubClass\", expr(\"CAST(MSSubClass AS FLOAT)\"))\n",
    "\n",
    "indexed_df=indexed_df.withColumn(\"MasVnrArea\", expr(\"CAST(MasVnrArea AS FLOAT)\"))\n",
    "indexed_df=indexed_df.withColumn(\"MoSold\", expr(\"CAST(MoSold AS FLOAT)\"))\n",
    "indexed_df=indexed_df.withColumn(\"OverallCond\", expr(\"CAST(OverallCond AS FLOAT)\"))\n",
    "indexed_df=indexed_df.withColumn(\"OverallQual\", expr(\"CAST(OverallQual AS FLOAT)\"))\n",
    "indexed_df=indexed_df.withColumn(\"MiscVal\", expr(\"CAST(MiscVal AS FLOAT)\"))\n",
    "indexed_df=indexed_df.withColumn(\"OpenPorchSF\", expr(\"CAST(OpenPorchSF AS FLOAT)\"))\n",
    "indexed_df=indexed_df.withColumn(\"PoolArea\", expr(\"CAST(PoolArea AS FLOAT)\"))\n",
    "indexed_df=indexed_df.withColumn(\"SalePrice\", expr(\"CAST(SalePrice AS DOUBLE)\"))\n",
    "indexed_df=indexed_df.withColumn(\"ScreenPorch\", expr(\"CAST(ScreenPorch AS FLOAT)\"))\n",
    "indexed_df=indexed_df.withColumn(\"TotRmsAbvGrd\", expr(\"CAST(TotRmsAbvGrd AS FLOAT)\"))\n",
    "indexed_df=indexed_df.withColumn(\"TotalBsmtSF\", expr(\"CAST(TotalBsmtSF AS FLOAT)\"))\n",
    "indexed_df=indexed_df.withColumn(\"WoodDeckSF\", expr(\"CAST(WoodDeckSF AS FLOAT)\"))\n",
    "indexed_df=indexed_df.withColumn(\"firstFlrSF\", expr(\"CAST(firstFlrSF AS FLOAT)\"))\n",
    "indexed_df=indexed_df.withColumn(\"secondFlrSF\", expr(\"CAST(secondFlrSF AS FLOAT)\"))\n",
    "indexed_df=indexed_df.withColumn(\"threeSsnPorch\", expr(\"CAST(threeSsnPorch AS FLOAT)\"))\n",
    "    "
   ]
  },
  {
   "cell_type": "code",
   "execution_count": 48,
   "metadata": {},
   "outputs": [
    {
     "data": {
      "text/plain": [
       "[('BedroomAbvGr', 'float'),\n",
       " ('BldgType', 'string'),\n",
       " ('BsmtCond', 'string'),\n",
       " ('BsmtExposure', 'string'),\n",
       " ('BsmtFinSF1', 'float'),\n",
       " ('BsmtFinSF2', 'float'),\n",
       " ('BsmtFinType1', 'string'),\n",
       " ('BsmtFinType2', 'string'),\n",
       " ('BsmtFullBath', 'float'),\n",
       " ('BsmtHalfBath', 'float'),\n",
       " ('BsmtQual', 'string'),\n",
       " ('BsmtUnfSF', 'float'),\n",
       " ('CentralAir', 'string'),\n",
       " ('Condition1', 'string'),\n",
       " ('Condition2', 'string'),\n",
       " ('Electrical', 'string'),\n",
       " ('EnclosedPorch', 'float'),\n",
       " ('ExterCond', 'string'),\n",
       " ('ExterQual', 'string'),\n",
       " ('Exterior1st', 'string'),\n",
       " ('Exterior2nd', 'string'),\n",
       " ('Fireplaces', 'float'),\n",
       " ('Foundation', 'string'),\n",
       " ('FullBath', 'float'),\n",
       " ('Functional', 'string'),\n",
       " ('GarageArea', 'float'),\n",
       " ('GarageCars', 'float'),\n",
       " ('GarageCond', 'string'),\n",
       " ('GarageFinish', 'string'),\n",
       " ('GarageQual', 'string'),\n",
       " ('GarageType', 'string'),\n",
       " ('GarageYrBlt', 'string'),\n",
       " ('GrLivArea', 'string'),\n",
       " ('HalfBath', 'float'),\n",
       " ('Heating', 'string'),\n",
       " ('HeatingQC', 'string'),\n",
       " ('HouseStyle', 'string'),\n",
       " ('Id', 'string'),\n",
       " ('KitchenAbvGr', 'float'),\n",
       " ('KitchenQual', 'string'),\n",
       " ('LandContour', 'string'),\n",
       " ('LandSlope', 'string'),\n",
       " ('LotArea', 'float'),\n",
       " ('LotConfig', 'string'),\n",
       " ('LotShape', 'string'),\n",
       " ('LowQualFinSF', 'float'),\n",
       " ('MSSubClass', 'float'),\n",
       " ('MSZoning', 'string'),\n",
       " ('MasVnrArea', 'float'),\n",
       " ('MasVnrType', 'string'),\n",
       " ('MiscVal', 'float'),\n",
       " ('MoSold', 'float'),\n",
       " ('Neighborhood', 'string'),\n",
       " ('OpenPorchSF', 'float'),\n",
       " ('OverallCond', 'float'),\n",
       " ('OverallQual', 'float'),\n",
       " ('PavedDrive', 'string'),\n",
       " ('PoolArea', 'float'),\n",
       " ('RoofMatl', 'string'),\n",
       " ('RoofStyle', 'string'),\n",
       " ('SaleCondition', 'string'),\n",
       " ('SalePrice', 'double'),\n",
       " ('SaleType', 'string'),\n",
       " ('ScreenPorch', 'float'),\n",
       " ('Street', 'string'),\n",
       " ('TotRmsAbvGrd', 'float'),\n",
       " ('TotalBsmtSF', 'float'),\n",
       " ('Utilities', 'string'),\n",
       " ('WoodDeckSF', 'float'),\n",
       " ('YearBuilt', 'string'),\n",
       " ('YearRemodAdd', 'string'),\n",
       " ('YrSold', 'string'),\n",
       " ('firstFlrSF', 'float'),\n",
       " ('secondFlrSF', 'float'),\n",
       " ('threeSsnPorch', 'float'),\n",
       " ('BldgType_categorical', 'double'),\n",
       " ('BsmtCond_categorical', 'double'),\n",
       " ('BsmtExposure_categorical', 'double'),\n",
       " ('BsmtFinType1_categorical', 'double'),\n",
       " ('BsmtFinType2_categorical', 'double'),\n",
       " ('BsmtQual_categorical', 'double'),\n",
       " ('CentralAir_categorical', 'double'),\n",
       " ('Condition1_categorical', 'double'),\n",
       " ('Condition2_categorical', 'double'),\n",
       " ('Electrical_categorical', 'double'),\n",
       " ('ExterCond_categorical', 'double'),\n",
       " ('ExterQual_categorical', 'double'),\n",
       " ('Exterior1st_categorical', 'double'),\n",
       " ('Exterior2nd_categorical', 'double'),\n",
       " ('Fireplaces_categorical', 'double'),\n",
       " ('Foundation_categorical', 'double'),\n",
       " ('Functional_categorical', 'double'),\n",
       " ('GarageCond_categorical', 'double'),\n",
       " ('GarageFinish_categorical', 'double'),\n",
       " ('GarageQual_categorical', 'double'),\n",
       " ('GarageType_categorical', 'double'),\n",
       " ('GarageYrBlt_categorical', 'double'),\n",
       " ('GrLivArea_categorical', 'double'),\n",
       " ('Heating_categorical', 'double'),\n",
       " ('HeatingQC_categorical', 'double'),\n",
       " ('HouseStyle_categorical', 'double'),\n",
       " ('Id_categorical', 'double'),\n",
       " ('KitchenQual_categorical', 'double'),\n",
       " ('LandContour_categorical', 'double'),\n",
       " ('LandSlope_categorical', 'double'),\n",
       " ('LotConfig_categorical', 'double'),\n",
       " ('LotShape_categorical', 'double'),\n",
       " ('MSZoning_categorical', 'double'),\n",
       " ('MasVnrType_categorical', 'double'),\n",
       " ('Neighborhood_categorical', 'double'),\n",
       " ('PavedDrive_categorical', 'double'),\n",
       " ('RoofMatl_categorical', 'double'),\n",
       " ('RoofStyle_categorical', 'double'),\n",
       " ('SaleCondition_categorical', 'double'),\n",
       " ('SaleType_categorical', 'double'),\n",
       " ('Street_categorical', 'double'),\n",
       " ('Utilities_categorical', 'double'),\n",
       " ('YearBuilt_categorical', 'double'),\n",
       " ('YearRemodAdd_categorical', 'double'),\n",
       " ('YrSold_categorical', 'double')]"
      ]
     },
     "execution_count": 48,
     "metadata": {},
     "output_type": "execute_result"
    }
   ],
   "source": [
    "indexed_df.dtypes"
   ]
  },
  {
   "cell_type": "code",
   "execution_count": 49,
   "metadata": {
    "collapsed": true
   },
   "outputs": [],
   "source": [
    "#Getting total number of string columns\n",
    "strcols=[]\n",
    "for i in range(0,len(indexed_df.columns)):\n",
    "    if (indexed_df.dtypes[i][1]=='string'):\n",
    "        strcols.append(indexed_df.dtypes[i][0])"
   ]
  },
  {
   "cell_type": "code",
   "execution_count": 50,
   "metadata": {},
   "outputs": [
    {
     "data": {
      "text/plain": [
       "44"
      ]
     },
     "execution_count": 50,
     "metadata": {},
     "output_type": "execute_result"
    }
   ],
   "source": [
    "len(strcols)"
   ]
  },
  {
   "cell_type": "code",
   "execution_count": 51,
   "metadata": {},
   "outputs": [
    {
     "data": {
      "text/plain": [
       "DataFrame[BldgType: string, BsmtCond: string, BsmtExposure: string, BsmtFinType1: string, BsmtFinType2: string, BsmtQual: string, CentralAir: string, Condition1: string, Condition2: string, Electrical: string, ExterCond: string, ExterQual: string, Exterior1st: string, Exterior2nd: string, Foundation: string, Functional: string, GarageCond: string, GarageFinish: string, GarageQual: string, GarageType: string, GarageYrBlt: string, GrLivArea: string, Heating: string, HeatingQC: string, HouseStyle: string, Id: string, KitchenQual: string, LandContour: string, LandSlope: string, LotConfig: string, LotShape: string, MSZoning: string, MasVnrType: string, Neighborhood: string, PavedDrive: string, RoofMatl: string, RoofStyle: string, SaleCondition: string, SaleType: string, Street: string, Utilities: string, YearBuilt: string, YearRemodAdd: string, YrSold: string]"
      ]
     },
     "execution_count": 51,
     "metadata": {},
     "output_type": "execute_result"
    }
   ],
   "source": [
    "indexed_df.select(strcols)"
   ]
  },
  {
   "cell_type": "code",
   "execution_count": 52,
   "metadata": {},
   "outputs": [
    {
     "data": {
      "text/plain": [
       "['BedroomAbvGr',\n",
       " 'BldgType',\n",
       " 'BsmtCond',\n",
       " 'BsmtExposure',\n",
       " 'BsmtFinSF1',\n",
       " 'BsmtFinSF2',\n",
       " 'BsmtFinType1',\n",
       " 'BsmtFinType2',\n",
       " 'BsmtFullBath',\n",
       " 'BsmtHalfBath',\n",
       " 'BsmtQual',\n",
       " 'BsmtUnfSF',\n",
       " 'CentralAir',\n",
       " 'Condition1',\n",
       " 'Condition2',\n",
       " 'Electrical',\n",
       " 'EnclosedPorch',\n",
       " 'ExterCond',\n",
       " 'ExterQual',\n",
       " 'Exterior1st',\n",
       " 'Exterior2nd',\n",
       " 'Fireplaces',\n",
       " 'Foundation',\n",
       " 'FullBath',\n",
       " 'Functional',\n",
       " 'GarageArea',\n",
       " 'GarageCars',\n",
       " 'GarageCond',\n",
       " 'GarageFinish',\n",
       " 'GarageQual',\n",
       " 'GarageType',\n",
       " 'GarageYrBlt',\n",
       " 'GrLivArea',\n",
       " 'HalfBath',\n",
       " 'Heating',\n",
       " 'HeatingQC',\n",
       " 'HouseStyle',\n",
       " 'Id',\n",
       " 'KitchenAbvGr',\n",
       " 'KitchenQual',\n",
       " 'LandContour',\n",
       " 'LandSlope',\n",
       " 'LotArea',\n",
       " 'LotConfig',\n",
       " 'LotShape',\n",
       " 'LowQualFinSF',\n",
       " 'MSSubClass',\n",
       " 'MSZoning',\n",
       " 'MasVnrArea',\n",
       " 'MasVnrType',\n",
       " 'MiscVal',\n",
       " 'MoSold',\n",
       " 'Neighborhood',\n",
       " 'OpenPorchSF',\n",
       " 'OverallCond',\n",
       " 'OverallQual',\n",
       " 'PavedDrive',\n",
       " 'PoolArea',\n",
       " 'RoofMatl',\n",
       " 'RoofStyle',\n",
       " 'SaleCondition',\n",
       " 'SalePrice',\n",
       " 'SaleType',\n",
       " 'ScreenPorch',\n",
       " 'Street',\n",
       " 'TotRmsAbvGrd',\n",
       " 'TotalBsmtSF',\n",
       " 'Utilities',\n",
       " 'WoodDeckSF',\n",
       " 'YearBuilt',\n",
       " 'YearRemodAdd',\n",
       " 'YrSold',\n",
       " 'firstFlrSF',\n",
       " 'secondFlrSF',\n",
       " 'threeSsnPorch',\n",
       " 'BldgType_categorical',\n",
       " 'BsmtCond_categorical',\n",
       " 'BsmtExposure_categorical',\n",
       " 'BsmtFinType1_categorical',\n",
       " 'BsmtFinType2_categorical',\n",
       " 'BsmtQual_categorical',\n",
       " 'CentralAir_categorical',\n",
       " 'Condition1_categorical',\n",
       " 'Condition2_categorical',\n",
       " 'Electrical_categorical',\n",
       " 'ExterCond_categorical',\n",
       " 'ExterQual_categorical',\n",
       " 'Exterior1st_categorical',\n",
       " 'Exterior2nd_categorical',\n",
       " 'Fireplaces_categorical',\n",
       " 'Foundation_categorical',\n",
       " 'Functional_categorical',\n",
       " 'GarageCond_categorical',\n",
       " 'GarageFinish_categorical',\n",
       " 'GarageQual_categorical',\n",
       " 'GarageType_categorical',\n",
       " 'GarageYrBlt_categorical',\n",
       " 'GrLivArea_categorical',\n",
       " 'Heating_categorical',\n",
       " 'HeatingQC_categorical',\n",
       " 'HouseStyle_categorical',\n",
       " 'Id_categorical',\n",
       " 'KitchenQual_categorical',\n",
       " 'LandContour_categorical',\n",
       " 'LandSlope_categorical',\n",
       " 'LotConfig_categorical',\n",
       " 'LotShape_categorical',\n",
       " 'MSZoning_categorical',\n",
       " 'MasVnrType_categorical',\n",
       " 'Neighborhood_categorical',\n",
       " 'PavedDrive_categorical',\n",
       " 'RoofMatl_categorical',\n",
       " 'RoofStyle_categorical',\n",
       " 'SaleCondition_categorical',\n",
       " 'SaleType_categorical',\n",
       " 'Street_categorical',\n",
       " 'Utilities_categorical',\n",
       " 'YearBuilt_categorical',\n",
       " 'YearRemodAdd_categorical',\n",
       " 'YrSold_categorical']"
      ]
     },
     "execution_count": 52,
     "metadata": {},
     "output_type": "execute_result"
    }
   ],
   "source": [
    "indexed_df.columns"
   ]
  },
  {
   "cell_type": "code",
   "execution_count": 53,
   "metadata": {
    "collapsed": true
   },
   "outputs": [],
   "source": [
    "#MAtplotlib\n",
    "#indexed_df.columns"
   ]
  },
  {
   "cell_type": "code",
   "execution_count": 54,
   "metadata": {
    "collapsed": true
   },
   "outputs": [],
   "source": [
    "for i in strcols:\n",
    "    indexed_df= indexed_df.drop(i)\n",
    "    "
   ]
  },
  {
   "cell_type": "code",
   "execution_count": 55,
   "metadata": {},
   "outputs": [
    {
     "data": {
      "text/plain": [
       "76"
      ]
     },
     "execution_count": 55,
     "metadata": {},
     "output_type": "execute_result"
    }
   ],
   "source": [
    "len(indexed_df.columns)"
   ]
  },
  {
   "cell_type": "code",
   "execution_count": 56,
   "metadata": {
    "collapsed": true
   },
   "outputs": [],
   "source": [
    "model_df = indexed_df.drop('SalePrice')"
   ]
  },
  {
   "cell_type": "code",
   "execution_count": 57,
   "metadata": {},
   "outputs": [
    {
     "data": {
      "text/html": [
       "<div>\n",
       "<table border=\"1\" class=\"dataframe\">\n",
       "  <thead>\n",
       "    <tr style=\"text-align: right;\">\n",
       "      <th></th>\n",
       "      <th>0</th>\n",
       "      <th>1</th>\n",
       "      <th>2</th>\n",
       "      <th>3</th>\n",
       "      <th>4</th>\n",
       "    </tr>\n",
       "  </thead>\n",
       "  <tbody>\n",
       "    <tr>\n",
       "      <th>summary</th>\n",
       "      <td>count</td>\n",
       "      <td>mean</td>\n",
       "      <td>stddev</td>\n",
       "      <td>min</td>\n",
       "      <td>max</td>\n",
       "    </tr>\n",
       "    <tr>\n",
       "      <th>BedroomAbvGr</th>\n",
       "      <td>1338</td>\n",
       "      <td>2.8647234678624813</td>\n",
       "      <td>0.7766771115395772</td>\n",
       "      <td>0.0</td>\n",
       "      <td>6.0</td>\n",
       "    </tr>\n",
       "    <tr>\n",
       "      <th>BsmtFinSF1</th>\n",
       "      <td>1338</td>\n",
       "      <td>464.23467862481317</td>\n",
       "      <td>458.7924202727304</td>\n",
       "      <td>0.0</td>\n",
       "      <td>5644.0</td>\n",
       "    </tr>\n",
       "    <tr>\n",
       "      <th>BsmtFinSF2</th>\n",
       "      <td>1338</td>\n",
       "      <td>49.21823617339312</td>\n",
       "      <td>166.19658425664755</td>\n",
       "      <td>0.0</td>\n",
       "      <td>1474.0</td>\n",
       "    </tr>\n",
       "    <tr>\n",
       "      <th>BsmtFullBath</th>\n",
       "      <td>1338</td>\n",
       "      <td>0.43871449925261585</td>\n",
       "      <td>0.5156304743151041</td>\n",
       "      <td>0.0</td>\n",
       "      <td>2.0</td>\n",
       "    </tr>\n",
       "    <tr>\n",
       "      <th>BsmtHalfBath</th>\n",
       "      <td>1338</td>\n",
       "      <td>0.06053811659192825</td>\n",
       "      <td>0.24168507877908618</td>\n",
       "      <td>0.0</td>\n",
       "      <td>2.0</td>\n",
       "    </tr>\n",
       "    <tr>\n",
       "      <th>BsmtUnfSF</th>\n",
       "      <td>1338</td>\n",
       "      <td>582.4947683109118</td>\n",
       "      <td>439.9505279723051</td>\n",
       "      <td>0.0</td>\n",
       "      <td>2336.0</td>\n",
       "    </tr>\n",
       "    <tr>\n",
       "      <th>EnclosedPorch</th>\n",
       "      <td>1338</td>\n",
       "      <td>21.263826606875934</td>\n",
       "      <td>60.84396383442114</td>\n",
       "      <td>0.0</td>\n",
       "      <td>552.0</td>\n",
       "    </tr>\n",
       "    <tr>\n",
       "      <th>Fireplaces</th>\n",
       "      <td>1338</td>\n",
       "      <td>0.648729446935725</td>\n",
       "      <td>0.6453926463463608</td>\n",
       "      <td>0.0</td>\n",
       "      <td>3.0</td>\n",
       "    </tr>\n",
       "    <tr>\n",
       "      <th>FullBath</th>\n",
       "      <td>1338</td>\n",
       "      <td>1.5754857997010463</td>\n",
       "      <td>0.5475695495011645</td>\n",
       "      <td>0.0</td>\n",
       "      <td>3.0</td>\n",
       "    </tr>\n",
       "    <tr>\n",
       "      <th>GarageArea</th>\n",
       "      <td>1338</td>\n",
       "      <td>501.44992526158444</td>\n",
       "      <td>186.7618627476117</td>\n",
       "      <td>160.0</td>\n",
       "      <td>1418.0</td>\n",
       "    </tr>\n",
       "    <tr>\n",
       "      <th>GarageCars</th>\n",
       "      <td>1338</td>\n",
       "      <td>1.8714499252615844</td>\n",
       "      <td>0.6342796591191622</td>\n",
       "      <td>1.0</td>\n",
       "      <td>4.0</td>\n",
       "    </tr>\n",
       "    <tr>\n",
       "      <th>HalfBath</th>\n",
       "      <td>1338</td>\n",
       "      <td>0.40284005979073245</td>\n",
       "      <td>0.5041853310020066</td>\n",
       "      <td>0.0</td>\n",
       "      <td>2.0</td>\n",
       "    </tr>\n",
       "    <tr>\n",
       "      <th>KitchenAbvGr</th>\n",
       "      <td>1338</td>\n",
       "      <td>1.0298953662182362</td>\n",
       "      <td>0.17469748476352054</td>\n",
       "      <td>1.0</td>\n",
       "      <td>3.0</td>\n",
       "    </tr>\n",
       "    <tr>\n",
       "      <th>LotArea</th>\n",
       "      <td>1338</td>\n",
       "      <td>10706.29446935725</td>\n",
       "      <td>10336.621126418859</td>\n",
       "      <td>1300.0</td>\n",
       "      <td>215245.0</td>\n",
       "    </tr>\n",
       "    <tr>\n",
       "      <th>LowQualFinSF</th>\n",
       "      <td>1338</td>\n",
       "      <td>4.221973094170403</td>\n",
       "      <td>40.71291645394937</td>\n",
       "      <td>0.0</td>\n",
       "      <td>572.0</td>\n",
       "    </tr>\n",
       "    <tr>\n",
       "      <th>MSSubClass</th>\n",
       "      <td>1338</td>\n",
       "      <td>56.13602391629298</td>\n",
       "      <td>41.252576299477695</td>\n",
       "      <td>20.0</td>\n",
       "      <td>190.0</td>\n",
       "    </tr>\n",
       "    <tr>\n",
       "      <th>MasVnrArea</th>\n",
       "      <td>1338</td>\n",
       "      <td>110.36023916292974</td>\n",
       "      <td>185.60481571768074</td>\n",
       "      <td>0.0</td>\n",
       "      <td>1600.0</td>\n",
       "    </tr>\n",
       "    <tr>\n",
       "      <th>MiscVal</th>\n",
       "      <td>1338</td>\n",
       "      <td>42.93273542600897</td>\n",
       "      <td>508.05625453856754</td>\n",
       "      <td>0.0</td>\n",
       "      <td>15500.0</td>\n",
       "    </tr>\n",
       "    <tr>\n",
       "      <th>MoSold</th>\n",
       "      <td>1338</td>\n",
       "      <td>6.331838565022421</td>\n",
       "      <td>2.6994367230290894</td>\n",
       "      <td>1.0</td>\n",
       "      <td>12.0</td>\n",
       "    </tr>\n",
       "    <tr>\n",
       "      <th>OpenPorchSF</th>\n",
       "      <td>1338</td>\n",
       "      <td>47.78251121076233</td>\n",
       "      <td>65.3625623391862</td>\n",
       "      <td>0.0</td>\n",
       "      <td>547.0</td>\n",
       "    </tr>\n",
       "    <tr>\n",
       "      <th>OverallCond</th>\n",
       "      <td>1338</td>\n",
       "      <td>5.596412556053812</td>\n",
       "      <td>1.0781236575616269</td>\n",
       "      <td>2.0</td>\n",
       "      <td>9.0</td>\n",
       "    </tr>\n",
       "    <tr>\n",
       "      <th>OverallQual</th>\n",
       "      <td>1338</td>\n",
       "      <td>6.219730941704036</td>\n",
       "      <td>1.324471671283373</td>\n",
       "      <td>2.0</td>\n",
       "      <td>10.0</td>\n",
       "    </tr>\n",
       "    <tr>\n",
       "      <th>PoolArea</th>\n",
       "      <td>1338</td>\n",
       "      <td>3.0104633781763828</td>\n",
       "      <td>41.96133717051211</td>\n",
       "      <td>0.0</td>\n",
       "      <td>738.0</td>\n",
       "    </tr>\n",
       "    <tr>\n",
       "      <th>SalePrice</th>\n",
       "      <td>1338</td>\n",
       "      <td>186761.78251121077</td>\n",
       "      <td>78913.84766766582</td>\n",
       "      <td>35311.0</td>\n",
       "      <td>755000.0</td>\n",
       "    </tr>\n",
       "    <tr>\n",
       "      <th>ScreenPorch</th>\n",
       "      <td>1338</td>\n",
       "      <td>16.43423019431988</td>\n",
       "      <td>58.05158972630303</td>\n",
       "      <td>0.0</td>\n",
       "      <td>480.0</td>\n",
       "    </tr>\n",
       "    <tr>\n",
       "      <th>TotRmsAbvGrd</th>\n",
       "      <td>1338</td>\n",
       "      <td>6.550074738415546</td>\n",
       "      <td>1.585070821208611</td>\n",
       "      <td>3.0</td>\n",
       "      <td>12.0</td>\n",
       "    </tr>\n",
       "    <tr>\n",
       "      <th>TotalBsmtSF</th>\n",
       "      <td>1338</td>\n",
       "      <td>1095.947683109118</td>\n",
       "      <td>405.5544348842876</td>\n",
       "      <td>105.0</td>\n",
       "      <td>6110.0</td>\n",
       "    </tr>\n",
       "    <tr>\n",
       "      <th>WoodDeckSF</th>\n",
       "      <td>1338</td>\n",
       "      <td>99.3849028400598</td>\n",
       "      <td>127.5370648019927</td>\n",
       "      <td>0.0</td>\n",
       "      <td>857.0</td>\n",
       "    </tr>\n",
       "    <tr>\n",
       "      <th>firstFlrSF</th>\n",
       "      <td>1338</td>\n",
       "      <td>1176.2219730941704</td>\n",
       "      <td>386.6449855579873</td>\n",
       "      <td>438.0</td>\n",
       "      <td>4692.0</td>\n",
       "    </tr>\n",
       "    <tr>\n",
       "      <th>...</th>\n",
       "      <td>...</td>\n",
       "      <td>...</td>\n",
       "      <td>...</td>\n",
       "      <td>...</td>\n",
       "      <td>...</td>\n",
       "    </tr>\n",
       "    <tr>\n",
       "      <th>Foundation_categorical</th>\n",
       "      <td>1338</td>\n",
       "      <td>0.648729446935725</td>\n",
       "      <td>0.6891090147073452</td>\n",
       "      <td>0.0</td>\n",
       "      <td>4.0</td>\n",
       "    </tr>\n",
       "    <tr>\n",
       "      <th>Functional_categorical</th>\n",
       "      <td>1338</td>\n",
       "      <td>0.1382660687593423</td>\n",
       "      <td>0.6184768955798869</td>\n",
       "      <td>0.0</td>\n",
       "      <td>6.0</td>\n",
       "    </tr>\n",
       "    <tr>\n",
       "      <th>GarageCond_categorical</th>\n",
       "      <td>1338</td>\n",
       "      <td>0.059790732436472344</td>\n",
       "      <td>0.34508705004030726</td>\n",
       "      <td>0.0</td>\n",
       "      <td>4.0</td>\n",
       "    </tr>\n",
       "    <tr>\n",
       "      <th>GarageFinish_categorical</th>\n",
       "      <td>1338</td>\n",
       "      <td>0.8243647234678625</td>\n",
       "      <td>0.813004672108235</td>\n",
       "      <td>0.0</td>\n",
       "      <td>2.0</td>\n",
       "    </tr>\n",
       "    <tr>\n",
       "      <th>GarageQual_categorical</th>\n",
       "      <td>1338</td>\n",
       "      <td>0.07249626307922272</td>\n",
       "      <td>0.3586393534595713</td>\n",
       "      <td>0.0</td>\n",
       "      <td>4.0</td>\n",
       "    </tr>\n",
       "    <tr>\n",
       "      <th>GarageType_categorical</th>\n",
       "      <td>1338</td>\n",
       "      <td>0.48878923766816146</td>\n",
       "      <td>0.7842559983059422</td>\n",
       "      <td>0.0</td>\n",
       "      <td>5.0</td>\n",
       "    </tr>\n",
       "    <tr>\n",
       "      <th>GarageYrBlt_categorical</th>\n",
       "      <td>1338</td>\n",
       "      <td>26.011958146487295</td>\n",
       "      <td>22.39132833586408</td>\n",
       "      <td>0.0</td>\n",
       "      <td>96.0</td>\n",
       "    </tr>\n",
       "    <tr>\n",
       "      <th>GrLivArea_categorical</th>\n",
       "      <td>1338</td>\n",
       "      <td>287.4237668161435</td>\n",
       "      <td>247.69992752199548</td>\n",
       "      <td>0.0</td>\n",
       "      <td>821.0</td>\n",
       "    </tr>\n",
       "    <tr>\n",
       "      <th>Heating_categorical</th>\n",
       "      <td>1338</td>\n",
       "      <td>0.01868460388639761</td>\n",
       "      <td>0.16530130442228774</td>\n",
       "      <td>0.0</td>\n",
       "      <td>3.0</td>\n",
       "    </tr>\n",
       "    <tr>\n",
       "      <th>HeatingQC_categorical</th>\n",
       "      <td>1338</td>\n",
       "      <td>0.6920777279521674</td>\n",
       "      <td>0.8416673376058027</td>\n",
       "      <td>0.0</td>\n",
       "      <td>4.0</td>\n",
       "    </tr>\n",
       "    <tr>\n",
       "      <th>HouseStyle_categorical</th>\n",
       "      <td>1338</td>\n",
       "      <td>0.8692077727952168</td>\n",
       "      <td>1.203370783160585</td>\n",
       "      <td>0.0</td>\n",
       "      <td>7.0</td>\n",
       "    </tr>\n",
       "    <tr>\n",
       "      <th>Id_categorical</th>\n",
       "      <td>1338</td>\n",
       "      <td>668.5</td>\n",
       "      <td>386.3916406963276</td>\n",
       "      <td>0.0</td>\n",
       "      <td>1337.0</td>\n",
       "    </tr>\n",
       "    <tr>\n",
       "      <th>KitchenQual_categorical</th>\n",
       "      <td>1338</td>\n",
       "      <td>0.6210762331838565</td>\n",
       "      <td>0.6955815516579579</td>\n",
       "      <td>0.0</td>\n",
       "      <td>3.0</td>\n",
       "    </tr>\n",
       "    <tr>\n",
       "      <th>LandContour_categorical</th>\n",
       "      <td>1338</td>\n",
       "      <td>0.18236173393124067</td>\n",
       "      <td>0.6038419360315904</td>\n",
       "      <td>0.0</td>\n",
       "      <td>3.0</td>\n",
       "    </tr>\n",
       "    <tr>\n",
       "      <th>LandSlope_categorical</th>\n",
       "      <td>1338</td>\n",
       "      <td>0.06352765321375187</td>\n",
       "      <td>0.2783649094173639</td>\n",
       "      <td>0.0</td>\n",
       "      <td>2.0</td>\n",
       "    </tr>\n",
       "    <tr>\n",
       "      <th>LotConfig_categorical</th>\n",
       "      <td>1338</td>\n",
       "      <td>0.4252615844544096</td>\n",
       "      <td>0.7798059701736738</td>\n",
       "      <td>0.0</td>\n",
       "      <td>4.0</td>\n",
       "    </tr>\n",
       "    <tr>\n",
       "      <th>LotShape_categorical</th>\n",
       "      <td>1338</td>\n",
       "      <td>0.4252615844544096</td>\n",
       "      <td>0.5910237042892132</td>\n",
       "      <td>0.0</td>\n",
       "      <td>3.0</td>\n",
       "    </tr>\n",
       "    <tr>\n",
       "      <th>MSZoning_categorical</th>\n",
       "      <td>1338</td>\n",
       "      <td>0.28400597907324365</td>\n",
       "      <td>0.6460730742853359</td>\n",
       "      <td>0.0</td>\n",
       "      <td>4.0</td>\n",
       "    </tr>\n",
       "    <tr>\n",
       "      <th>MasVnrType_categorical</th>\n",
       "      <td>1338</td>\n",
       "      <td>0.5478325859491778</td>\n",
       "      <td>0.7118185515537058</td>\n",
       "      <td>0.0</td>\n",
       "      <td>3.0</td>\n",
       "    </tr>\n",
       "    <tr>\n",
       "      <th>Neighborhood_categorical</th>\n",
       "      <td>1338</td>\n",
       "      <td>6.588191330343797</td>\n",
       "      <td>5.964247344778125</td>\n",
       "      <td>0.0</td>\n",
       "      <td>24.0</td>\n",
       "    </tr>\n",
       "    <tr>\n",
       "      <th>PavedDrive_categorical</th>\n",
       "      <td>1338</td>\n",
       "      <td>0.08071748878923767</td>\n",
       "      <td>0.3385950461002814</td>\n",
       "      <td>0.0</td>\n",
       "      <td>2.0</td>\n",
       "    </tr>\n",
       "    <tr>\n",
       "      <th>RoofMatl_categorical</th>\n",
       "      <td>1338</td>\n",
       "      <td>0.043348281016442454</td>\n",
       "      <td>0.3882008822530985</td>\n",
       "      <td>0.0</td>\n",
       "      <td>7.0</td>\n",
       "    </tr>\n",
       "    <tr>\n",
       "      <th>RoofStyle_categorical</th>\n",
       "      <td>1338</td>\n",
       "      <td>0.26756352765321373</td>\n",
       "      <td>0.5841411092599217</td>\n",
       "      <td>0.0</td>\n",
       "      <td>5.0</td>\n",
       "    </tr>\n",
       "    <tr>\n",
       "      <th>SaleCondition_categorical</th>\n",
       "      <td>1338</td>\n",
       "      <td>0.28774289985052315</td>\n",
       "      <td>0.7080153260966144</td>\n",
       "      <td>0.0</td>\n",
       "      <td>5.0</td>\n",
       "    </tr>\n",
       "    <tr>\n",
       "      <th>SaleType_categorical</th>\n",
       "      <td>1338</td>\n",
       "      <td>0.2249626307922272</td>\n",
       "      <td>0.7446072630348183</td>\n",
       "      <td>0.0</td>\n",
       "      <td>8.0</td>\n",
       "    </tr>\n",
       "    <tr>\n",
       "      <th>Street_categorical</th>\n",
       "      <td>1338</td>\n",
       "      <td>0.0037369207772795215</td>\n",
       "      <td>0.06103884631933352</td>\n",
       "      <td>0.0</td>\n",
       "      <td>1.0</td>\n",
       "    </tr>\n",
       "    <tr>\n",
       "      <th>Utilities_categorical</th>\n",
       "      <td>1338</td>\n",
       "      <td>7.473841554559044E-4</td>\n",
       "      <td>0.027338327590690405</td>\n",
       "      <td>0.0</td>\n",
       "      <td>1.0</td>\n",
       "    </tr>\n",
       "    <tr>\n",
       "      <th>YearBuilt_categorical</th>\n",
       "      <td>1338</td>\n",
       "      <td>28.189088191330345</td>\n",
       "      <td>25.0623032290937</td>\n",
       "      <td>0.0</td>\n",
       "      <td>108.0</td>\n",
       "    </tr>\n",
       "    <tr>\n",
       "      <th>YearRemodAdd_categorical</th>\n",
       "      <td>1338</td>\n",
       "      <td>15.766068759342302</td>\n",
       "      <td>15.749197828859762</td>\n",
       "      <td>0.0</td>\n",
       "      <td>60.0</td>\n",
       "    </tr>\n",
       "    <tr>\n",
       "      <th>YrSold_categorical</th>\n",
       "      <td>1338</td>\n",
       "      <td>1.7541106128550075</td>\n",
       "      <td>1.3314285048762782</td>\n",
       "      <td>0.0</td>\n",
       "      <td>4.0</td>\n",
       "    </tr>\n",
       "  </tbody>\n",
       "</table>\n",
       "<p>77 rows × 5 columns</p>\n",
       "</div>"
      ],
      "text/plain": [
       "                               0                      1                     2  \\\n",
       "summary                    count                   mean                stddev   \n",
       "BedroomAbvGr                1338     2.8647234678624813    0.7766771115395772   \n",
       "BsmtFinSF1                  1338     464.23467862481317     458.7924202727304   \n",
       "BsmtFinSF2                  1338      49.21823617339312    166.19658425664755   \n",
       "BsmtFullBath                1338    0.43871449925261585    0.5156304743151041   \n",
       "BsmtHalfBath                1338    0.06053811659192825   0.24168507877908618   \n",
       "BsmtUnfSF                   1338      582.4947683109118     439.9505279723051   \n",
       "EnclosedPorch               1338     21.263826606875934     60.84396383442114   \n",
       "Fireplaces                  1338      0.648729446935725    0.6453926463463608   \n",
       "FullBath                    1338     1.5754857997010463    0.5475695495011645   \n",
       "GarageArea                  1338     501.44992526158444     186.7618627476117   \n",
       "GarageCars                  1338     1.8714499252615844    0.6342796591191622   \n",
       "HalfBath                    1338    0.40284005979073245    0.5041853310020066   \n",
       "KitchenAbvGr                1338     1.0298953662182362   0.17469748476352054   \n",
       "LotArea                     1338      10706.29446935725    10336.621126418859   \n",
       "LowQualFinSF                1338      4.221973094170403     40.71291645394937   \n",
       "MSSubClass                  1338      56.13602391629298    41.252576299477695   \n",
       "MasVnrArea                  1338     110.36023916292974    185.60481571768074   \n",
       "MiscVal                     1338      42.93273542600897    508.05625453856754   \n",
       "MoSold                      1338      6.331838565022421    2.6994367230290894   \n",
       "OpenPorchSF                 1338      47.78251121076233      65.3625623391862   \n",
       "OverallCond                 1338      5.596412556053812    1.0781236575616269   \n",
       "OverallQual                 1338      6.219730941704036     1.324471671283373   \n",
       "PoolArea                    1338     3.0104633781763828     41.96133717051211   \n",
       "SalePrice                   1338     186761.78251121077     78913.84766766582   \n",
       "ScreenPorch                 1338      16.43423019431988     58.05158972630303   \n",
       "TotRmsAbvGrd                1338      6.550074738415546     1.585070821208611   \n",
       "TotalBsmtSF                 1338      1095.947683109118     405.5544348842876   \n",
       "WoodDeckSF                  1338       99.3849028400598     127.5370648019927   \n",
       "firstFlrSF                  1338     1176.2219730941704     386.6449855579873   \n",
       "...                          ...                    ...                   ...   \n",
       "Foundation_categorical      1338      0.648729446935725    0.6891090147073452   \n",
       "Functional_categorical      1338     0.1382660687593423    0.6184768955798869   \n",
       "GarageCond_categorical      1338   0.059790732436472344   0.34508705004030726   \n",
       "GarageFinish_categorical    1338     0.8243647234678625     0.813004672108235   \n",
       "GarageQual_categorical      1338    0.07249626307922272    0.3586393534595713   \n",
       "GarageType_categorical      1338    0.48878923766816146    0.7842559983059422   \n",
       "GarageYrBlt_categorical     1338     26.011958146487295     22.39132833586408   \n",
       "GrLivArea_categorical       1338      287.4237668161435    247.69992752199548   \n",
       "Heating_categorical         1338    0.01868460388639761   0.16530130442228774   \n",
       "HeatingQC_categorical       1338     0.6920777279521674    0.8416673376058027   \n",
       "HouseStyle_categorical      1338     0.8692077727952168     1.203370783160585   \n",
       "Id_categorical              1338                  668.5     386.3916406963276   \n",
       "KitchenQual_categorical     1338     0.6210762331838565    0.6955815516579579   \n",
       "LandContour_categorical     1338    0.18236173393124067    0.6038419360315904   \n",
       "LandSlope_categorical       1338    0.06352765321375187    0.2783649094173639   \n",
       "LotConfig_categorical       1338     0.4252615844544096    0.7798059701736738   \n",
       "LotShape_categorical        1338     0.4252615844544096    0.5910237042892132   \n",
       "MSZoning_categorical        1338    0.28400597907324365    0.6460730742853359   \n",
       "MasVnrType_categorical      1338     0.5478325859491778    0.7118185515537058   \n",
       "Neighborhood_categorical    1338      6.588191330343797     5.964247344778125   \n",
       "PavedDrive_categorical      1338    0.08071748878923767    0.3385950461002814   \n",
       "RoofMatl_categorical        1338   0.043348281016442454    0.3882008822530985   \n",
       "RoofStyle_categorical       1338    0.26756352765321373    0.5841411092599217   \n",
       "SaleCondition_categorical   1338    0.28774289985052315    0.7080153260966144   \n",
       "SaleType_categorical        1338     0.2249626307922272    0.7446072630348183   \n",
       "Street_categorical          1338  0.0037369207772795215   0.06103884631933352   \n",
       "Utilities_categorical       1338   7.473841554559044E-4  0.027338327590690405   \n",
       "YearBuilt_categorical       1338     28.189088191330345      25.0623032290937   \n",
       "YearRemodAdd_categorical    1338     15.766068759342302    15.749197828859762   \n",
       "YrSold_categorical          1338     1.7541106128550075    1.3314285048762782   \n",
       "\n",
       "                                 3         4  \n",
       "summary                        min       max  \n",
       "BedroomAbvGr                   0.0       6.0  \n",
       "BsmtFinSF1                     0.0    5644.0  \n",
       "BsmtFinSF2                     0.0    1474.0  \n",
       "BsmtFullBath                   0.0       2.0  \n",
       "BsmtHalfBath                   0.0       2.0  \n",
       "BsmtUnfSF                      0.0    2336.0  \n",
       "EnclosedPorch                  0.0     552.0  \n",
       "Fireplaces                     0.0       3.0  \n",
       "FullBath                       0.0       3.0  \n",
       "GarageArea                   160.0    1418.0  \n",
       "GarageCars                     1.0       4.0  \n",
       "HalfBath                       0.0       2.0  \n",
       "KitchenAbvGr                   1.0       3.0  \n",
       "LotArea                     1300.0  215245.0  \n",
       "LowQualFinSF                   0.0     572.0  \n",
       "MSSubClass                    20.0     190.0  \n",
       "MasVnrArea                     0.0    1600.0  \n",
       "MiscVal                        0.0   15500.0  \n",
       "MoSold                         1.0      12.0  \n",
       "OpenPorchSF                    0.0     547.0  \n",
       "OverallCond                    2.0       9.0  \n",
       "OverallQual                    2.0      10.0  \n",
       "PoolArea                       0.0     738.0  \n",
       "SalePrice                  35311.0  755000.0  \n",
       "ScreenPorch                    0.0     480.0  \n",
       "TotRmsAbvGrd                   3.0      12.0  \n",
       "TotalBsmtSF                  105.0    6110.0  \n",
       "WoodDeckSF                     0.0     857.0  \n",
       "firstFlrSF                   438.0    4692.0  \n",
       "...                            ...       ...  \n",
       "Foundation_categorical         0.0       4.0  \n",
       "Functional_categorical         0.0       6.0  \n",
       "GarageCond_categorical         0.0       4.0  \n",
       "GarageFinish_categorical       0.0       2.0  \n",
       "GarageQual_categorical         0.0       4.0  \n",
       "GarageType_categorical         0.0       5.0  \n",
       "GarageYrBlt_categorical        0.0      96.0  \n",
       "GrLivArea_categorical          0.0     821.0  \n",
       "Heating_categorical            0.0       3.0  \n",
       "HeatingQC_categorical          0.0       4.0  \n",
       "HouseStyle_categorical         0.0       7.0  \n",
       "Id_categorical                 0.0    1337.0  \n",
       "KitchenQual_categorical        0.0       3.0  \n",
       "LandContour_categorical        0.0       3.0  \n",
       "LandSlope_categorical          0.0       2.0  \n",
       "LotConfig_categorical          0.0       4.0  \n",
       "LotShape_categorical           0.0       3.0  \n",
       "MSZoning_categorical           0.0       4.0  \n",
       "MasVnrType_categorical         0.0       3.0  \n",
       "Neighborhood_categorical       0.0      24.0  \n",
       "PavedDrive_categorical         0.0       2.0  \n",
       "RoofMatl_categorical           0.0       7.0  \n",
       "RoofStyle_categorical          0.0       5.0  \n",
       "SaleCondition_categorical      0.0       5.0  \n",
       "SaleType_categorical           0.0       8.0  \n",
       "Street_categorical             0.0       1.0  \n",
       "Utilities_categorical          0.0       1.0  \n",
       "YearBuilt_categorical          0.0     108.0  \n",
       "YearRemodAdd_categorical       0.0      60.0  \n",
       "YrSold_categorical             0.0       4.0  \n",
       "\n",
       "[77 rows x 5 columns]"
      ]
     },
     "execution_count": 57,
     "metadata": {},
     "output_type": "execute_result"
    }
   ],
   "source": [
    "indexed_df.describe().toPandas().transpose()"
   ]
  },
  {
   "cell_type": "markdown",
   "metadata": {},
   "source": [
    "# Linear Regression Mean Model implementation"
   ]
  },
  {
   "cell_type": "code",
   "execution_count": 58,
   "metadata": {
    "collapsed": true
   },
   "outputs": [],
   "source": [
    "#Akash\n",
    "from pyspark.ml.regression import LinearRegression\n",
    "from pyspark.ml.feature import VectorAssembler"
   ]
  },
  {
   "cell_type": "code",
   "execution_count": 59,
   "metadata": {
    "collapsed": true
   },
   "outputs": [],
   "source": [
    "g=[]\n",
    "for col in indexed_df.columns:\n",
    "    if col=='SalePrice':\n",
    "        continue\n",
    "    else:\n",
    "        g.append(col)\n",
    "    "
   ]
  },
  {
   "cell_type": "code",
   "execution_count": 60,
   "metadata": {
    "collapsed": true
   },
   "outputs": [],
   "source": [
    "vectorAssembler = VectorAssembler(inputCols = g, outputCol = 'features')\n",
    "vhouse_df = vectorAssembler.transform(indexed_df)"
   ]
  },
  {
   "cell_type": "code",
   "execution_count": 61,
   "metadata": {},
   "outputs": [
    {
     "data": {
      "text/plain": [
       "pyspark.sql.dataframe.DataFrame"
      ]
     },
     "execution_count": 61,
     "metadata": {},
     "output_type": "execute_result"
    }
   ],
   "source": [
    "type(vhouse_df)"
   ]
  },
  {
   "cell_type": "code",
   "execution_count": 62,
   "metadata": {},
   "outputs": [
    {
     "data": {
      "text/html": [
       "<div>\n",
       "<table border=\"1\" class=\"dataframe\">\n",
       "  <thead>\n",
       "    <tr style=\"text-align: right;\">\n",
       "      <th></th>\n",
       "      <th>features</th>\n",
       "      <th>SalePrice</th>\n",
       "    </tr>\n",
       "  </thead>\n",
       "  <tbody>\n",
       "    <tr>\n",
       "      <th>0</th>\n",
       "      <td>(3.0, 1162.0, 0.0, 0.0, 0.0, 426.0, 0.0, 0.0, ...</td>\n",
       "      <td>214000.0</td>\n",
       "    </tr>\n",
       "    <tr>\n",
       "      <th>1</th>\n",
       "      <td>(3.0, 0.0, 0.0, 0.0, 0.0, 384.0, 0.0, 1.0, 2.0...</td>\n",
       "      <td>168500.0</td>\n",
       "    </tr>\n",
       "    <tr>\n",
       "      <th>2</th>\n",
       "      <td>(4.0, 674.0, 106.0, 1.0, 0.0, 0.0, 0.0, 0.0, 1...</td>\n",
       "      <td>167900.0</td>\n",
       "    </tr>\n",
       "    <tr>\n",
       "      <th>3</th>\n",
       "      <td>(1.0, 515.0, 0.0, 1.0, 0.0, 115.0, 0.0, 0.0, 1...</td>\n",
       "      <td>86000.0</td>\n",
       "    </tr>\n",
       "    <tr>\n",
       "      <th>4</th>\n",
       "      <td>(5.0, 523.0, 0.0, 1.0, 0.0, 301.0, 0.0, 2.0, 2...</td>\n",
       "      <td>197000.0</td>\n",
       "    </tr>\n",
       "    <tr>\n",
       "      <th>5</th>\n",
       "      <td>(3.0, 0.0, 0.0, 0.0, 0.0, 798.0, 0.0, 0.0, 2.0...</td>\n",
       "      <td>183000.0</td>\n",
       "    </tr>\n",
       "    <tr>\n",
       "      <th>6</th>\n",
       "      <td>(3.0, 616.0, 0.0, 0.0, 0.0, 248.0, 0.0, 0.0, 1...</td>\n",
       "      <td>120500.0</td>\n",
       "    </tr>\n",
       "    <tr>\n",
       "      <th>7</th>\n",
       "      <td>(2.0, 0.0, 0.0, 0.0, 0.0, 648.0, 0.0, 0.0, 1.0...</td>\n",
       "      <td>116000.0</td>\n",
       "    </tr>\n",
       "    <tr>\n",
       "      <th>8</th>\n",
       "      <td>(2.0, 623.0, 121.0, 1.0, 0.0, 0.0, 0.0, 0.0, 1...</td>\n",
       "      <td>125000.0</td>\n",
       "    </tr>\n",
       "    <tr>\n",
       "      <th>9</th>\n",
       "      <td>(3.0, 0.0, 0.0, 0.0, 0.0, 1694.0, 0.0, 0.0, 2....</td>\n",
       "      <td>245350.0</td>\n",
       "    </tr>\n",
       "    <tr>\n",
       "      <th>10</th>\n",
       "      <td>(3.0, 0.0, 0.0, 0.0, 0.0, 1580.0, 0.0, 0.0, 2....</td>\n",
       "      <td>235128.0</td>\n",
       "    </tr>\n",
       "    <tr>\n",
       "      <th>11</th>\n",
       "      <td>(3.0, 0.0, 0.0, 1.0, 0.0, 936.0, 0.0, 1.0, 2.0...</td>\n",
       "      <td>186500.0</td>\n",
       "    </tr>\n",
       "    <tr>\n",
       "      <th>12</th>\n",
       "      <td>(4.0, 241.0, 391.0, 1.0, 0.0, 229.0, 112.0, 0....</td>\n",
       "      <td>119000.0</td>\n",
       "    </tr>\n",
       "    <tr>\n",
       "      <th>13</th>\n",
       "      <td>(3.0, 738.0, 0.0, 1.0, 0.0, 319.0, 0.0, 1.0, 2...</td>\n",
       "      <td>226000.0</td>\n",
       "    </tr>\n",
       "    <tr>\n",
       "      <th>14</th>\n",
       "      <td>(3.0, 767.0, 0.0, 1.0, 0.0, 441.0, 0.0, 1.0, 1...</td>\n",
       "      <td>165000.0</td>\n",
       "    </tr>\n",
       "    <tr>\n",
       "      <th>15</th>\n",
       "      <td>(4.0, 956.0, 182.0, 0.0, 0.0, 384.0, 0.0, 1.0,...</td>\n",
       "      <td>240000.0</td>\n",
       "    </tr>\n",
       "    <tr>\n",
       "      <th>16</th>\n",
       "      <td>(2.0, 904.0, 0.0, 1.0, 0.0, 410.0, 0.0, 1.0, 2...</td>\n",
       "      <td>230000.0</td>\n",
       "    </tr>\n",
       "    <tr>\n",
       "      <th>17</th>\n",
       "      <td>(3.0, 1084.0, 0.0, 0.0, 1.0, 92.0, 0.0, 1.0, 1...</td>\n",
       "      <td>157000.0</td>\n",
       "    </tr>\n",
       "    <tr>\n",
       "      <th>18</th>\n",
       "      <td>(3.0, 16.0, 0.0, 0.0, 1.0, 712.0, 234.0, 1.0, ...</td>\n",
       "      <td>178000.0</td>\n",
       "    </tr>\n",
       "    <tr>\n",
       "      <th>19</th>\n",
       "      <td>(3.0, 0.0, 0.0, 1.0, 0.0, 1622.0, 0.0, 1.0, 2....</td>\n",
       "      <td>295493.0</td>\n",
       "    </tr>\n",
       "    <tr>\n",
       "      <th>20</th>\n",
       "      <td>(4.0, 56.0, 64.0, 0.0, 0.0, 1198.0, 0.0, 1.0, ...</td>\n",
       "      <td>290000.0</td>\n",
       "    </tr>\n",
       "    <tr>\n",
       "      <th>21</th>\n",
       "      <td>(2.0, 228.0, 0.0, 0.0, 0.0, 724.0, 0.0, 0.0, 1...</td>\n",
       "      <td>135750.0</td>\n",
       "    </tr>\n",
       "    <tr>\n",
       "      <th>22</th>\n",
       "      <td>(3.0, 24.0, 0.0, 0.0, 0.0, 1836.0, 0.0, 1.0, 2...</td>\n",
       "      <td>216837.0</td>\n",
       "    </tr>\n",
       "    <tr>\n",
       "      <th>23</th>\n",
       "      <td>(3.0, 394.0, 0.0, 0.0, 0.0, 586.0, 156.0, 1.0,...</td>\n",
       "      <td>196500.0</td>\n",
       "    </tr>\n",
       "    <tr>\n",
       "      <th>24</th>\n",
       "      <td>(3.0, 560.0, 0.0, 1.0, 0.0, 871.0, 0.0, 0.0, 2...</td>\n",
       "      <td>192000.0</td>\n",
       "    </tr>\n",
       "    <tr>\n",
       "      <th>25</th>\n",
       "      <td>(3.0, 920.0, 180.0, 1.0, 0.0, 38.0, 180.0, 0.0...</td>\n",
       "      <td>137500.0</td>\n",
       "    </tr>\n",
       "    <tr>\n",
       "      <th>26</th>\n",
       "      <td>(4.0, 655.0, 0.0, 1.0, 0.0, 490.0, 0.0, 1.0, 2...</td>\n",
       "      <td>250000.0</td>\n",
       "    </tr>\n",
       "    <tr>\n",
       "      <th>27</th>\n",
       "      <td>(2.0, 0.0, 0.0, 0.0, 0.0, 1012.0, 112.0, 1.0, ...</td>\n",
       "      <td>118400.0</td>\n",
       "    </tr>\n",
       "    <tr>\n",
       "      <th>28</th>\n",
       "      <td>(3.0, 1285.0, 0.0, 1.0, 0.0, 131.0, 0.0, 2.0, ...</td>\n",
       "      <td>167000.0</td>\n",
       "    </tr>\n",
       "    <tr>\n",
       "      <th>29</th>\n",
       "      <td>(2.0, 778.0, 0.0, 1.0, 0.0, 499.0, 0.0, 1.0, 1...</td>\n",
       "      <td>167000.0</td>\n",
       "    </tr>\n",
       "    <tr>\n",
       "      <th>...</th>\n",
       "      <td>...</td>\n",
       "      <td>...</td>\n",
       "    </tr>\n",
       "    <tr>\n",
       "      <th>1308</th>\n",
       "      <td>(2.0, 0.0, 0.0, 0.0, 0.0, 968.0, 184.0, 0.0, 1...</td>\n",
       "      <td>100000.0</td>\n",
       "    </tr>\n",
       "    <tr>\n",
       "      <th>1309</th>\n",
       "      <td>(3.0, 513.0, 0.0, 1.0, 0.0, 227.0, 192.0, 1.0,...</td>\n",
       "      <td>213000.0</td>\n",
       "    </tr>\n",
       "    <tr>\n",
       "      <th>1310</th>\n",
       "      <td>(3.0, 814.0, 0.0, 0.0, 1.0, 114.0, 0.0, 0.0, 2...</td>\n",
       "      <td>201000.0</td>\n",
       "    </tr>\n",
       "    <tr>\n",
       "      <th>1311</th>\n",
       "      <td>(3.0, 218.0, 0.0, 0.0, 0.0, 808.0, 242.0, 1.0,...</td>\n",
       "      <td>127000.0</td>\n",
       "    </tr>\n",
       "    <tr>\n",
       "      <th>1312</th>\n",
       "      <td>(4.0, 562.0, 193.0, 0.0, 1.0, 29.0, 0.0, 1.0, ...</td>\n",
       "      <td>172000.0</td>\n",
       "    </tr>\n",
       "    <tr>\n",
       "      <th>1313</th>\n",
       "      <td>(2.0, 336.0, 0.0, 0.0, 0.0, 746.0, 0.0, 1.0, 1...</td>\n",
       "      <td>119200.0</td>\n",
       "    </tr>\n",
       "    <tr>\n",
       "      <th>1314</th>\n",
       "      <td>(4.0, 194.0, 0.0, 0.0, 0.0, 638.0, 0.0, 1.0, 2...</td>\n",
       "      <td>162900.0</td>\n",
       "    </tr>\n",
       "    <tr>\n",
       "      <th>1315</th>\n",
       "      <td>(3.0, 1464.0, 0.0, 1.0, 0.0, 536.0, 0.0, 0.0, ...</td>\n",
       "      <td>305900.0</td>\n",
       "    </tr>\n",
       "    <tr>\n",
       "      <th>1316</th>\n",
       "      <td>(3.0, 0.0, 0.0, 0.0, 0.0, 676.0, 0.0, 0.0, 1.0...</td>\n",
       "      <td>66500.0</td>\n",
       "    </tr>\n",
       "    <tr>\n",
       "      <th>1317</th>\n",
       "      <td>(4.0, 284.0, 0.0, 0.0, 0.0, 717.0, 0.0, 0.0, 2...</td>\n",
       "      <td>145000.0</td>\n",
       "    </tr>\n",
       "    <tr>\n",
       "      <th>1318</th>\n",
       "      <td>(3.0, 564.0, 0.0, 0.0, 0.0, 563.0, 0.0, 1.0, 1...</td>\n",
       "      <td>158000.0</td>\n",
       "    </tr>\n",
       "    <tr>\n",
       "      <th>1319</th>\n",
       "      <td>(4.0, 0.0, 0.0, 0.0, 0.0, 1032.0, 318.0, 2.0, ...</td>\n",
       "      <td>244400.0</td>\n",
       "    </tr>\n",
       "    <tr>\n",
       "      <th>1320</th>\n",
       "      <td>(3.0, 180.0, 352.0, 1.0, 0.0, 676.0, 168.0, 0....</td>\n",
       "      <td>138000.0</td>\n",
       "    </tr>\n",
       "    <tr>\n",
       "      <th>1321</th>\n",
       "      <td>(2.0, 16.0, 0.0, 0.0, 0.0, 1129.0, 0.0, 1.0, 2...</td>\n",
       "      <td>160200.0</td>\n",
       "    </tr>\n",
       "    <tr>\n",
       "      <th>1322</th>\n",
       "      <td>(3.0, 0.0, 0.0, 0.0, 0.0, 1097.0, 0.0, 0.0, 1....</td>\n",
       "      <td>145000.0</td>\n",
       "    </tr>\n",
       "    <tr>\n",
       "      <th>1323</th>\n",
       "      <td>(3.0, 0.0, 0.0, 0.0, 0.0, 585.0, 0.0, 1.0, 3.0...</td>\n",
       "      <td>178000.0</td>\n",
       "    </tr>\n",
       "    <tr>\n",
       "      <th>1324</th>\n",
       "      <td>(3.0, 191.0, 0.0, 0.0, 0.0, 673.0, 0.0, 0.0, 1...</td>\n",
       "      <td>124500.0</td>\n",
       "    </tr>\n",
       "    <tr>\n",
       "      <th>1325</th>\n",
       "      <td>(3.0, 1390.0, 0.0, 1.0, 0.0, 0.0, 0.0, 2.0, 2....</td>\n",
       "      <td>171000.0</td>\n",
       "    </tr>\n",
       "    <tr>\n",
       "      <th>1326</th>\n",
       "      <td>(4.0, 624.0, 0.0, 1.0, 0.0, 193.0, 0.0, 1.0, 2...</td>\n",
       "      <td>214900.0</td>\n",
       "    </tr>\n",
       "    <tr>\n",
       "      <th>1327</th>\n",
       "      <td>(3.0, 1646.0, 0.0, 1.0, 0.0, 284.0, 0.0, 1.0, ...</td>\n",
       "      <td>395192.0</td>\n",
       "    </tr>\n",
       "    <tr>\n",
       "      <th>1328</th>\n",
       "      <td>(2.0, 1373.0, 0.0, 1.0, 1.0, 221.0, 0.0, 1.0, ...</td>\n",
       "      <td>275000.0</td>\n",
       "    </tr>\n",
       "    <tr>\n",
       "      <th>1329</th>\n",
       "      <td>(3.0, 438.0, 0.0, 0.0, 0.0, 234.0, 0.0, 1.0, 2...</td>\n",
       "      <td>158900.0</td>\n",
       "    </tr>\n",
       "    <tr>\n",
       "      <th>1330</th>\n",
       "      <td>(3.0, 565.0, 0.0, 0.0, 0.0, 818.0, 0.0, 0.0, 1...</td>\n",
       "      <td>145250.0</td>\n",
       "    </tr>\n",
       "    <tr>\n",
       "      <th>1331</th>\n",
       "      <td>(2.0, 841.0, 0.0, 1.0, 0.0, 324.0, 0.0, 2.0, 1...</td>\n",
       "      <td>157000.0</td>\n",
       "    </tr>\n",
       "    <tr>\n",
       "      <th>1332</th>\n",
       "      <td>(2.0, 338.0, 0.0, 1.0, 0.0, 1221.0, 230.0, 0.0...</td>\n",
       "      <td>153500.0</td>\n",
       "    </tr>\n",
       "    <tr>\n",
       "      <th>1333</th>\n",
       "      <td>(4.0, 2096.0, 0.0, 1.0, 0.0, 300.0, 0.0, 2.0, ...</td>\n",
       "      <td>745000.0</td>\n",
       "    </tr>\n",
       "    <tr>\n",
       "      <th>1334</th>\n",
       "      <td>(3.0, 0.0, 0.0, 0.0, 0.0, 1372.0, 0.0, 0.0, 2....</td>\n",
       "      <td>250580.0</td>\n",
       "    </tr>\n",
       "    <tr>\n",
       "      <th>1335</th>\n",
       "      <td>(3.0, 551.0, 0.0, 1.0, 0.0, 121.0, 0.0, 0.0, 2...</td>\n",
       "      <td>103600.0</td>\n",
       "    </tr>\n",
       "    <tr>\n",
       "      <th>1336</th>\n",
       "      <td>(3.0, 368.0, 41.0, 1.0, 0.0, 359.0, 0.0, 1.0, ...</td>\n",
       "      <td>105000.0</td>\n",
       "    </tr>\n",
       "    <tr>\n",
       "      <th>1337</th>\n",
       "      <td>(2.0, 0.0, 0.0, 0.0, 0.0, 1008.0, 130.0, 1.0, ...</td>\n",
       "      <td>115000.0</td>\n",
       "    </tr>\n",
       "  </tbody>\n",
       "</table>\n",
       "<p>1338 rows × 2 columns</p>\n",
       "</div>"
      ],
      "text/plain": [
       "                                               features  SalePrice\n",
       "0     (3.0, 1162.0, 0.0, 0.0, 0.0, 426.0, 0.0, 0.0, ...   214000.0\n",
       "1     (3.0, 0.0, 0.0, 0.0, 0.0, 384.0, 0.0, 1.0, 2.0...   168500.0\n",
       "2     (4.0, 674.0, 106.0, 1.0, 0.0, 0.0, 0.0, 0.0, 1...   167900.0\n",
       "3     (1.0, 515.0, 0.0, 1.0, 0.0, 115.0, 0.0, 0.0, 1...    86000.0\n",
       "4     (5.0, 523.0, 0.0, 1.0, 0.0, 301.0, 0.0, 2.0, 2...   197000.0\n",
       "5     (3.0, 0.0, 0.0, 0.0, 0.0, 798.0, 0.0, 0.0, 2.0...   183000.0\n",
       "6     (3.0, 616.0, 0.0, 0.0, 0.0, 248.0, 0.0, 0.0, 1...   120500.0\n",
       "7     (2.0, 0.0, 0.0, 0.0, 0.0, 648.0, 0.0, 0.0, 1.0...   116000.0\n",
       "8     (2.0, 623.0, 121.0, 1.0, 0.0, 0.0, 0.0, 0.0, 1...   125000.0\n",
       "9     (3.0, 0.0, 0.0, 0.0, 0.0, 1694.0, 0.0, 0.0, 2....   245350.0\n",
       "10    (3.0, 0.0, 0.0, 0.0, 0.0, 1580.0, 0.0, 0.0, 2....   235128.0\n",
       "11    (3.0, 0.0, 0.0, 1.0, 0.0, 936.0, 0.0, 1.0, 2.0...   186500.0\n",
       "12    (4.0, 241.0, 391.0, 1.0, 0.0, 229.0, 112.0, 0....   119000.0\n",
       "13    (3.0, 738.0, 0.0, 1.0, 0.0, 319.0, 0.0, 1.0, 2...   226000.0\n",
       "14    (3.0, 767.0, 0.0, 1.0, 0.0, 441.0, 0.0, 1.0, 1...   165000.0\n",
       "15    (4.0, 956.0, 182.0, 0.0, 0.0, 384.0, 0.0, 1.0,...   240000.0\n",
       "16    (2.0, 904.0, 0.0, 1.0, 0.0, 410.0, 0.0, 1.0, 2...   230000.0\n",
       "17    (3.0, 1084.0, 0.0, 0.0, 1.0, 92.0, 0.0, 1.0, 1...   157000.0\n",
       "18    (3.0, 16.0, 0.0, 0.0, 1.0, 712.0, 234.0, 1.0, ...   178000.0\n",
       "19    (3.0, 0.0, 0.0, 1.0, 0.0, 1622.0, 0.0, 1.0, 2....   295493.0\n",
       "20    (4.0, 56.0, 64.0, 0.0, 0.0, 1198.0, 0.0, 1.0, ...   290000.0\n",
       "21    (2.0, 228.0, 0.0, 0.0, 0.0, 724.0, 0.0, 0.0, 1...   135750.0\n",
       "22    (3.0, 24.0, 0.0, 0.0, 0.0, 1836.0, 0.0, 1.0, 2...   216837.0\n",
       "23    (3.0, 394.0, 0.0, 0.0, 0.0, 586.0, 156.0, 1.0,...   196500.0\n",
       "24    (3.0, 560.0, 0.0, 1.0, 0.0, 871.0, 0.0, 0.0, 2...   192000.0\n",
       "25    (3.0, 920.0, 180.0, 1.0, 0.0, 38.0, 180.0, 0.0...   137500.0\n",
       "26    (4.0, 655.0, 0.0, 1.0, 0.0, 490.0, 0.0, 1.0, 2...   250000.0\n",
       "27    (2.0, 0.0, 0.0, 0.0, 0.0, 1012.0, 112.0, 1.0, ...   118400.0\n",
       "28    (3.0, 1285.0, 0.0, 1.0, 0.0, 131.0, 0.0, 2.0, ...   167000.0\n",
       "29    (2.0, 778.0, 0.0, 1.0, 0.0, 499.0, 0.0, 1.0, 1...   167000.0\n",
       "...                                                 ...        ...\n",
       "1308  (2.0, 0.0, 0.0, 0.0, 0.0, 968.0, 184.0, 0.0, 1...   100000.0\n",
       "1309  (3.0, 513.0, 0.0, 1.0, 0.0, 227.0, 192.0, 1.0,...   213000.0\n",
       "1310  (3.0, 814.0, 0.0, 0.0, 1.0, 114.0, 0.0, 0.0, 2...   201000.0\n",
       "1311  (3.0, 218.0, 0.0, 0.0, 0.0, 808.0, 242.0, 1.0,...   127000.0\n",
       "1312  (4.0, 562.0, 193.0, 0.0, 1.0, 29.0, 0.0, 1.0, ...   172000.0\n",
       "1313  (2.0, 336.0, 0.0, 0.0, 0.0, 746.0, 0.0, 1.0, 1...   119200.0\n",
       "1314  (4.0, 194.0, 0.0, 0.0, 0.0, 638.0, 0.0, 1.0, 2...   162900.0\n",
       "1315  (3.0, 1464.0, 0.0, 1.0, 0.0, 536.0, 0.0, 0.0, ...   305900.0\n",
       "1316  (3.0, 0.0, 0.0, 0.0, 0.0, 676.0, 0.0, 0.0, 1.0...    66500.0\n",
       "1317  (4.0, 284.0, 0.0, 0.0, 0.0, 717.0, 0.0, 0.0, 2...   145000.0\n",
       "1318  (3.0, 564.0, 0.0, 0.0, 0.0, 563.0, 0.0, 1.0, 1...   158000.0\n",
       "1319  (4.0, 0.0, 0.0, 0.0, 0.0, 1032.0, 318.0, 2.0, ...   244400.0\n",
       "1320  (3.0, 180.0, 352.0, 1.0, 0.0, 676.0, 168.0, 0....   138000.0\n",
       "1321  (2.0, 16.0, 0.0, 0.0, 0.0, 1129.0, 0.0, 1.0, 2...   160200.0\n",
       "1322  (3.0, 0.0, 0.0, 0.0, 0.0, 1097.0, 0.0, 0.0, 1....   145000.0\n",
       "1323  (3.0, 0.0, 0.0, 0.0, 0.0, 585.0, 0.0, 1.0, 3.0...   178000.0\n",
       "1324  (3.0, 191.0, 0.0, 0.0, 0.0, 673.0, 0.0, 0.0, 1...   124500.0\n",
       "1325  (3.0, 1390.0, 0.0, 1.0, 0.0, 0.0, 0.0, 2.0, 2....   171000.0\n",
       "1326  (4.0, 624.0, 0.0, 1.0, 0.0, 193.0, 0.0, 1.0, 2...   214900.0\n",
       "1327  (3.0, 1646.0, 0.0, 1.0, 0.0, 284.0, 0.0, 1.0, ...   395192.0\n",
       "1328  (2.0, 1373.0, 0.0, 1.0, 1.0, 221.0, 0.0, 1.0, ...   275000.0\n",
       "1329  (3.0, 438.0, 0.0, 0.0, 0.0, 234.0, 0.0, 1.0, 2...   158900.0\n",
       "1330  (3.0, 565.0, 0.0, 0.0, 0.0, 818.0, 0.0, 0.0, 1...   145250.0\n",
       "1331  (2.0, 841.0, 0.0, 1.0, 0.0, 324.0, 0.0, 2.0, 1...   157000.0\n",
       "1332  (2.0, 338.0, 0.0, 1.0, 0.0, 1221.0, 230.0, 0.0...   153500.0\n",
       "1333  (4.0, 2096.0, 0.0, 1.0, 0.0, 300.0, 0.0, 2.0, ...   745000.0\n",
       "1334  (3.0, 0.0, 0.0, 0.0, 0.0, 1372.0, 0.0, 0.0, 2....   250580.0\n",
       "1335  (3.0, 551.0, 0.0, 1.0, 0.0, 121.0, 0.0, 0.0, 2...   103600.0\n",
       "1336  (3.0, 368.0, 41.0, 1.0, 0.0, 359.0, 0.0, 1.0, ...   105000.0\n",
       "1337  (2.0, 0.0, 0.0, 0.0, 0.0, 1008.0, 130.0, 1.0, ...   115000.0\n",
       "\n",
       "[1338 rows x 2 columns]"
      ]
     },
     "execution_count": 62,
     "metadata": {},
     "output_type": "execute_result"
    }
   ],
   "source": [
    "vhouse_df.select(['features','SalePrice']).toPandas()"
   ]
  },
  {
   "cell_type": "code",
   "execution_count": 63,
   "metadata": {
    "collapsed": true
   },
   "outputs": [],
   "source": [
    "from pyspark.ml.regression import LinearRegression"
   ]
  },
  {
   "cell_type": "code",
   "execution_count": 64,
   "metadata": {
    "collapsed": true
   },
   "outputs": [],
   "source": [
    "splits = vhouse_df.randomSplit([0.7, 0.3])\n",
    "train_df = splits[0]\n",
    "test_df = splits[1]"
   ]
  },
  {
   "cell_type": "code",
   "execution_count": 65,
   "metadata": {
    "collapsed": true
   },
   "outputs": [],
   "source": [
    "lr = LinearRegression(featuresCol = 'features', labelCol='SalePrice', maxIter=10, regParam=0.3, elasticNetParam=0.8)"
   ]
  },
  {
   "cell_type": "code",
   "execution_count": 66,
   "metadata": {
    "collapsed": true
   },
   "outputs": [],
   "source": [
    "lr_model = lr.fit(train_df)"
   ]
  },
  {
   "cell_type": "code",
   "execution_count": 67,
   "metadata": {},
   "outputs": [
    {
     "name": "stdout",
     "output_type": "stream",
     "text": [
      "Coefficients: [-2940.80240808,6.76149918489,4.03544321451,7458.36844995,4950.54288051,0.47308359485,-9.76371422185,4980.4975211,10179.9916331,13.5838321076,10386.3848206,3187.82104499,-11145.3299893,0.416584939089,24.5094637418,-176.100188747,44.1449600604,0.0,-404.116255814,-0.0,4501.88529916,15026.5025781,-75.6862844101,54.9964116879,5635.62908748,13.7663633287,29.0197235345,18.6047933359,21.5302598391,39.6487615372,-1588.75005171,-3037.04224921,3402.77328054,-163.82609064,-464.119099064,5384.81231788,-7428.12857564,-4369.06064495,-7969.09574519,1373.60221228,-839.139500201,13932.226382,444.282491246,138.766659923,2614.6240506,-4492.52013243,-2536.90703244,-5078.8837686,470.844967352,10565.3542246,1042.2449249,48.9079144322,4.29985626123,-3645.68137329,-2462.2273284,465.986597009,-1.06421494845,9435.3818104,1448.00242603,-2085.70363727,704.528113271,-634.832760153,-311.882402786,-6348.32057054,716.409920692,-10186.4625052,-20423.2728924,4863.77733904,-2020.00116826,3389.21461866,-60323.1494459,-73468.9794165,14.6715656682,131.579991125,338.267480196]\n",
      "Intercept: -68329.4419822\n"
     ]
    }
   ],
   "source": [
    "print(\"Coefficients: \" + str(lr_model.coefficients))\n",
    "print(\"Intercept: \" + str(lr_model.intercept))"
   ]
  },
  {
   "cell_type": "code",
   "execution_count": 68,
   "metadata": {},
   "outputs": [
    {
     "name": "stderr",
     "output_type": "stream",
     "text": [
      "/usr/lib/spark/python/pyspark/ml/regression.py:123: UserWarning: weights is deprecated. Use coefficients instead.\n",
      "  warnings.warn(\"weights is deprecated. Use coefficients instead.\")\n"
     ]
    }
   ],
   "source": [
    "lr_predictions=lr_model.transform(test_df)"
   ]
  },
  {
   "cell_type": "code",
   "execution_count": 69,
   "metadata": {},
   "outputs": [
    {
     "data": {
      "text/html": [
       "<div>\n",
       "<table border=\"1\" class=\"dataframe\">\n",
       "  <thead>\n",
       "    <tr style=\"text-align: right;\">\n",
       "      <th></th>\n",
       "      <th>prediction</th>\n",
       "      <th>features</th>\n",
       "      <th>SalePrice</th>\n",
       "    </tr>\n",
       "  </thead>\n",
       "  <tbody>\n",
       "    <tr>\n",
       "      <th>0</th>\n",
       "      <td>164000.877992</td>\n",
       "      <td>(1.0, 662.0, 0.0, 1.0, 0.0, 186.0, 0.0, 1.0, 1...</td>\n",
       "      <td>144500.0</td>\n",
       "    </tr>\n",
       "    <tr>\n",
       "      <th>1</th>\n",
       "      <td>153676.110832</td>\n",
       "      <td>(2.0, 0.0, 0.0, 0.0, 0.0, 600.0, 0.0, 0.0, 2.0...</td>\n",
       "      <td>147400.0</td>\n",
       "    </tr>\n",
       "    <tr>\n",
       "      <th>2</th>\n",
       "      <td>155062.696882</td>\n",
       "      <td>(2.0, 0.0, 0.0, 0.0, 0.0, 600.0, 0.0, 0.0, 2.0...</td>\n",
       "      <td>151000.0</td>\n",
       "    </tr>\n",
       "    <tr>\n",
       "      <th>3</th>\n",
       "      <td>207782.255628</td>\n",
       "      <td>(2.0, 0.0, 0.0, 0.0, 0.0, 880.0, 0.0, 1.0, 2.0...</td>\n",
       "      <td>191000.0</td>\n",
       "    </tr>\n",
       "    <tr>\n",
       "      <th>4</th>\n",
       "      <td>103701.092343</td>\n",
       "      <td>(2.0, 0.0, 0.0, 0.0, 0.0, 952.0, 0.0, 1.0, 1.0...</td>\n",
       "      <td>121000.0</td>\n",
       "    </tr>\n",
       "    <tr>\n",
       "      <th>5</th>\n",
       "      <td>174902.329274</td>\n",
       "      <td>(2.0, 0.0, 0.0, 0.0, 0.0, 952.0, 205.0, 2.0, 2...</td>\n",
       "      <td>129900.0</td>\n",
       "    </tr>\n",
       "    <tr>\n",
       "      <th>6</th>\n",
       "      <td>111161.800214</td>\n",
       "      <td>(2.0, 0.0, 0.0, 0.0, 0.0, 988.0, 0.0, 0.0, 1.0...</td>\n",
       "      <td>113000.0</td>\n",
       "    </tr>\n",
       "    <tr>\n",
       "      <th>7</th>\n",
       "      <td>176189.196051</td>\n",
       "      <td>(2.0, 0.0, 0.0, 0.0, 0.0, 1442.0, 0.0, 1.0, 2....</td>\n",
       "      <td>185000.0</td>\n",
       "    </tr>\n",
       "    <tr>\n",
       "      <th>8</th>\n",
       "      <td>203251.162449</td>\n",
       "      <td>(2.0, 24.0, 0.0, 0.0, 0.0, 1346.0, 0.0, 1.0, 2...</td>\n",
       "      <td>202500.0</td>\n",
       "    </tr>\n",
       "    <tr>\n",
       "      <th>9</th>\n",
       "      <td>70148.832515</td>\n",
       "      <td>(2.0, 104.0, 712.0, 1.0, 0.0, 0.0, 0.0, 0.0, 1...</td>\n",
       "      <td>110000.0</td>\n",
       "    </tr>\n",
       "    <tr>\n",
       "      <th>10</th>\n",
       "      <td>145814.707982</td>\n",
       "      <td>(2.0, 210.0, 606.0, 1.0, 0.0, 0.0, 112.0, 0.0,...</td>\n",
       "      <td>130000.0</td>\n",
       "    </tr>\n",
       "    <tr>\n",
       "      <th>11</th>\n",
       "      <td>137828.243462</td>\n",
       "      <td>(2.0, 294.0, 0.0, 0.0, 0.0, 318.0, 0.0, 0.0, 2...</td>\n",
       "      <td>173733.0</td>\n",
       "    </tr>\n",
       "    <tr>\n",
       "      <th>12</th>\n",
       "      <td>173577.942226</td>\n",
       "      <td>(2.0, 419.0, 0.0, 0.0, 0.0, 310.0, 0.0, 1.0, 2...</td>\n",
       "      <td>176000.0</td>\n",
       "    </tr>\n",
       "    <tr>\n",
       "      <th>13</th>\n",
       "      <td>120379.131629</td>\n",
       "      <td>(2.0, 459.0, 0.0, 1.0, 0.0, 88.0, 0.0, 0.0, 1....</td>\n",
       "      <td>148000.0</td>\n",
       "    </tr>\n",
       "    <tr>\n",
       "      <th>14</th>\n",
       "      <td>114921.905254</td>\n",
       "      <td>(2.0, 504.0, 0.0, 0.0, 0.0, 546.0, 0.0, 0.0, 1...</td>\n",
       "      <td>128900.0</td>\n",
       "    </tr>\n",
       "    <tr>\n",
       "      <th>15</th>\n",
       "      <td>128844.412916</td>\n",
       "      <td>(2.0, 623.0, 121.0, 1.0, 0.0, 0.0, 0.0, 0.0, 1...</td>\n",
       "      <td>125000.0</td>\n",
       "    </tr>\n",
       "    <tr>\n",
       "      <th>16</th>\n",
       "      <td>129537.103560</td>\n",
       "      <td>(2.0, 643.0, 0.0, 1.0, 0.0, 365.0, 0.0, 0.0, 1...</td>\n",
       "      <td>134500.0</td>\n",
       "    </tr>\n",
       "    <tr>\n",
       "      <th>17</th>\n",
       "      <td>150162.756958</td>\n",
       "      <td>(2.0, 733.0, 0.0, 1.0, 0.0, 520.0, 176.0, 1.0,...</td>\n",
       "      <td>157000.0</td>\n",
       "    </tr>\n",
       "    <tr>\n",
       "      <th>18</th>\n",
       "      <td>142322.149255</td>\n",
       "      <td>(2.0, 747.0, 93.0, 1.0, 0.0, 0.0, 0.0, 0.0, 1....</td>\n",
       "      <td>144000.0</td>\n",
       "    </tr>\n",
       "    <tr>\n",
       "      <th>19</th>\n",
       "      <td>170098.141578</td>\n",
       "      <td>(2.0, 778.0, 0.0, 1.0, 0.0, 499.0, 0.0, 1.0, 1...</td>\n",
       "      <td>167000.0</td>\n",
       "    </tr>\n",
       "    <tr>\n",
       "      <th>20</th>\n",
       "      <td>142480.581967</td>\n",
       "      <td>(2.0, 860.0, 0.0, 1.0, 0.0, 132.0, 0.0, 0.0, 1...</td>\n",
       "      <td>153000.0</td>\n",
       "    </tr>\n",
       "    <tr>\n",
       "      <th>21</th>\n",
       "      <td>160356.881313</td>\n",
       "      <td>(2.0, 897.0, 0.0, 1.0, 0.0, 319.0, 0.0, 0.0, 2...</td>\n",
       "      <td>164000.0</td>\n",
       "    </tr>\n",
       "    <tr>\n",
       "      <th>22</th>\n",
       "      <td>169883.862150</td>\n",
       "      <td>(2.0, 905.0, 0.0, 0.0, 0.0, 357.0, 0.0, 0.0, 2...</td>\n",
       "      <td>185000.0</td>\n",
       "    </tr>\n",
       "    <tr>\n",
       "      <th>23</th>\n",
       "      <td>231905.953516</td>\n",
       "      <td>(2.0, 1070.0, 0.0, 1.0, 0.0, 286.0, 0.0, 1.0, ...</td>\n",
       "      <td>246578.0</td>\n",
       "    </tr>\n",
       "    <tr>\n",
       "      <th>24</th>\n",
       "      <td>164570.977787</td>\n",
       "      <td>(3.0, 0.0, 0.0, 0.0, 0.0, 384.0, 0.0, 1.0, 2.0...</td>\n",
       "      <td>168500.0</td>\n",
       "    </tr>\n",
       "    <tr>\n",
       "      <th>25</th>\n",
       "      <td>135804.432985</td>\n",
       "      <td>(3.0, 0.0, 0.0, 0.0, 0.0, 651.0, 126.0, 2.0, 1...</td>\n",
       "      <td>135000.0</td>\n",
       "    </tr>\n",
       "    <tr>\n",
       "      <th>26</th>\n",
       "      <td>136895.782380</td>\n",
       "      <td>(3.0, 0.0, 0.0, 0.0, 0.0, 698.0, 0.0, 0.0, 1.0...</td>\n",
       "      <td>153575.0</td>\n",
       "    </tr>\n",
       "    <tr>\n",
       "      <th>27</th>\n",
       "      <td>215355.050953</td>\n",
       "      <td>(3.0, 0.0, 0.0, 0.0, 0.0, 712.0, 0.0, 1.0, 2.0...</td>\n",
       "      <td>194500.0</td>\n",
       "    </tr>\n",
       "    <tr>\n",
       "      <th>28</th>\n",
       "      <td>214368.952667</td>\n",
       "      <td>(3.0, 0.0, 0.0, 0.0, 0.0, 792.0, 0.0, 2.0, 1.0...</td>\n",
       "      <td>230000.0</td>\n",
       "    </tr>\n",
       "    <tr>\n",
       "      <th>29</th>\n",
       "      <td>125323.842946</td>\n",
       "      <td>(3.0, 0.0, 0.0, 0.0, 0.0, 896.0, 0.0, 0.0, 1.0...</td>\n",
       "      <td>115000.0</td>\n",
       "    </tr>\n",
       "    <tr>\n",
       "      <th>...</th>\n",
       "      <td>...</td>\n",
       "      <td>...</td>\n",
       "      <td>...</td>\n",
       "    </tr>\n",
       "    <tr>\n",
       "      <th>374</th>\n",
       "      <td>247680.498848</td>\n",
       "      <td>(3.0, 341.0, 0.0, 0.0, 1.0, 457.0, 150.0, 2.0,...</td>\n",
       "      <td>311500.0</td>\n",
       "    </tr>\n",
       "    <tr>\n",
       "      <th>375</th>\n",
       "      <td>105004.114352</td>\n",
       "      <td>(3.0, 375.0, 239.0, 0.0, 0.0, 250.0, 0.0, 0.0,...</td>\n",
       "      <td>120500.0</td>\n",
       "    </tr>\n",
       "    <tr>\n",
       "      <th>376</th>\n",
       "      <td>130889.792147</td>\n",
       "      <td>(3.0, 425.0, 0.0, 0.0, 0.0, 459.0, 0.0, 1.0, 1...</td>\n",
       "      <td>127500.0</td>\n",
       "    </tr>\n",
       "    <tr>\n",
       "      <th>377</th>\n",
       "      <td>285354.782154</td>\n",
       "      <td>(3.0, 485.0, 177.0, 0.0, 0.0, 1496.0, 0.0, 1.0...</td>\n",
       "      <td>271900.0</td>\n",
       "    </tr>\n",
       "    <tr>\n",
       "      <th>378</th>\n",
       "      <td>99460.666395</td>\n",
       "      <td>(3.0, 492.0, 0.0, 0.0, 0.0, 372.0, 0.0, 0.0, 1...</td>\n",
       "      <td>111000.0</td>\n",
       "    </tr>\n",
       "    <tr>\n",
       "      <th>379</th>\n",
       "      <td>227715.705446</td>\n",
       "      <td>(3.0, 513.0, 0.0, 1.0, 0.0, 227.0, 192.0, 1.0,...</td>\n",
       "      <td>213000.0</td>\n",
       "    </tr>\n",
       "    <tr>\n",
       "      <th>380</th>\n",
       "      <td>115334.016630</td>\n",
       "      <td>(3.0, 547.0, 0.0, 0.0, 0.0, 504.0, 0.0, 1.0, 1...</td>\n",
       "      <td>148000.0</td>\n",
       "    </tr>\n",
       "    <tr>\n",
       "      <th>381</th>\n",
       "      <td>151080.859873</td>\n",
       "      <td>(3.0, 565.0, 0.0, 0.0, 0.0, 818.0, 0.0, 0.0, 1...</td>\n",
       "      <td>145250.0</td>\n",
       "    </tr>\n",
       "    <tr>\n",
       "      <th>382</th>\n",
       "      <td>245440.914694</td>\n",
       "      <td>(3.0, 584.0, 0.0, 0.0, 0.0, 544.0, 0.0, 1.0, 2...</td>\n",
       "      <td>239500.0</td>\n",
       "    </tr>\n",
       "    <tr>\n",
       "      <th>383</th>\n",
       "      <td>182862.355105</td>\n",
       "      <td>(3.0, 600.0, 0.0, 0.0, 0.0, 312.0, 0.0, 1.0, 1...</td>\n",
       "      <td>159000.0</td>\n",
       "    </tr>\n",
       "    <tr>\n",
       "      <th>384</th>\n",
       "      <td>167936.944640</td>\n",
       "      <td>(3.0, 605.0, 0.0, 0.0, 1.0, 427.0, 0.0, 1.0, 2...</td>\n",
       "      <td>148000.0</td>\n",
       "    </tr>\n",
       "    <tr>\n",
       "      <th>385</th>\n",
       "      <td>216734.683661</td>\n",
       "      <td>(3.0, 625.0, 1061.0, 1.0, 0.0, 0.0, 0.0, 1.0, ...</td>\n",
       "      <td>207500.0</td>\n",
       "    </tr>\n",
       "    <tr>\n",
       "      <th>386</th>\n",
       "      <td>223459.326685</td>\n",
       "      <td>(3.0, 678.0, 0.0, 0.0, 0.0, 762.0, 99.0, 1.0, ...</td>\n",
       "      <td>182900.0</td>\n",
       "    </tr>\n",
       "    <tr>\n",
       "      <th>387</th>\n",
       "      <td>225241.433831</td>\n",
       "      <td>(3.0, 705.0, 0.0, 0.0, 0.0, 1139.0, 0.0, 1.0, ...</td>\n",
       "      <td>190000.0</td>\n",
       "    </tr>\n",
       "    <tr>\n",
       "      <th>388</th>\n",
       "      <td>148827.199000</td>\n",
       "      <td>(3.0, 740.0, 230.0, 0.0, 0.0, 184.0, 0.0, 1.0,...</td>\n",
       "      <td>154000.0</td>\n",
       "    </tr>\n",
       "    <tr>\n",
       "      <th>389</th>\n",
       "      <td>153375.200688</td>\n",
       "      <td>(3.0, 777.0, 0.0, 0.0, 0.0, 467.0, 0.0, 2.0, 1...</td>\n",
       "      <td>150000.0</td>\n",
       "    </tr>\n",
       "    <tr>\n",
       "      <th>390</th>\n",
       "      <td>266675.899492</td>\n",
       "      <td>(3.0, 789.0, 0.0, 1.0, 0.0, 119.0, 0.0, 1.0, 2...</td>\n",
       "      <td>220000.0</td>\n",
       "    </tr>\n",
       "    <tr>\n",
       "      <th>391</th>\n",
       "      <td>183738.046366</td>\n",
       "      <td>(3.0, 916.0, 0.0, 0.0, 0.0, 326.0, 0.0, 1.0, 1...</td>\n",
       "      <td>175500.0</td>\n",
       "    </tr>\n",
       "    <tr>\n",
       "      <th>392</th>\n",
       "      <td>151354.449966</td>\n",
       "      <td>(3.0, 932.0, 0.0, 1.0, 0.0, 108.0, 0.0, 0.0, 1...</td>\n",
       "      <td>129000.0</td>\n",
       "    </tr>\n",
       "    <tr>\n",
       "      <th>393</th>\n",
       "      <td>229712.062493</td>\n",
       "      <td>(3.0, 1013.0, 0.0, 1.0, 0.0, 440.0, 0.0, 0.0, ...</td>\n",
       "      <td>226000.0</td>\n",
       "    </tr>\n",
       "    <tr>\n",
       "      <th>394</th>\n",
       "      <td>229589.283123</td>\n",
       "      <td>(3.0, 1246.0, 0.0, 0.0, 1.0, 356.0, 0.0, 1.0, ...</td>\n",
       "      <td>215000.0</td>\n",
       "    </tr>\n",
       "    <tr>\n",
       "      <th>395</th>\n",
       "      <td>115607.560096</td>\n",
       "      <td>(4.0, 0.0, 0.0, 0.0, 0.0, 624.0, 96.0, 0.0, 1....</td>\n",
       "      <td>98000.0</td>\n",
       "    </tr>\n",
       "    <tr>\n",
       "      <th>396</th>\n",
       "      <td>131373.624617</td>\n",
       "      <td>(4.0, 0.0, 0.0, 0.0, 0.0, 780.0, 0.0, 1.0, 1.0...</td>\n",
       "      <td>132500.0</td>\n",
       "    </tr>\n",
       "    <tr>\n",
       "      <th>397</th>\n",
       "      <td>188446.544524</td>\n",
       "      <td>(4.0, 57.0, 441.0, 1.0, 0.0, 554.0, 0.0, 1.0, ...</td>\n",
       "      <td>172500.0</td>\n",
       "    </tr>\n",
       "    <tr>\n",
       "      <th>398</th>\n",
       "      <td>202642.638176</td>\n",
       "      <td>(4.0, 194.0, 0.0, 0.0, 0.0, 638.0, 0.0, 1.0, 2...</td>\n",
       "      <td>162900.0</td>\n",
       "    </tr>\n",
       "    <tr>\n",
       "      <th>399</th>\n",
       "      <td>205458.867087</td>\n",
       "      <td>(4.0, 503.0, 0.0, 0.0, 0.0, 449.0, 0.0, 1.0, 2...</td>\n",
       "      <td>239000.0</td>\n",
       "    </tr>\n",
       "    <tr>\n",
       "      <th>400</th>\n",
       "      <td>170311.652333</td>\n",
       "      <td>(4.0, 562.0, 193.0, 0.0, 1.0, 29.0, 0.0, 1.0, ...</td>\n",
       "      <td>172000.0</td>\n",
       "    </tr>\n",
       "    <tr>\n",
       "      <th>401</th>\n",
       "      <td>320815.874758</td>\n",
       "      <td>(4.0, 689.0, 0.0, 1.0, 0.0, 773.0, 202.0, 1.0,...</td>\n",
       "      <td>403000.0</td>\n",
       "    </tr>\n",
       "    <tr>\n",
       "      <th>402</th>\n",
       "      <td>315894.610346</td>\n",
       "      <td>(4.0, 871.0, 0.0, 1.0, 0.0, 611.0, 0.0, 2.0, 2...</td>\n",
       "      <td>305000.0</td>\n",
       "    </tr>\n",
       "    <tr>\n",
       "      <th>403</th>\n",
       "      <td>396423.942743</td>\n",
       "      <td>(4.0, 2096.0, 0.0, 1.0, 0.0, 300.0, 0.0, 2.0, ...</td>\n",
       "      <td>745000.0</td>\n",
       "    </tr>\n",
       "  </tbody>\n",
       "</table>\n",
       "<p>404 rows × 3 columns</p>\n",
       "</div>"
      ],
      "text/plain": [
       "        prediction                                           features  \\\n",
       "0    164000.877992  (1.0, 662.0, 0.0, 1.0, 0.0, 186.0, 0.0, 1.0, 1...   \n",
       "1    153676.110832  (2.0, 0.0, 0.0, 0.0, 0.0, 600.0, 0.0, 0.0, 2.0...   \n",
       "2    155062.696882  (2.0, 0.0, 0.0, 0.0, 0.0, 600.0, 0.0, 0.0, 2.0...   \n",
       "3    207782.255628  (2.0, 0.0, 0.0, 0.0, 0.0, 880.0, 0.0, 1.0, 2.0...   \n",
       "4    103701.092343  (2.0, 0.0, 0.0, 0.0, 0.0, 952.0, 0.0, 1.0, 1.0...   \n",
       "5    174902.329274  (2.0, 0.0, 0.0, 0.0, 0.0, 952.0, 205.0, 2.0, 2...   \n",
       "6    111161.800214  (2.0, 0.0, 0.0, 0.0, 0.0, 988.0, 0.0, 0.0, 1.0...   \n",
       "7    176189.196051  (2.0, 0.0, 0.0, 0.0, 0.0, 1442.0, 0.0, 1.0, 2....   \n",
       "8    203251.162449  (2.0, 24.0, 0.0, 0.0, 0.0, 1346.0, 0.0, 1.0, 2...   \n",
       "9     70148.832515  (2.0, 104.0, 712.0, 1.0, 0.0, 0.0, 0.0, 0.0, 1...   \n",
       "10   145814.707982  (2.0, 210.0, 606.0, 1.0, 0.0, 0.0, 112.0, 0.0,...   \n",
       "11   137828.243462  (2.0, 294.0, 0.0, 0.0, 0.0, 318.0, 0.0, 0.0, 2...   \n",
       "12   173577.942226  (2.0, 419.0, 0.0, 0.0, 0.0, 310.0, 0.0, 1.0, 2...   \n",
       "13   120379.131629  (2.0, 459.0, 0.0, 1.0, 0.0, 88.0, 0.0, 0.0, 1....   \n",
       "14   114921.905254  (2.0, 504.0, 0.0, 0.0, 0.0, 546.0, 0.0, 0.0, 1...   \n",
       "15   128844.412916  (2.0, 623.0, 121.0, 1.0, 0.0, 0.0, 0.0, 0.0, 1...   \n",
       "16   129537.103560  (2.0, 643.0, 0.0, 1.0, 0.0, 365.0, 0.0, 0.0, 1...   \n",
       "17   150162.756958  (2.0, 733.0, 0.0, 1.0, 0.0, 520.0, 176.0, 1.0,...   \n",
       "18   142322.149255  (2.0, 747.0, 93.0, 1.0, 0.0, 0.0, 0.0, 0.0, 1....   \n",
       "19   170098.141578  (2.0, 778.0, 0.0, 1.0, 0.0, 499.0, 0.0, 1.0, 1...   \n",
       "20   142480.581967  (2.0, 860.0, 0.0, 1.0, 0.0, 132.0, 0.0, 0.0, 1...   \n",
       "21   160356.881313  (2.0, 897.0, 0.0, 1.0, 0.0, 319.0, 0.0, 0.0, 2...   \n",
       "22   169883.862150  (2.0, 905.0, 0.0, 0.0, 0.0, 357.0, 0.0, 0.0, 2...   \n",
       "23   231905.953516  (2.0, 1070.0, 0.0, 1.0, 0.0, 286.0, 0.0, 1.0, ...   \n",
       "24   164570.977787  (3.0, 0.0, 0.0, 0.0, 0.0, 384.0, 0.0, 1.0, 2.0...   \n",
       "25   135804.432985  (3.0, 0.0, 0.0, 0.0, 0.0, 651.0, 126.0, 2.0, 1...   \n",
       "26   136895.782380  (3.0, 0.0, 0.0, 0.0, 0.0, 698.0, 0.0, 0.0, 1.0...   \n",
       "27   215355.050953  (3.0, 0.0, 0.0, 0.0, 0.0, 712.0, 0.0, 1.0, 2.0...   \n",
       "28   214368.952667  (3.0, 0.0, 0.0, 0.0, 0.0, 792.0, 0.0, 2.0, 1.0...   \n",
       "29   125323.842946  (3.0, 0.0, 0.0, 0.0, 0.0, 896.0, 0.0, 0.0, 1.0...   \n",
       "..             ...                                                ...   \n",
       "374  247680.498848  (3.0, 341.0, 0.0, 0.0, 1.0, 457.0, 150.0, 2.0,...   \n",
       "375  105004.114352  (3.0, 375.0, 239.0, 0.0, 0.0, 250.0, 0.0, 0.0,...   \n",
       "376  130889.792147  (3.0, 425.0, 0.0, 0.0, 0.0, 459.0, 0.0, 1.0, 1...   \n",
       "377  285354.782154  (3.0, 485.0, 177.0, 0.0, 0.0, 1496.0, 0.0, 1.0...   \n",
       "378   99460.666395  (3.0, 492.0, 0.0, 0.0, 0.0, 372.0, 0.0, 0.0, 1...   \n",
       "379  227715.705446  (3.0, 513.0, 0.0, 1.0, 0.0, 227.0, 192.0, 1.0,...   \n",
       "380  115334.016630  (3.0, 547.0, 0.0, 0.0, 0.0, 504.0, 0.0, 1.0, 1...   \n",
       "381  151080.859873  (3.0, 565.0, 0.0, 0.0, 0.0, 818.0, 0.0, 0.0, 1...   \n",
       "382  245440.914694  (3.0, 584.0, 0.0, 0.0, 0.0, 544.0, 0.0, 1.0, 2...   \n",
       "383  182862.355105  (3.0, 600.0, 0.0, 0.0, 0.0, 312.0, 0.0, 1.0, 1...   \n",
       "384  167936.944640  (3.0, 605.0, 0.0, 0.0, 1.0, 427.0, 0.0, 1.0, 2...   \n",
       "385  216734.683661  (3.0, 625.0, 1061.0, 1.0, 0.0, 0.0, 0.0, 1.0, ...   \n",
       "386  223459.326685  (3.0, 678.0, 0.0, 0.0, 0.0, 762.0, 99.0, 1.0, ...   \n",
       "387  225241.433831  (3.0, 705.0, 0.0, 0.0, 0.0, 1139.0, 0.0, 1.0, ...   \n",
       "388  148827.199000  (3.0, 740.0, 230.0, 0.0, 0.0, 184.0, 0.0, 1.0,...   \n",
       "389  153375.200688  (3.0, 777.0, 0.0, 0.0, 0.0, 467.0, 0.0, 2.0, 1...   \n",
       "390  266675.899492  (3.0, 789.0, 0.0, 1.0, 0.0, 119.0, 0.0, 1.0, 2...   \n",
       "391  183738.046366  (3.0, 916.0, 0.0, 0.0, 0.0, 326.0, 0.0, 1.0, 1...   \n",
       "392  151354.449966  (3.0, 932.0, 0.0, 1.0, 0.0, 108.0, 0.0, 0.0, 1...   \n",
       "393  229712.062493  (3.0, 1013.0, 0.0, 1.0, 0.0, 440.0, 0.0, 0.0, ...   \n",
       "394  229589.283123  (3.0, 1246.0, 0.0, 0.0, 1.0, 356.0, 0.0, 1.0, ...   \n",
       "395  115607.560096  (4.0, 0.0, 0.0, 0.0, 0.0, 624.0, 96.0, 0.0, 1....   \n",
       "396  131373.624617  (4.0, 0.0, 0.0, 0.0, 0.0, 780.0, 0.0, 1.0, 1.0...   \n",
       "397  188446.544524  (4.0, 57.0, 441.0, 1.0, 0.0, 554.0, 0.0, 1.0, ...   \n",
       "398  202642.638176  (4.0, 194.0, 0.0, 0.0, 0.0, 638.0, 0.0, 1.0, 2...   \n",
       "399  205458.867087  (4.0, 503.0, 0.0, 0.0, 0.0, 449.0, 0.0, 1.0, 2...   \n",
       "400  170311.652333  (4.0, 562.0, 193.0, 0.0, 1.0, 29.0, 0.0, 1.0, ...   \n",
       "401  320815.874758  (4.0, 689.0, 0.0, 1.0, 0.0, 773.0, 202.0, 1.0,...   \n",
       "402  315894.610346  (4.0, 871.0, 0.0, 1.0, 0.0, 611.0, 0.0, 2.0, 2...   \n",
       "403  396423.942743  (4.0, 2096.0, 0.0, 1.0, 0.0, 300.0, 0.0, 2.0, ...   \n",
       "\n",
       "     SalePrice  \n",
       "0     144500.0  \n",
       "1     147400.0  \n",
       "2     151000.0  \n",
       "3     191000.0  \n",
       "4     121000.0  \n",
       "5     129900.0  \n",
       "6     113000.0  \n",
       "7     185000.0  \n",
       "8     202500.0  \n",
       "9     110000.0  \n",
       "10    130000.0  \n",
       "11    173733.0  \n",
       "12    176000.0  \n",
       "13    148000.0  \n",
       "14    128900.0  \n",
       "15    125000.0  \n",
       "16    134500.0  \n",
       "17    157000.0  \n",
       "18    144000.0  \n",
       "19    167000.0  \n",
       "20    153000.0  \n",
       "21    164000.0  \n",
       "22    185000.0  \n",
       "23    246578.0  \n",
       "24    168500.0  \n",
       "25    135000.0  \n",
       "26    153575.0  \n",
       "27    194500.0  \n",
       "28    230000.0  \n",
       "29    115000.0  \n",
       "..         ...  \n",
       "374   311500.0  \n",
       "375   120500.0  \n",
       "376   127500.0  \n",
       "377   271900.0  \n",
       "378   111000.0  \n",
       "379   213000.0  \n",
       "380   148000.0  \n",
       "381   145250.0  \n",
       "382   239500.0  \n",
       "383   159000.0  \n",
       "384   148000.0  \n",
       "385   207500.0  \n",
       "386   182900.0  \n",
       "387   190000.0  \n",
       "388   154000.0  \n",
       "389   150000.0  \n",
       "390   220000.0  \n",
       "391   175500.0  \n",
       "392   129000.0  \n",
       "393   226000.0  \n",
       "394   215000.0  \n",
       "395    98000.0  \n",
       "396   132500.0  \n",
       "397   172500.0  \n",
       "398   162900.0  \n",
       "399   239000.0  \n",
       "400   172000.0  \n",
       "401   403000.0  \n",
       "402   305000.0  \n",
       "403   745000.0  \n",
       "\n",
       "[404 rows x 3 columns]"
      ]
     },
     "execution_count": 69,
     "metadata": {},
     "output_type": "execute_result"
    }
   ],
   "source": [
    "lr_predictions.select(['prediction','features','SalePrice']).toPandas()"
   ]
  },
  {
   "cell_type": "code",
   "execution_count": 70,
   "metadata": {},
   "outputs": [
    {
     "name": "stdout",
     "output_type": "stream",
     "text": [
      "R Squared (R2) on test data = 0.825681\n"
     ]
    }
   ],
   "source": [
    "#Evaluating R squared on test data for the Mean Model.\n",
    "from pyspark.ml.evaluation import RegressionEvaluator\n",
    "lr_evaluator = RegressionEvaluator(predictionCol=\"prediction\",labelCol=\"SalePrice\",metricName=\"r2\")\n",
    "print(\"R Squared (R2) on test data = %g\" % lr_evaluator.evaluate(lr_predictions))"
   ]
  },
  {
   "cell_type": "markdown",
   "metadata": {},
   "source": [
    "# Regularization."
   ]
  },
  {
   "cell_type": "code",
   "execution_count": 71,
   "metadata": {
    "collapsed": true
   },
   "outputs": [],
   "source": [
    "\n",
    "#Creating a Correlation Dictionary to select the best positively and negatively Correlated values.\n",
    "correlation_dict={}"
   ]
  },
  {
   "cell_type": "code",
   "execution_count": 72,
   "metadata": {
    "collapsed": true
   },
   "outputs": [],
   "source": [
    "for col in indexed_df.columns:\n",
    "    correlation_dict[col]=indexed_df.corr(col1='SalePrice',col2=col)"
   ]
  },
  {
   "cell_type": "code",
   "execution_count": 73,
   "metadata": {
    "collapsed": true
   },
   "outputs": [],
   "source": [
    "#https://stackoverflow.com/questions/613183/how-do-i-sort-a-dictionary-by-value\n",
    "import operator\n",
    "#x = {1: 2, 3: 4, 4: 3, 2: 1, 0: 0}\n",
    "sorted_dict = sorted(correlation_dict.items(), key=operator.itemgetter(1),reverse=True)"
   ]
  },
  {
   "cell_type": "code",
   "execution_count": 74,
   "metadata": {},
   "outputs": [
    {
     "data": {
      "text/plain": [
       "'SalePrice'"
      ]
     },
     "execution_count": 74,
     "metadata": {},
     "output_type": "execute_result"
    }
   ],
   "source": [
    "sorted_dict[0:15][0][0]"
   ]
  },
  {
   "cell_type": "code",
   "execution_count": 75,
   "metadata": {},
   "outputs": [
    {
     "data": {
      "text/plain": [
       "[('YearBuilt_categorical', -0.2584674862545119),\n",
       " ('GarageYrBlt_categorical', -0.3069782036198707),\n",
       " ('HeatingQC_categorical', -0.3512288079018139),\n",
       " ('BsmtFinType1_categorical', -0.3683682843913952),\n",
       " ('Foundation_categorical', -0.4407291985248346)]"
      ]
     },
     "execution_count": 75,
     "metadata": {},
     "output_type": "execute_result"
    }
   ],
   "source": [
    "sorted_dict[-5:]"
   ]
  },
  {
   "cell_type": "code",
   "execution_count": 76,
   "metadata": {
    "collapsed": true
   },
   "outputs": [],
   "source": [
    "#Creating new_col_list which joins the slices created above.\n",
    "new_col_list=sorted_dict[0:15]+sorted_dict[-5:]"
   ]
  },
  {
   "cell_type": "code",
   "execution_count": 77,
   "metadata": {
    "collapsed": true
   },
   "outputs": [],
   "source": [
    "collist=[]\n",
    "for item in new_col_list:\n",
    "    if item[0]=='SalePrice':\n",
    "        continue\n",
    "    else:\n",
    "        collist.append(item[0])"
   ]
  },
  {
   "cell_type": "code",
   "execution_count": 78,
   "metadata": {
    "collapsed": true
   },
   "outputs": [],
   "source": [
    "#Getting Correlation within the columns of collist. \n",
    "f=indexed_df.select(collist).toPandas().corr()"
   ]
  },
  {
   "cell_type": "code",
   "execution_count": 79,
   "metadata": {
    "collapsed": true
   },
   "outputs": [],
   "source": [
    "import seaborn as sns"
   ]
  },
  {
   "cell_type": "code",
   "execution_count": 80,
   "metadata": {},
   "outputs": [
    {
     "data": {
      "text/plain": [
       "(array([ 0. ,  0.2,  0.4,  0.6,  0.8,  1. ]),\n",
       " <a list of 6 Text yticklabel objects>)"
      ]
     },
     "execution_count": 80,
     "metadata": {},
     "output_type": "execute_result"
    }
   ],
   "source": [
    "#Creating heatmap for visualizing the correlated columns so that we can eliminate auto-correlation.\n",
    "import matplotlib.pyplot as plt\n",
    "plt.figure(figsize=(20,10))\n",
    "plt.xticks(fontsize=20)\n",
    "plt.yticks(fontsize=20)"
   ]
  },
  {
   "cell_type": "code",
   "execution_count": 81,
   "metadata": {},
   "outputs": [
    {
     "data": {
      "text/plain": [
       "<matplotlib.axes._subplots.AxesSubplot at 0x7f72fffcb9d0>"
      ]
     },
     "execution_count": 81,
     "metadata": {},
     "output_type": "execute_result"
    }
   ],
   "source": [
    "sns.heatmap(data=f)"
   ]
  },
  {
   "cell_type": "code",
   "execution_count": 82,
   "metadata": {},
   "outputs": [
    {
     "data": {
      "image/png": "[encoded data removed]",
      "text/plain": [
       "<matplotlib.figure.Figure at 0x7f72fffcba10>"
      ]
     },
     "metadata": {},
     "output_type": "display_data"
    }
   ],
   "source": [
    "plt.show()#['GrLivArea','TotRmsAbvGrd'],['GrageCars','GarageArea'],[''firstFlrSF','TotalBsmtSF'],[FullBath,GrLivArea],[FullBath,TotRmsAbvGrd],[OverallQual,GrLivArea],[OverallQual,GarageCars],[BsmtFinSF1,TotalBsmtSF],[MasVnrArea,MasVnrType_categorical],[Foundation_categorical,OverallQual],[KitchenQual_categorical,ExterQual_categorical]"
   ]
  },
  {
   "cell_type": "code",
   "execution_count": 83,
   "metadata": {
    "collapsed": true
   },
   "outputs": [],
   "source": [
    "#['GrLivArea','TotRmsAbvGrd'],['GarageCars','GarageArea'],[''firstFlrSF','TotalBsmtSF'],[FullBath,GrLivArea],[FullBath,TotRmsAbvGrd],[OverallQual,GrLivArea],[OverallQual,GarageCars],[BsmtFinSF1,TotalBsmtSF],[MasVnrArea,MasVnrType_categorical],[Foundation_categorical,OverallQual],[KitchenQual_categorical,ExterQual_categorical]"
   ]
  },
  {
   "cell_type": "code",
   "execution_count": 84,
   "metadata": {},
   "outputs": [
    {
     "data": {
      "text/plain": [
       "0.48197791036291215"
      ]
     },
     "execution_count": 84,
     "metadata": {},
     "output_type": "execute_result"
    }
   ],
   "source": [
    "#Checking for the darkest spots for autocorrelaton \n",
    "indexed_df.corr(col1='OverallQual', col2='firstFlrSF')"
   ]
  },
  {
   "cell_type": "code",
   "execution_count": 85,
   "metadata": {
    "collapsed": true
   },
   "outputs": [],
   "source": [
    "#Dropping columns which have lesser correlation within the auto correlation.\n",
    "new_indexed_df=indexed_df.drop('GrLivArea')\n",
    "new_indexed_df=new_indexed_df.drop('GarageCars')\n",
    "new_indexed_df=new_indexed_df.drop('FullBath')\n",
    "new_indexed_df=new_indexed_df.drop('BsmtFinSF1')\n",
    "new_indexed_df=new_indexed_df.drop('MasVnrType_categorical')\n",
    "new_indexed_df=new_indexed_df.drop('Foundation_categorical')\n",
    "new_indexed_df=new_indexed_df.drop('KitchenQual_categorical')"
   ]
  },
  {
   "cell_type": "code",
   "execution_count": 86,
   "metadata": {},
   "outputs": [
    {
     "name": "stdout",
     "output_type": "stream",
     "text": [
      "Coefficients: [-3181.81396508,3.22613549492,8139.92816894,3893.78823976,-7.73902998005,-18.5805206177,1503.87554635,52.8175317607,850.47551855,-6470.65882871,0.351430518678,-57.4998250309,-130.338930353,27.0194023156,-0.448336114373,201.850988294,15.4120913488,5029.53066747,17614.3475335,41.9544974033,44.4372063706,5664.28616264,17.5556925714,19.3535093158,28.9820867799,35.6920711461,58.6487972847,-1346.0433232,-3916.51452148,3762.64398498,-1021.73685955,-492.636440853,8244.63267105,-8036.24687732,-3145.4676159,-8111.43837797,3096.09147862,-2799.39052754,15946.319158,-485.506884321,904.560445775,2616.98633903,-5989.65549771,-3990.44972371,3174.91267456,2009.77746343,1355.53978532,18.8602192836,8.18138438623,880.826072769,-1370.37650057,-1391.3668805,0.292411300403,0.0,10469.0277436,2699.91217643,-215.936218876,-3542.69869997,600.765418358,-3006.13470868,-24338.435389,2423.94801734,-2536.02659092,3487.80284383,-64206.0813226,0.0,14.888786937,-53.8006280374,-112.607841248]\n",
      "Intercept: -89877.8772114\n"
     ]
    }
   ],
   "source": [
    "#Running the Feature selected model and checking for R squared Value.\n",
    "\n",
    "g=[]\n",
    "for col in new_indexed_df.columns:\n",
    "    if col=='SalePrice':\n",
    "        continue\n",
    "    else:\n",
    "        g.append(col)\n",
    "    \n",
    "\n",
    "vectorAssembler = VectorAssembler(inputCols = g, outputCol = 'features')\n",
    "vhouse_df = vectorAssembler.transform(new_indexed_df)\n",
    "#vectorAssembler = VectorAssembler(inputCols = ['SalePrice'], outputCol = 'label')\n",
    "\n",
    "\n",
    "splits = vhouse_df.randomSplit([0.7, 0.3])\n",
    "train_df = splits[0]\n",
    "test_df = splits[1]\n",
    "\n",
    "lr = LinearRegression(featuresCol = 'features', labelCol='SalePrice', maxIter=10, regParam=0.3, elasticNetParam=1.0)\n",
    "\n",
    "lr_model = lr.fit(train_df)\n",
    "\n",
    "\n",
    "\n",
    "print(\"Coefficients: \" + str(lr_model.coefficients))\n",
    "print(\"Intercept: \" + str(lr_model.intercept))"
   ]
  },
  {
   "cell_type": "code",
   "execution_count": 87,
   "metadata": {
    "collapsed": true
   },
   "outputs": [],
   "source": [
    "lr_predictions=lr_model.transform(test_df)"
   ]
  },
  {
   "cell_type": "code",
   "execution_count": 88,
   "metadata": {},
   "outputs": [
    {
     "data": {
      "text/html": [
       "<div>\n",
       "<table border=\"1\" class=\"dataframe\">\n",
       "  <thead>\n",
       "    <tr style=\"text-align: right;\">\n",
       "      <th></th>\n",
       "      <th>prediction</th>\n",
       "      <th>features</th>\n",
       "      <th>SalePrice</th>\n",
       "    </tr>\n",
       "  </thead>\n",
       "  <tbody>\n",
       "    <tr>\n",
       "      <th>0</th>\n",
       "      <td>73675.153170</td>\n",
       "      <td>(1.0, 0.0, 1.0, 0.0, 115.0, 0.0, 0.0, 286.0, 0...</td>\n",
       "      <td>86000.0</td>\n",
       "    </tr>\n",
       "    <tr>\n",
       "      <th>1</th>\n",
       "      <td>162136.960658</td>\n",
       "      <td>(1.0, 0.0, 1.0, 0.0, 186.0, 0.0, 1.0, 420.0, 0...</td>\n",
       "      <td>144500.0</td>\n",
       "    </tr>\n",
       "    <tr>\n",
       "      <th>2</th>\n",
       "      <td>237548.192935</td>\n",
       "      <td>(1.0, 0.0, 1.0, 0.0, 254.0, 0.0, 2.0, 484.0, 0...</td>\n",
       "      <td>289000.0</td>\n",
       "    </tr>\n",
       "    <tr>\n",
       "      <th>3</th>\n",
       "      <td>142061.564098</td>\n",
       "      <td>(2.0, 0.0, 0.0, 0.0, 0.0, 244.0, 0.0, 456.0, 0...</td>\n",
       "      <td>124900.0</td>\n",
       "    </tr>\n",
       "    <tr>\n",
       "      <th>4</th>\n",
       "      <td>132438.341205</td>\n",
       "      <td>(2.0, 0.0, 0.0, 0.0, 117.0, 0.0, 0.0, 600.0, 0...</td>\n",
       "      <td>123000.0</td>\n",
       "    </tr>\n",
       "    <tr>\n",
       "      <th>5</th>\n",
       "      <td>142750.423840</td>\n",
       "      <td>(2.0, 0.0, 0.0, 0.0, 318.0, 0.0, 0.0, 528.0, 1...</td>\n",
       "      <td>173733.0</td>\n",
       "    </tr>\n",
       "    <tr>\n",
       "      <th>6</th>\n",
       "      <td>128812.009828</td>\n",
       "      <td>(2.0, 0.0, 0.0, 0.0, 321.0, 0.0, 0.0, 264.0, 1...</td>\n",
       "      <td>118000.0</td>\n",
       "    </tr>\n",
       "    <tr>\n",
       "      <th>7</th>\n",
       "      <td>125853.607783</td>\n",
       "      <td>(2.0, 0.0, 0.0, 0.0, 624.0, 0.0, 0.0, 484.0, 0...</td>\n",
       "      <td>105900.0</td>\n",
       "    </tr>\n",
       "    <tr>\n",
       "      <th>8</th>\n",
       "      <td>110025.305987</td>\n",
       "      <td>(2.0, 0.0, 0.0, 0.0, 625.0, 0.0, 0.0, 436.0, 0...</td>\n",
       "      <td>128000.0</td>\n",
       "    </tr>\n",
       "    <tr>\n",
       "      <th>9</th>\n",
       "      <td>162722.396474</td>\n",
       "      <td>(2.0, 0.0, 0.0, 0.0, 625.0, 0.0, 0.0, 625.0, 1...</td>\n",
       "      <td>171900.0</td>\n",
       "    </tr>\n",
       "    <tr>\n",
       "      <th>10</th>\n",
       "      <td>167188.183562</td>\n",
       "      <td>(2.0, 0.0, 0.0, 0.0, 648.0, 0.0, 0.0, 440.0, 0...</td>\n",
       "      <td>116000.0</td>\n",
       "    </tr>\n",
       "    <tr>\n",
       "      <th>11</th>\n",
       "      <td>90421.900169</td>\n",
       "      <td>(2.0, 0.0, 0.0, 0.0, 666.0, 0.0, 0.0, 327.0, 0...</td>\n",
       "      <td>106500.0</td>\n",
       "    </tr>\n",
       "    <tr>\n",
       "      <th>12</th>\n",
       "      <td>99919.765174</td>\n",
       "      <td>(2.0, 0.0, 0.0, 0.0, 672.0, 0.0, 0.0, 240.0, 0...</td>\n",
       "      <td>108000.0</td>\n",
       "    </tr>\n",
       "    <tr>\n",
       "      <th>13</th>\n",
       "      <td>84313.712067</td>\n",
       "      <td>(2.0, 0.0, 0.0, 0.0, 724.0, 0.0, 0.0, 283.0, 0...</td>\n",
       "      <td>135750.0</td>\n",
       "    </tr>\n",
       "    <tr>\n",
       "      <th>14</th>\n",
       "      <td>203820.852710</td>\n",
       "      <td>(2.0, 0.0, 0.0, 0.0, 880.0, 0.0, 1.0, 512.0, 1...</td>\n",
       "      <td>191000.0</td>\n",
       "    </tr>\n",
       "    <tr>\n",
       "      <th>15</th>\n",
       "      <td>161877.503078</td>\n",
       "      <td>(2.0, 0.0, 0.0, 0.0, 952.0, 205.0, 2.0, 468.0,...</td>\n",
       "      <td>129900.0</td>\n",
       "    </tr>\n",
       "    <tr>\n",
       "      <th>16</th>\n",
       "      <td>136356.018049</td>\n",
       "      <td>(2.0, 0.0, 1.0, 0.0, 0.0, 0.0, 0.0, 525.0, 0.0...</td>\n",
       "      <td>140000.0</td>\n",
       "    </tr>\n",
       "    <tr>\n",
       "      <th>17</th>\n",
       "      <td>135235.015116</td>\n",
       "      <td>(2.0, 0.0, 1.0, 0.0, 88.0, 0.0, 0.0, 525.0, 0....</td>\n",
       "      <td>148000.0</td>\n",
       "    </tr>\n",
       "    <tr>\n",
       "      <th>18</th>\n",
       "      <td>150538.349607</td>\n",
       "      <td>(2.0, 0.0, 1.0, 0.0, 110.0, 0.0, 0.0, 450.0, 1...</td>\n",
       "      <td>157000.0</td>\n",
       "    </tr>\n",
       "    <tr>\n",
       "      <th>19</th>\n",
       "      <td>406119.903955</td>\n",
       "      <td>(2.0, 0.0, 1.0, 0.0, 142.0, 0.0, 2.0, 820.0, 1...</td>\n",
       "      <td>611657.0</td>\n",
       "    </tr>\n",
       "    <tr>\n",
       "      <th>20</th>\n",
       "      <td>163366.923969</td>\n",
       "      <td>(2.0, 0.0, 1.0, 0.0, 319.0, 0.0, 0.0, 402.0, 0...</td>\n",
       "      <td>164000.0</td>\n",
       "    </tr>\n",
       "    <tr>\n",
       "      <th>21</th>\n",
       "      <td>204260.709181</td>\n",
       "      <td>(2.0, 0.0, 1.0, 0.0, 410.0, 0.0, 1.0, 626.0, 0...</td>\n",
       "      <td>230000.0</td>\n",
       "    </tr>\n",
       "    <tr>\n",
       "      <th>22</th>\n",
       "      <td>189333.021988</td>\n",
       "      <td>(2.0, 0.0, 1.0, 0.0, 811.0, 0.0, 0.0, 400.0, 0...</td>\n",
       "      <td>185000.0</td>\n",
       "    </tr>\n",
       "    <tr>\n",
       "      <th>23</th>\n",
       "      <td>417399.471426</td>\n",
       "      <td>(2.0, 0.0, 1.0, 0.0, 1351.0, 0.0, 2.0, 804.0, ...</td>\n",
       "      <td>466500.0</td>\n",
       "    </tr>\n",
       "    <tr>\n",
       "      <th>24</th>\n",
       "      <td>135850.150705</td>\n",
       "      <td>(2.0, 93.0, 1.0, 0.0, 0.0, 0.0, 0.0, 504.0, 0....</td>\n",
       "      <td>144000.0</td>\n",
       "    </tr>\n",
       "    <tr>\n",
       "      <th>25</th>\n",
       "      <td>145116.885323</td>\n",
       "      <td>(2.0, 324.0, 1.0, 0.0, 239.0, 0.0, 0.0, 484.0,...</td>\n",
       "      <td>131000.0</td>\n",
       "    </tr>\n",
       "    <tr>\n",
       "      <th>26</th>\n",
       "      <td>91700.803790</td>\n",
       "      <td>(2.0, 600.0, 0.0, 0.0, 0.0, 0.0, 0.0, 288.0, 0...</td>\n",
       "      <td>115000.0</td>\n",
       "    </tr>\n",
       "    <tr>\n",
       "      <th>27</th>\n",
       "      <td>140729.234711</td>\n",
       "      <td>(2.0, 606.0, 1.0, 0.0, 0.0, 112.0, 0.0, 275.0,...</td>\n",
       "      <td>130000.0</td>\n",
       "    </tr>\n",
       "    <tr>\n",
       "      <th>28</th>\n",
       "      <td>165515.286530</td>\n",
       "      <td>(3.0, 0.0, 0.0, 0.0, 311.0, 0.0, 0.0, 299.0, 1...</td>\n",
       "      <td>161750.0</td>\n",
       "    </tr>\n",
       "    <tr>\n",
       "      <th>29</th>\n",
       "      <td>167988.465760</td>\n",
       "      <td>(3.0, 0.0, 0.0, 0.0, 384.0, 0.0, 1.0, 392.0, 1...</td>\n",
       "      <td>163900.0</td>\n",
       "    </tr>\n",
       "    <tr>\n",
       "      <th>...</th>\n",
       "      <td>...</td>\n",
       "      <td>...</td>\n",
       "      <td>...</td>\n",
       "    </tr>\n",
       "    <tr>\n",
       "      <th>368</th>\n",
       "      <td>99553.677081</td>\n",
       "      <td>(3.0, 0.0, 0.0, 0.0, 948.0, 0.0, 0.0, 300.0, 0...</td>\n",
       "      <td>108000.0</td>\n",
       "    </tr>\n",
       "    <tr>\n",
       "      <th>369</th>\n",
       "      <td>127103.137012</td>\n",
       "      <td>(3.0, 0.0, 0.0, 0.0, 1140.0, 0.0, 1.0, 349.0, ...</td>\n",
       "      <td>143900.0</td>\n",
       "    </tr>\n",
       "    <tr>\n",
       "      <th>370</th>\n",
       "      <td>203863.193585</td>\n",
       "      <td>(3.0, 0.0, 0.0, 0.0, 1459.0, 0.0, 1.0, 527.0, ...</td>\n",
       "      <td>192000.0</td>\n",
       "    </tr>\n",
       "    <tr>\n",
       "      <th>371</th>\n",
       "      <td>202932.289599</td>\n",
       "      <td>(3.0, 0.0, 0.0, 0.0, 1630.0, 0.0, 1.0, 451.0, ...</td>\n",
       "      <td>213000.0</td>\n",
       "    </tr>\n",
       "    <tr>\n",
       "      <th>372</th>\n",
       "      <td>200714.849213</td>\n",
       "      <td>(3.0, 0.0, 0.0, 1.0, 114.0, 0.0, 0.0, 471.0, 1...</td>\n",
       "      <td>201000.0</td>\n",
       "    </tr>\n",
       "    <tr>\n",
       "      <th>373</th>\n",
       "      <td>166977.070086</td>\n",
       "      <td>(3.0, 0.0, 0.0, 1.0, 427.0, 0.0, 1.0, 564.0, 0...</td>\n",
       "      <td>148000.0</td>\n",
       "    </tr>\n",
       "    <tr>\n",
       "      <th>374</th>\n",
       "      <td>122233.546884</td>\n",
       "      <td>(3.0, 0.0, 0.0, 1.0, 533.0, 0.0, 0.0, 300.0, 0...</td>\n",
       "      <td>140000.0</td>\n",
       "    </tr>\n",
       "    <tr>\n",
       "      <th>375</th>\n",
       "      <td>160989.340522</td>\n",
       "      <td>(3.0, 0.0, 1.0, 0.0, 0.0, 0.0, 1.0, 492.0, 0.0...</td>\n",
       "      <td>151000.0</td>\n",
       "    </tr>\n",
       "    <tr>\n",
       "      <th>376</th>\n",
       "      <td>223109.538214</td>\n",
       "      <td>(3.0, 0.0, 1.0, 0.0, 114.0, 0.0, 1.0, 560.0, 1...</td>\n",
       "      <td>215000.0</td>\n",
       "    </tr>\n",
       "    <tr>\n",
       "      <th>377</th>\n",
       "      <td>118217.144395</td>\n",
       "      <td>(3.0, 0.0, 1.0, 0.0, 210.0, 0.0, 0.0, 308.0, 0...</td>\n",
       "      <td>139000.0</td>\n",
       "    </tr>\n",
       "    <tr>\n",
       "      <th>378</th>\n",
       "      <td>280582.383222</td>\n",
       "      <td>(3.0, 0.0, 1.0, 0.0, 245.0, 0.0, 1.0, 836.0, 1...</td>\n",
       "      <td>339750.0</td>\n",
       "    </tr>\n",
       "    <tr>\n",
       "      <th>379</th>\n",
       "      <td>346531.701348</td>\n",
       "      <td>(3.0, 0.0, 1.0, 0.0, 252.0, 0.0, 1.0, 812.0, 1...</td>\n",
       "      <td>310000.0</td>\n",
       "    </tr>\n",
       "    <tr>\n",
       "      <th>380</th>\n",
       "      <td>146590.623958</td>\n",
       "      <td>(3.0, 0.0, 1.0, 0.0, 344.0, 0.0, 1.0, 500.0, 1...</td>\n",
       "      <td>149900.0</td>\n",
       "    </tr>\n",
       "    <tr>\n",
       "      <th>381</th>\n",
       "      <td>119274.260347</td>\n",
       "      <td>(3.0, 0.0, 1.0, 0.0, 404.0, 0.0, 1.0, 338.0, 0...</td>\n",
       "      <td>133500.0</td>\n",
       "    </tr>\n",
       "    <tr>\n",
       "      <th>382</th>\n",
       "      <td>302746.239796</td>\n",
       "      <td>(3.0, 0.0, 1.0, 0.0, 536.0, 0.0, 0.0, 888.0, 0...</td>\n",
       "      <td>305900.0</td>\n",
       "    </tr>\n",
       "    <tr>\n",
       "      <th>383</th>\n",
       "      <td>89240.886347</td>\n",
       "      <td>(3.0, 0.0, 1.0, 0.0, 538.0, 0.0, 0.0, 420.0, 0...</td>\n",
       "      <td>95000.0</td>\n",
       "    </tr>\n",
       "    <tr>\n",
       "      <th>384</th>\n",
       "      <td>289405.831042</td>\n",
       "      <td>(3.0, 0.0, 1.0, 0.0, 730.0, 0.0, 1.0, 928.0, 0...</td>\n",
       "      <td>318000.0</td>\n",
       "    </tr>\n",
       "    <tr>\n",
       "      <th>385</th>\n",
       "      <td>234508.167531</td>\n",
       "      <td>(3.0, 32.0, 1.0, 0.0, 216.0, 228.0, 2.0, 484.0...</td>\n",
       "      <td>200000.0</td>\n",
       "    </tr>\n",
       "    <tr>\n",
       "      <th>386</th>\n",
       "      <td>155263.181748</td>\n",
       "      <td>(3.0, 230.0, 0.0, 0.0, 184.0, 0.0, 1.0, 480.0,...</td>\n",
       "      <td>154000.0</td>\n",
       "    </tr>\n",
       "    <tr>\n",
       "      <th>387</th>\n",
       "      <td>75550.213890</td>\n",
       "      <td>(3.0, 273.0, 0.0, 0.0, 0.0, 0.0, 0.0, 286.0, 1...</td>\n",
       "      <td>88000.0</td>\n",
       "    </tr>\n",
       "    <tr>\n",
       "      <th>388</th>\n",
       "      <td>169137.882795</td>\n",
       "      <td>(3.0, 500.0, 0.0, 0.0, 192.0, 0.0, 1.0, 440.0,...</td>\n",
       "      <td>172500.0</td>\n",
       "    </tr>\n",
       "    <tr>\n",
       "      <th>389</th>\n",
       "      <td>191530.321048</td>\n",
       "      <td>(3.0, 1085.0, 1.0, 0.0, 372.0, 0.0, 1.0, 454.0...</td>\n",
       "      <td>170000.0</td>\n",
       "    </tr>\n",
       "    <tr>\n",
       "      <th>390</th>\n",
       "      <td>136197.188224</td>\n",
       "      <td>(4.0, 0.0, 0.0, 0.0, 342.0, 0.0, 1.0, 240.0, 1...</td>\n",
       "      <td>179500.0</td>\n",
       "    </tr>\n",
       "    <tr>\n",
       "      <th>391</th>\n",
       "      <td>158760.290180</td>\n",
       "      <td>(4.0, 0.0, 0.0, 0.0, 717.0, 0.0, 0.0, 871.0, 0...</td>\n",
       "      <td>145000.0</td>\n",
       "    </tr>\n",
       "    <tr>\n",
       "      <th>392</th>\n",
       "      <td>131626.237833</td>\n",
       "      <td>(4.0, 0.0, 0.0, 0.0, 780.0, 0.0, 1.0, 280.0, 0...</td>\n",
       "      <td>132500.0</td>\n",
       "    </tr>\n",
       "    <tr>\n",
       "      <th>393</th>\n",
       "      <td>248712.775302</td>\n",
       "      <td>(4.0, 0.0, 0.0, 0.0, 1240.0, 386.0, 1.0, 864.0...</td>\n",
       "      <td>265979.0</td>\n",
       "    </tr>\n",
       "    <tr>\n",
       "      <th>394</th>\n",
       "      <td>125372.087285</td>\n",
       "      <td>(4.0, 0.0, 1.0, 0.0, 392.0, 236.0, 0.0, 392.0,...</td>\n",
       "      <td>104900.0</td>\n",
       "    </tr>\n",
       "    <tr>\n",
       "      <th>395</th>\n",
       "      <td>310354.211729</td>\n",
       "      <td>(4.0, 0.0, 1.0, 0.0, 425.0, 0.0, 1.0, 844.0, 1...</td>\n",
       "      <td>290000.0</td>\n",
       "    </tr>\n",
       "    <tr>\n",
       "      <th>396</th>\n",
       "      <td>100217.433418</td>\n",
       "      <td>(4.0, 0.0, 1.0, 0.0, 1095.0, 90.0, 0.0, 779.0,...</td>\n",
       "      <td>87000.0</td>\n",
       "    </tr>\n",
       "    <tr>\n",
       "      <th>397</th>\n",
       "      <td>248328.613412</td>\n",
       "      <td>(5.0, 0.0, 0.0, 0.0, 1017.0, 0.0, 2.0, 520.0, ...</td>\n",
       "      <td>256000.0</td>\n",
       "    </tr>\n",
       "  </tbody>\n",
       "</table>\n",
       "<p>398 rows × 3 columns</p>\n",
       "</div>"
      ],
      "text/plain": [
       "        prediction                                           features  \\\n",
       "0     73675.153170  (1.0, 0.0, 1.0, 0.0, 115.0, 0.0, 0.0, 286.0, 0...   \n",
       "1    162136.960658  (1.0, 0.0, 1.0, 0.0, 186.0, 0.0, 1.0, 420.0, 0...   \n",
       "2    237548.192935  (1.0, 0.0, 1.0, 0.0, 254.0, 0.0, 2.0, 484.0, 0...   \n",
       "3    142061.564098  (2.0, 0.0, 0.0, 0.0, 0.0, 244.0, 0.0, 456.0, 0...   \n",
       "4    132438.341205  (2.0, 0.0, 0.0, 0.0, 117.0, 0.0, 0.0, 600.0, 0...   \n",
       "5    142750.423840  (2.0, 0.0, 0.0, 0.0, 318.0, 0.0, 0.0, 528.0, 1...   \n",
       "6    128812.009828  (2.0, 0.0, 0.0, 0.0, 321.0, 0.0, 0.0, 264.0, 1...   \n",
       "7    125853.607783  (2.0, 0.0, 0.0, 0.0, 624.0, 0.0, 0.0, 484.0, 0...   \n",
       "8    110025.305987  (2.0, 0.0, 0.0, 0.0, 625.0, 0.0, 0.0, 436.0, 0...   \n",
       "9    162722.396474  (2.0, 0.0, 0.0, 0.0, 625.0, 0.0, 0.0, 625.0, 1...   \n",
       "10   167188.183562  (2.0, 0.0, 0.0, 0.0, 648.0, 0.0, 0.0, 440.0, 0...   \n",
       "11    90421.900169  (2.0, 0.0, 0.0, 0.0, 666.0, 0.0, 0.0, 327.0, 0...   \n",
       "12    99919.765174  (2.0, 0.0, 0.0, 0.0, 672.0, 0.0, 0.0, 240.0, 0...   \n",
       "13    84313.712067  (2.0, 0.0, 0.0, 0.0, 724.0, 0.0, 0.0, 283.0, 0...   \n",
       "14   203820.852710  (2.0, 0.0, 0.0, 0.0, 880.0, 0.0, 1.0, 512.0, 1...   \n",
       "15   161877.503078  (2.0, 0.0, 0.0, 0.0, 952.0, 205.0, 2.0, 468.0,...   \n",
       "16   136356.018049  (2.0, 0.0, 1.0, 0.0, 0.0, 0.0, 0.0, 525.0, 0.0...   \n",
       "17   135235.015116  (2.0, 0.0, 1.0, 0.0, 88.0, 0.0, 0.0, 525.0, 0....   \n",
       "18   150538.349607  (2.0, 0.0, 1.0, 0.0, 110.0, 0.0, 0.0, 450.0, 1...   \n",
       "19   406119.903955  (2.0, 0.0, 1.0, 0.0, 142.0, 0.0, 2.0, 820.0, 1...   \n",
       "20   163366.923969  (2.0, 0.0, 1.0, 0.0, 319.0, 0.0, 0.0, 402.0, 0...   \n",
       "21   204260.709181  (2.0, 0.0, 1.0, 0.0, 410.0, 0.0, 1.0, 626.0, 0...   \n",
       "22   189333.021988  (2.0, 0.0, 1.0, 0.0, 811.0, 0.0, 0.0, 400.0, 0...   \n",
       "23   417399.471426  (2.0, 0.0, 1.0, 0.0, 1351.0, 0.0, 2.0, 804.0, ...   \n",
       "24   135850.150705  (2.0, 93.0, 1.0, 0.0, 0.0, 0.0, 0.0, 504.0, 0....   \n",
       "25   145116.885323  (2.0, 324.0, 1.0, 0.0, 239.0, 0.0, 0.0, 484.0,...   \n",
       "26    91700.803790  (2.0, 600.0, 0.0, 0.0, 0.0, 0.0, 0.0, 288.0, 0...   \n",
       "27   140729.234711  (2.0, 606.0, 1.0, 0.0, 0.0, 112.0, 0.0, 275.0,...   \n",
       "28   165515.286530  (3.0, 0.0, 0.0, 0.0, 311.0, 0.0, 0.0, 299.0, 1...   \n",
       "29   167988.465760  (3.0, 0.0, 0.0, 0.0, 384.0, 0.0, 1.0, 392.0, 1...   \n",
       "..             ...                                                ...   \n",
       "368   99553.677081  (3.0, 0.0, 0.0, 0.0, 948.0, 0.0, 0.0, 300.0, 0...   \n",
       "369  127103.137012  (3.0, 0.0, 0.0, 0.0, 1140.0, 0.0, 1.0, 349.0, ...   \n",
       "370  203863.193585  (3.0, 0.0, 0.0, 0.0, 1459.0, 0.0, 1.0, 527.0, ...   \n",
       "371  202932.289599  (3.0, 0.0, 0.0, 0.0, 1630.0, 0.0, 1.0, 451.0, ...   \n",
       "372  200714.849213  (3.0, 0.0, 0.0, 1.0, 114.0, 0.0, 0.0, 471.0, 1...   \n",
       "373  166977.070086  (3.0, 0.0, 0.0, 1.0, 427.0, 0.0, 1.0, 564.0, 0...   \n",
       "374  122233.546884  (3.0, 0.0, 0.0, 1.0, 533.0, 0.0, 0.0, 300.0, 0...   \n",
       "375  160989.340522  (3.0, 0.0, 1.0, 0.0, 0.0, 0.0, 1.0, 492.0, 0.0...   \n",
       "376  223109.538214  (3.0, 0.0, 1.0, 0.0, 114.0, 0.0, 1.0, 560.0, 1...   \n",
       "377  118217.144395  (3.0, 0.0, 1.0, 0.0, 210.0, 0.0, 0.0, 308.0, 0...   \n",
       "378  280582.383222  (3.0, 0.0, 1.0, 0.0, 245.0, 0.0, 1.0, 836.0, 1...   \n",
       "379  346531.701348  (3.0, 0.0, 1.0, 0.0, 252.0, 0.0, 1.0, 812.0, 1...   \n",
       "380  146590.623958  (3.0, 0.0, 1.0, 0.0, 344.0, 0.0, 1.0, 500.0, 1...   \n",
       "381  119274.260347  (3.0, 0.0, 1.0, 0.0, 404.0, 0.0, 1.0, 338.0, 0...   \n",
       "382  302746.239796  (3.0, 0.0, 1.0, 0.0, 536.0, 0.0, 0.0, 888.0, 0...   \n",
       "383   89240.886347  (3.0, 0.0, 1.0, 0.0, 538.0, 0.0, 0.0, 420.0, 0...   \n",
       "384  289405.831042  (3.0, 0.0, 1.0, 0.0, 730.0, 0.0, 1.0, 928.0, 0...   \n",
       "385  234508.167531  (3.0, 32.0, 1.0, 0.0, 216.0, 228.0, 2.0, 484.0...   \n",
       "386  155263.181748  (3.0, 230.0, 0.0, 0.0, 184.0, 0.0, 1.0, 480.0,...   \n",
       "387   75550.213890  (3.0, 273.0, 0.0, 0.0, 0.0, 0.0, 0.0, 286.0, 1...   \n",
       "388  169137.882795  (3.0, 500.0, 0.0, 0.0, 192.0, 0.0, 1.0, 440.0,...   \n",
       "389  191530.321048  (3.0, 1085.0, 1.0, 0.0, 372.0, 0.0, 1.0, 454.0...   \n",
       "390  136197.188224  (4.0, 0.0, 0.0, 0.0, 342.0, 0.0, 1.0, 240.0, 1...   \n",
       "391  158760.290180  (4.0, 0.0, 0.0, 0.0, 717.0, 0.0, 0.0, 871.0, 0...   \n",
       "392  131626.237833  (4.0, 0.0, 0.0, 0.0, 780.0, 0.0, 1.0, 280.0, 0...   \n",
       "393  248712.775302  (4.0, 0.0, 0.0, 0.0, 1240.0, 386.0, 1.0, 864.0...   \n",
       "394  125372.087285  (4.0, 0.0, 1.0, 0.0, 392.0, 236.0, 0.0, 392.0,...   \n",
       "395  310354.211729  (4.0, 0.0, 1.0, 0.0, 425.0, 0.0, 1.0, 844.0, 1...   \n",
       "396  100217.433418  (4.0, 0.0, 1.0, 0.0, 1095.0, 90.0, 0.0, 779.0,...   \n",
       "397  248328.613412  (5.0, 0.0, 0.0, 0.0, 1017.0, 0.0, 2.0, 520.0, ...   \n",
       "\n",
       "     SalePrice  \n",
       "0      86000.0  \n",
       "1     144500.0  \n",
       "2     289000.0  \n",
       "3     124900.0  \n",
       "4     123000.0  \n",
       "5     173733.0  \n",
       "6     118000.0  \n",
       "7     105900.0  \n",
       "8     128000.0  \n",
       "9     171900.0  \n",
       "10    116000.0  \n",
       "11    106500.0  \n",
       "12    108000.0  \n",
       "13    135750.0  \n",
       "14    191000.0  \n",
       "15    129900.0  \n",
       "16    140000.0  \n",
       "17    148000.0  \n",
       "18    157000.0  \n",
       "19    611657.0  \n",
       "20    164000.0  \n",
       "21    230000.0  \n",
       "22    185000.0  \n",
       "23    466500.0  \n",
       "24    144000.0  \n",
       "25    131000.0  \n",
       "26    115000.0  \n",
       "27    130000.0  \n",
       "28    161750.0  \n",
       "29    163900.0  \n",
       "..         ...  \n",
       "368   108000.0  \n",
       "369   143900.0  \n",
       "370   192000.0  \n",
       "371   213000.0  \n",
       "372   201000.0  \n",
       "373   148000.0  \n",
       "374   140000.0  \n",
       "375   151000.0  \n",
       "376   215000.0  \n",
       "377   139000.0  \n",
       "378   339750.0  \n",
       "379   310000.0  \n",
       "380   149900.0  \n",
       "381   133500.0  \n",
       "382   305900.0  \n",
       "383    95000.0  \n",
       "384   318000.0  \n",
       "385   200000.0  \n",
       "386   154000.0  \n",
       "387    88000.0  \n",
       "388   172500.0  \n",
       "389   170000.0  \n",
       "390   179500.0  \n",
       "391   145000.0  \n",
       "392   132500.0  \n",
       "393   265979.0  \n",
       "394   104900.0  \n",
       "395   290000.0  \n",
       "396    87000.0  \n",
       "397   256000.0  \n",
       "\n",
       "[398 rows x 3 columns]"
      ]
     },
     "execution_count": 88,
     "metadata": {},
     "output_type": "execute_result"
    }
   ],
   "source": [
    "#Creating Predictions based on transformed dataframe.\n",
    "lr_predictions.select(['prediction','features','SalePrice']).toPandas()"
   ]
  },
  {
   "cell_type": "code",
   "execution_count": 89,
   "metadata": {},
   "outputs": [
    {
     "name": "stdout",
     "output_type": "stream",
     "text": [
      "R Squared (R2) on test data = 0.84879\n"
     ]
    }
   ],
   "source": [
    "lr_evaluator = RegressionEvaluator(predictionCol=\"prediction\",labelCol=\"SalePrice\",metricName=\"r2\")\n",
    "print(\"R Squared (R2) on test data = %g\" % lr_evaluator.evaluate(lr_predictions))"
   ]
  },
  {
   "cell_type": "markdown",
   "metadata": {},
   "source": [
    "# Generating a test model for which feature is best correlated i.e OverallQual and seeing how LogPrice is distributed."
   ]
  },
  {
   "cell_type": "code",
   "execution_count": 90,
   "metadata": {
    "collapsed": true
   },
   "outputs": [],
   "source": [
    "vectorAssembler = VectorAssembler(inputCols =['OverallQual'], outputCol = 'features')\n",
    "vhouse_df = vectorAssembler.transform(indexed_df)"
   ]
  },
  {
   "cell_type": "code",
   "execution_count": 91,
   "metadata": {
    "collapsed": true
   },
   "outputs": [],
   "source": [
    "splits = vhouse_df.randomSplit([0.7, 0.3])\n",
    "train_df = splits[0]\n",
    "test_df = splits[1]"
   ]
  },
  {
   "cell_type": "code",
   "execution_count": 92,
   "metadata": {
    "collapsed": true
   },
   "outputs": [],
   "source": [
    "lr = LinearRegression(featuresCol = 'features', labelCol='SalePrice', maxIter=10, regParam=0.3, elasticNetParam=0.8)"
   ]
  },
  {
   "cell_type": "code",
   "execution_count": 93,
   "metadata": {
    "collapsed": true
   },
   "outputs": [],
   "source": [
    "lr_model = lr.fit(train_df)"
   ]
  },
  {
   "cell_type": "code",
   "execution_count": 94,
   "metadata": {},
   "outputs": [
    {
     "name": "stdout",
     "output_type": "stream",
     "text": [
      "Coefficients: [46032.1711967]\n",
      "Intercept: -100549.278139\n"
     ]
    }
   ],
   "source": [
    "print(\"Coefficients: \" + str(lr_model.coefficients))\n",
    "print(\"Intercept: \" + str(lr_model.intercept))"
   ]
  },
  {
   "cell_type": "code",
   "execution_count": 95,
   "metadata": {
    "collapsed": true
   },
   "outputs": [],
   "source": [
    "lr_predictions=lr_model.transform(test_df)"
   ]
  },
  {
   "cell_type": "code",
   "execution_count": 96,
   "metadata": {},
   "outputs": [
    {
     "name": "stdout",
     "output_type": "stream",
     "text": [
      "R Squared (R2) on test data = 0.573736\n"
     ]
    }
   ],
   "source": [
    "#Evaluating R squared on test data for the Mean Model.\n",
    "from pyspark.ml.evaluation import RegressionEvaluator\n",
    "lr_evaluator = RegressionEvaluator(predictionCol=\"prediction\",labelCol=\"SalePrice\",metricName=\"r2\")\n",
    "print(\"R Squared (R2) on test data = %g\" % lr_evaluator.evaluate(lr_predictions))"
   ]
  },
  {
   "cell_type": "code",
   "execution_count": 100,
   "metadata": {},
   "outputs": [
    {
     "data": {
      "image/png": "[encoded data removed]",
      "text/plain": [
       "<matplotlib.figure.Figure at 0x7f7301484fd0>"
      ]
     },
     "metadata": {},
     "output_type": "display_data"
    }
   ],
   "source": [
    "sns.distplot(indexed_df.select('SalePrice').toPandas())\n",
    "plt.show()"
   ]
  },
  {
   "cell_type": "code",
   "execution_count": 101,
   "metadata": {},
   "outputs": [
    {
     "data": {
      "image/png": "[encoded data removed]",
      "text/plain": [
       "<matplotlib.figure.Figure at 0x7f73016da1d0>"
      ]
     },
     "metadata": {},
     "output_type": "display_data"
    }
   ],
   "source": [
    "sns.distplot(np.log(indexed_df.select('SalePrice').toPandas()))\n",
    "plt.show()"
   ]
  },
  {
   "cell_type": "code",
   "execution_count": 102,
   "metadata": {
    "collapsed": true
   },
   "outputs": [],
   "source": [
    "second_df=indexed_df.toPandas()"
   ]
  },
  {
   "cell_type": "code",
   "execution_count": 103,
   "metadata": {
    "collapsed": true
   },
   "outputs": [],
   "source": [
    "second_df['Log_SalePrice']=np.log(second_df['SalePrice'])"
   ]
  },
  {
   "cell_type": "code",
   "execution_count": 104,
   "metadata": {
    "collapsed": true
   },
   "outputs": [],
   "source": [
    "df=sqlcontext.createDataFrame(second_df)"
   ]
  },
  {
   "cell_type": "code",
   "execution_count": 105,
   "metadata": {
    "collapsed": true
   },
   "outputs": [],
   "source": [
    "df=df.drop('SalePrice')"
   ]
  },
  {
   "cell_type": "code",
   "execution_count": 156,
   "metadata": {
    "collapsed": true
   },
   "outputs": [],
   "source": [
    "#Running Regression based on feature as OverallQual and Log_SalePrice. \n",
    "\n",
    "g=[]\n",
    "for col in df.columns:\n",
    "    if col=='Log_SalePrice':\n",
    "        continue\n",
    "    else:\n",
    "        g.append(col)\n",
    "    \n",
    "\n",
    "vectorAssembler = VectorAssembler(inputCols = g, outputCol = 'features')\n",
    "vhouse_df = vectorAssembler.transform(df)\n",
    "#vectorAssembler = VectorAssembler(inputCols = ['SalePrice'], outputCol = 'label')\n",
    "\n",
    "\n",
    "splits = vhouse_df.randomSplit([0.7, 0.3])\n",
    "train_df = splits[0]\n",
    "test_df = splits[1]\n",
    "\n",
    "lr = LinearRegression(featuresCol = 'features', labelCol='Log_SalePrice', maxIter=10, regParam=0.3, elasticNetParam=0.8)\n",
    "\n",
    "lr_model = lr.fit(train_df)"
   ]
  },
  {
   "cell_type": "code",
   "execution_count": 157,
   "metadata": {},
   "outputs": [
    {
     "name": "stdout",
     "output_type": "stream",
     "text": [
      "Coefficients: (75,[21],[0.0494013059025])\n"
     ]
    }
   ],
   "source": [
    "print(\"Coefficients: \" + str(lr_model.coefficients))"
   ]
  },
  {
   "cell_type": "code",
   "execution_count": 158,
   "metadata": {},
   "outputs": [
    {
     "name": "stdout",
     "output_type": "stream",
     "text": [
      "Intercept: 11.7629871163\n"
     ]
    }
   ],
   "source": [
    "print(\"Intercept: \" + str(lr_model.intercept))"
   ]
  },
  {
   "cell_type": "code",
   "execution_count": 159,
   "metadata": {
    "collapsed": true
   },
   "outputs": [],
   "source": [
    "lr_predictions=lr_model.transform(test_df)"
   ]
  },
  {
   "cell_type": "code",
   "execution_count": 160,
   "metadata": {},
   "outputs": [
    {
     "name": "stdout",
     "output_type": "stream",
     "text": [
      "R Squared (R2) on test data = 0.240839\n"
     ]
    }
   ],
   "source": [
    "lr_evaluator = RegressionEvaluator(predictionCol=\"prediction\",labelCol=\"Log_SalePrice\",metricName=\"r2\")\n",
    "print(\"R Squared (R2) on test data = %g\" % lr_evaluator.evaluate(lr_predictions))"
   ]
  },
  {
   "cell_type": "code",
   "execution_count": 115,
   "metadata": {
    "collapsed": true
   },
   "outputs": [],
   "source": [
    "#It appears that the Regression based on Overall Quality is adding the most value to the model and can itself be used for prefiction."
   ]
  },
  {
   "cell_type": "markdown",
   "metadata": {},
   "source": [
    "# Implementing Decision Tree."
   ]
  },
  {
   "cell_type": "code",
   "execution_count": 116,
   "metadata": {
    "collapsed": true
   },
   "outputs": [],
   "source": [
    "from pyspark.mllib.regression import LabeledPoint\n",
    "from pyspark.mllib.tree import DecisionTree\n",
    "\n",
    "def labelData(data):\n",
    "    # label: row[end], features: row[0:end-1]\n",
    "    return data.map(lambda row: LabeledPoint(row[-1], row[:-1]))\n",
    "\n",
    "training_data, testing_data = labelData(vhouse_df).randomSplit([0.8, 0.2])\n"
   ]
  },
  {
   "cell_type": "code",
   "execution_count": 117,
   "metadata": {
    "collapsed": true
   },
   "outputs": [],
   "source": [
    "from pyspark.ml.regression import DecisionTreeRegressor"
   ]
  },
  {
   "cell_type": "code",
   "execution_count": 136,
   "metadata": {
    "collapsed": true
   },
   "outputs": [],
   "source": [
    "dt=DecisionTreeRegressor(featuresCol='features',labelCol='Log_SalePrice',maxDepth=2)"
   ]
  },
  {
   "cell_type": "code",
   "execution_count": 137,
   "metadata": {
    "collapsed": true
   },
   "outputs": [],
   "source": [
    "dt_model=dt.fit(train_df)"
   ]
  },
  {
   "cell_type": "code",
   "execution_count": 138,
   "metadata": {
    "collapsed": true
   },
   "outputs": [],
   "source": [
    "dt_predictions=dt_model.transform(test_df)"
   ]
  },
  {
   "cell_type": "code",
   "execution_count": 139,
   "metadata": {},
   "outputs": [
    {
     "name": "stdout",
     "output_type": "stream",
     "text": [
      "R Squared (R2) on test data = 0.635258\n",
      "Absolute Error on test data = 0.165993\n",
      "Mean Square Error on test data = 0.0502868\n"
     ]
    }
   ],
   "source": [
    "\n",
    "dt_evaluator1 = RegressionEvaluator(predictionCol=\"prediction\",labelCol=\"Log_SalePrice\",metricName=\"r2\")\n",
    "\n",
    "dt_evaluator2 = RegressionEvaluator(predictionCol=\"prediction\",labelCol=\"Log_SalePrice\",metricName=\"mse\")\n",
    "dt_evaluator3 = RegressionEvaluator(predictionCol=\"prediction\",labelCol=\"Log_SalePrice\",metricName=\"mae\")\n",
    "print(\"R Squared (R2) on test data = %g\" % dt_evaluator1.evaluate(dt_predictions))\n",
    "print(\"Absolute Error on test data = %g\" % dt_evaluator3.evaluate(dt_predictions))\n",
    "print(\"Mean Square Error on test data = %g\" % dt_evaluator2.evaluate(dt_predictions))"
   ]
  },
  {
   "cell_type": "code",
   "execution_count": 140,
   "metadata": {
    "collapsed": true
   },
   "outputs": [],
   "source": [
    "from pyspark.ml.regression import RandomForestRegressor"
   ]
  },
  {
   "cell_type": "code",
   "execution_count": 146,
   "metadata": {
    "collapsed": true
   },
   "outputs": [],
   "source": [
    "rf=RandomForestRegressor(featuresCol='features',labelCol='Log_SalePrice',maxDepth=3,numTrees=100)"
   ]
  },
  {
   "cell_type": "code",
   "execution_count": 147,
   "metadata": {
    "collapsed": true
   },
   "outputs": [],
   "source": [
    "rf_model=rf.fit(train_df)"
   ]
  },
  {
   "cell_type": "code",
   "execution_count": 148,
   "metadata": {
    "collapsed": true
   },
   "outputs": [],
   "source": [
    "rf_predictions=rf_model.transform(test_df)"
   ]
  },
  {
   "cell_type": "code",
   "execution_count": 149,
   "metadata": {},
   "outputs": [
    {
     "name": "stdout",
     "output_type": "stream",
     "text": [
      "R Squared (R2) on test data = 0.761752\n",
      "Absolute Error on test data = 0.129586\n",
      "Mean Square Error on test data = 0.0328471\n"
     ]
    }
   ],
   "source": [
    "\n",
    "rf_evaluator1 = RegressionEvaluator(predictionCol=\"prediction\",labelCol=\"Log_SalePrice\",metricName=\"r2\")\n",
    "\n",
    "rf_evaluator2 = RegressionEvaluator(predictionCol=\"prediction\",labelCol=\"Log_SalePrice\",metricName=\"mse\")\n",
    "rf_evaluator3 = RegressionEvaluator(predictionCol=\"prediction\",labelCol=\"Log_SalePrice\",metricName=\"mae\")\n",
    "print(\"R Squared (R2) on test data = %g\" % rf_evaluator1.evaluate(rf_predictions))\n",
    "print(\"Absolute Error on test data = %g\" % rf_evaluator3.evaluate(rf_predictions))\n",
    "print(\"Mean Square Error on test data = %g\" % rf_evaluator2.evaluate(rf_predictions))"
   ]
  },
  {
   "cell_type": "markdown",
   "metadata": {},
   "source": [
    "# Implementing Gradient Bossting Regressor "
   ]
  },
  {
   "cell_type": "code",
   "execution_count": 150,
   "metadata": {
    "collapsed": true
   },
   "outputs": [],
   "source": [
    "from pyspark.ml.regression import GBTRegressor"
   ]
  },
  {
   "cell_type": "code",
   "execution_count": 151,
   "metadata": {
    "collapsed": true
   },
   "outputs": [],
   "source": [
    "gbt=GBTRegressor(featuresCol='features',labelCol='Log_SalePrice',maxDepth=3,maxIter=100)"
   ]
  },
  {
   "cell_type": "code",
   "execution_count": 152,
   "metadata": {
    "collapsed": true
   },
   "outputs": [],
   "source": [
    "gbt_model=gbt.fit(train_df)"
   ]
  },
  {
   "cell_type": "code",
   "execution_count": 153,
   "metadata": {
    "collapsed": true
   },
   "outputs": [],
   "source": [
    "gbt_predictions=gbt_model.transform(test_df)"
   ]
  },
  {
   "cell_type": "code",
   "execution_count": 155,
   "metadata": {},
   "outputs": [
    {
     "name": "stdout",
     "output_type": "stream",
     "text": [
      "R Squared (R2) on test data = 0.848761\n",
      "Absolute Error on test data = 0.102093\n",
      "Mean Square Error on test data = 0.0208512\n"
     ]
    }
   ],
   "source": [
    "\n",
    "gbt_evaluator1 = RegressionEvaluator(predictionCol=\"prediction\",labelCol=\"Log_SalePrice\",metricName=\"r2\")\n",
    "\n",
    "gbt_evaluator2 = RegressionEvaluator(predictionCol=\"prediction\",labelCol=\"Log_SalePrice\",metricName=\"mse\")\n",
    "gbt_evaluator3 = RegressionEvaluator(predictionCol=\"prediction\",labelCol=\"Log_SalePrice\",metricName=\"mae\")\n",
    "print(\"R Squared (R2) on test data = %g\" % gbt_evaluator1.evaluate(gbt_predictions))\n",
    "print(\"Absolute Error on test data = %g\" % gbt_evaluator3.evaluate(gbt_predictions))\n",
    "print(\"Mean Square Error on test data = %g\" % gbt_evaluator2.evaluate(gbt_predictions))"
   ]
  },
  {
   "cell_type": "markdown",
   "metadata": {
    "collapsed": true
   },
   "source": [
    "## We conclude from the above : \n",
    "\n",
    "\n",
    "#### R Squared (R2) on test data in case of Gradient Boosting  = 0.848761\n",
    "#### R Squared (R2) on test data in case of D Tree = 0.635258\n",
    "#### R Squared (R2) on test data for mean model in Regression = 0.825681\n",
    "#### R Squared (R2) on test data for feature extracted columns = 0.240839\n",
    "#### R Squared (R2) on test data for best correlated variable i.e OverallQual = 0.573636\n",
    "\n",
    "\n",
    "\n",
    "### However, we achieve the best R Squared in case of Linear regression where we do not drop any columns."
   ]
  }
 ],
 "metadata": {
  "kernelspec": {
   "display_name": "Python 3",
   "language": "python",
   "name": "python3"
  },
  "language_info": {
   "codemirror_mode": {
    "name": "ipython",
    "version": 3
   },
   "file_extension": ".py",
   "mimetype": "text/x-python",
   "name": "python",
   "nbconvert_exporter": "python",
   "pygments_lexer": "ipython3",
   "version": "3.6.2"
  }
 },
 "nbformat": 4,
 "nbformat_minor": 2
}
