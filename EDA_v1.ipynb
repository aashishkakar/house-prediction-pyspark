{
 "cells": [
  {
   "cell_type": "code",
   "execution_count": 1,
   "metadata": {
    "collapsed": true
   },
   "outputs": [],
   "source": [
    "sc\n",
    "\n",
    "from pyspark.sql import SQLContext,Row\n",
    "from pyspark import SparkConf,SparkContext\n",
    "\n",
    "rdd=sc.textFile(\"file:///home/cloudera/Downloads/house_prices_advanced_regression/train.csv\")   \n",
    "\n"
   ]
  },
  {
   "cell_type": "code",
   "execution_count": 32,
   "metadata": {},
   "outputs": [
    {
     "data": {
      "text/plain": [
       "[u'Id,MSSubClass,MSZoning,LotFrontage,LotArea,Street,Alley,LotShape,LandContour,Utilities,LotConfig,LandSlope,Neighborhood,Condition1,Condition2,BldgType,HouseStyle,OverallQual,OverallCond,YearBuilt,YearRemodAdd,RoofStyle,RoofMatl,Exterior1st,Exterior2nd,MasVnrType,MasVnrArea,ExterQual,ExterCond,Foundation,BsmtQual,BsmtCond,BsmtExposure,BsmtFinType1,BsmtFinSF1,BsmtFinType2,BsmtFinSF2,BsmtUnfSF,TotalBsmtSF,Heating,HeatingQC,CentralAir,Electrical,1stFlrSF,2ndFlrSF,LowQualFinSF,GrLivArea,BsmtFullBath,BsmtHalfBath,FullBath,HalfBath,BedroomAbvGr,KitchenAbvGr,KitchenQual,TotRmsAbvGrd,Functional,Fireplaces,FireplaceQu,GarageType,GarageYrBlt,GarageFinish,GarageCars,GarageArea,GarageQual,GarageCond,PavedDrive,WoodDeckSF,OpenPorchSF,EnclosedPorch,3SsnPorch,ScreenPorch,PoolArea,PoolQC,Fence,MiscFeature,MiscVal,MoSold,YrSold,SaleType,SaleCondition,SalePrice']"
      ]
     },
     "execution_count": 32,
     "metadata": {},
     "output_type": "execute_result"
    }
   ],
   "source": [
    "rdd.take(1)"
   ]
  },
  {
   "cell_type": "code",
   "execution_count": 51,
   "metadata": {
    "collapsed": true
   },
   "outputs": [],
   "source": [
    "def func(line):\n",
    "    l1=line.split(\",\")\n",
    "    return Row(Id=l1[0],MSSubClass=l1[1],MSZoning=l1[2],LotFrontage=l1[3],\n",
    "               LotArea=l1[4],Street=l1[5],Alley=l1[6],\n",
    "               LotShape=l1[7],LandContour=l1[8],Utilities=l1[9],LotConfig=l1[10],\n",
    "               LandSlope=l1[11],Neighborhood=l1[12],Condition1=l1[13],Condition2=l1[14],BldgType=l1[15],\n",
    "               HouseStyle=l1[16],OverallQual=l1[17],OverallCond=l1[18],YearBuilt=l1[19],YearRemodAdd=l1[20],\n",
    "               RoofStyle=l1[21],RoofMatl=l1[22],Exterior1st=l1[23],Exterior2nd=l1[24],MasVnrType=l1[25],\n",
    "               MasVnrArea=l1[26],ExterQual=l1[27],ExterCond=l1[28],Foundation=l1[29],BsmtQual=l1[30],\n",
    "               BsmtCond=l1[31],BsmtExposure=l1[32],BsmtFinType1=l1[33],BsmtFinSF1=l1[34],BsmtFinType2=l1[35],\n",
    "               BsmtFinSF2=l1[36],BsmtUnfSF=l1[37],TotalBsmtSF=l1[38],Heating=l1[39],HeatingQC=l1[40],\n",
    "               CentralAir=l1[41],Electrical=l1[42],firstFlrSF=l1[43],secondFlrSF=l1[44],LowQualFinSF=l1[45],\n",
    "               GrLivArea=l1[46],BsmtFullBath=l1[47],BsmtHalfBath=l1[48],FullBath=l1[49],\n",
    "               HalfBath=l1[50],BedroomAbvGr=l1[51],KitchenAbvGr=l1[52],KitchenQual=l1[53],\n",
    "               TotRmsAbvGrd=l1[54],Functional=l1[55],Fireplaces=l1[56],\n",
    "               FireplaceQu=l1[57],GarageType=l1[58],GarageYrBlt=l1[59],GarageFinish=l1[60],\n",
    "               GarageCars=l1[61],GarageArea=l1[62],GarageQual=l1[63],GarageCond=l1[64],PavedDrive=l1[65],\n",
    "               WoodDeckSF=l1[66],OpenPorchSF=l1[67],EnclosedPorch=l1[68],threeSsnPorch=l1[69],\n",
    "               ScreenPorch=l1[70],PoolArea=l1[71],PoolQC=l1[72],Fence=l1[73],MiscFeature=l1[74],\n",
    "               MiscVal=l1[75],MoSold=l1[76],YrSold=l1[77],SaleType=l1[78],SaleCondition=l1[79],SalePrice=l1[80])\n",
    " "
   ]
  },
  {
   "cell_type": "code",
   "execution_count": 52,
   "metadata": {
    "collapsed": true
   },
   "outputs": [],
   "source": [
    "res=rdd.map(func)"
   ]
  },
  {
   "cell_type": "code",
   "execution_count": 53,
   "metadata": {},
   "outputs": [
    {
     "data": {
      "text/plain": [
       "[Row(Alley=u'Alley', BedroomAbvGr=u'BedroomAbvGr', BldgType=u'BldgType', BsmtCond=u'BsmtCond', BsmtExposure=u'BsmtExposure', BsmtFinSF1=u'BsmtFinSF1', BsmtFinSF2=u'BsmtFinSF2', BsmtFinType1=u'BsmtFinType1', BsmtFinType2=u'BsmtFinType2', BsmtFullBath=u'BsmtFullBath', BsmtHalfBath=u'BsmtHalfBath', BsmtQual=u'BsmtQual', BsmtUnfSF=u'BsmtUnfSF', CentralAir=u'CentralAir', Condition1=u'Condition1', Condition2=u'Condition2', Electrical=u'Electrical', EnclosedPorch=u'EnclosedPorch', ExterCond=u'ExterCond', ExterQual=u'ExterQual', Exterior1st=u'Exterior1st', Exterior2nd=u'Exterior2nd', Fence=u'Fence', FireplaceQu=u'FireplaceQu', Fireplaces=u'Fireplaces', Foundation=u'Foundation', FullBath=u'FullBath', Functional=u'Functional', GarageArea=u'GarageArea', GarageCars=u'GarageCars', GarageCond=u'GarageCond', GarageFinish=u'GarageFinish', GarageQual=u'GarageQual', GarageType=u'GarageType', GarageYrBlt=u'GarageYrBlt', GrLivArea=u'GrLivArea', HalfBath=u'HalfBath', Heating=u'Heating', HeatingQC=u'HeatingQC', HouseStyle=u'HouseStyle', Id=u'Id', KitchenAbvGr=u'KitchenAbvGr', KitchenQual=u'KitchenQual', LandContour=u'LandContour', LandSlope=u'LandSlope', LotArea=u'LotArea', LotConfig=u'LotConfig', LotFrontage=u'LotFrontage', LotShape=u'LotShape', LowQualFinSF=u'LowQualFinSF', MSSubClass=u'MSSubClass', MSZoning=u'MSZoning', MasVnrArea=u'MasVnrArea', MasVnrType=u'MasVnrType', MiscFeature=u'MiscFeature', MiscVal=u'MiscVal', MoSold=u'MoSold', Neighborhood=u'Neighborhood', OpenPorchSF=u'OpenPorchSF', OverallCond=u'OverallCond', OverallQual=u'OverallQual', PavedDrive=u'PavedDrive', PoolArea=u'PoolArea', PoolQC=u'PoolQC', RoofMatl=u'RoofMatl', RoofStyle=u'RoofStyle', SaleCondition=u'SaleCondition', SalePrice=u'SalePrice', SaleType=u'SaleType', ScreenPorch=u'ScreenPorch', Street=u'Street', TotRmsAbvGrd=u'TotRmsAbvGrd', TotalBsmtSF=u'TotalBsmtSF', Utilities=u'Utilities', WoodDeckSF=u'WoodDeckSF', YearBuilt=u'YearBuilt', YearRemodAdd=u'YearRemodAdd', YrSold=u'YrSold', firstFlrSF=u'1stFlrSF', secondFlrSF=u'2ndFlrSF', threeSsnPorch=u'3SsnPorch')]"
      ]
     },
     "execution_count": 53,
     "metadata": {},
     "output_type": "execute_result"
    }
   ],
   "source": [
    "res.take(1)"
   ]
  },
  {
   "cell_type": "code",
   "execution_count": 54,
   "metadata": {
    "collapsed": true
   },
   "outputs": [],
   "source": [
    "sqlcontext=SQLContext(sc)"
   ]
  },
  {
   "cell_type": "code",
   "execution_count": 55,
   "metadata": {},
   "outputs": [],
   "source": [
    "temp=sqlcontext.createDataFrame(res)"
   ]
  },
  {
   "cell_type": "code",
   "execution_count": 56,
   "metadata": {
    "collapsed": true
   },
   "outputs": [],
   "source": [
    "temp.registerTempTable(\"temp_table\")"
   ]
  },
  {
   "cell_type": "code",
   "execution_count": 57,
   "metadata": {},
   "outputs": [
    {
     "data": {
      "text/plain": [
       "DataFrame[Alley: string, BedroomAbvGr: string, BldgType: string, BsmtCond: string, BsmtExposure: string, BsmtFinSF1: string, BsmtFinSF2: string, BsmtFinType1: string, BsmtFinType2: string, BsmtFullBath: string, BsmtHalfBath: string, BsmtQual: string, BsmtUnfSF: string, CentralAir: string, Condition1: string, Condition2: string, Electrical: string, EnclosedPorch: string, ExterCond: string, ExterQual: string, Exterior1st: string, Exterior2nd: string, Fence: string, FireplaceQu: string, Fireplaces: string, Foundation: string, FullBath: string, Functional: string, GarageArea: string, GarageCars: string, GarageCond: string, GarageFinish: string, GarageQual: string, GarageType: string, GarageYrBlt: string, GrLivArea: string, HalfBath: string, Heating: string, HeatingQC: string, HouseStyle: string, Id: string, KitchenAbvGr: string, KitchenQual: string, LandContour: string, LandSlope: string, LotArea: string, LotConfig: string, LotFrontage: string, LotShape: string, LowQualFinSF: string, MSSubClass: string, MSZoning: string, MasVnrArea: string, MasVnrType: string, MiscFeature: string, MiscVal: string, MoSold: string, Neighborhood: string, OpenPorchSF: string, OverallCond: string, OverallQual: string, PavedDrive: string, PoolArea: string, PoolQC: string, RoofMatl: string, RoofStyle: string, SaleCondition: string, SalePrice: string, SaleType: string, ScreenPorch: string, Street: string, TotRmsAbvGrd: string, TotalBsmtSF: string, Utilities: string, WoodDeckSF: string, YearBuilt: string, YearRemodAdd: string, YrSold: string, firstFlrSF: string, secondFlrSF: string, threeSsnPorch: string]"
      ]
     },
     "execution_count": 57,
     "metadata": {},
     "output_type": "execute_result"
    }
   ],
   "source": [
    "sqlcontext.sql(\"select * from temp_table\")"
   ]
  },
  {
   "cell_type": "code",
   "execution_count": 58,
   "metadata": {
    "collapsed": true
   },
   "outputs": [],
   "source": [
    "df=temp.toPandas()"
   ]
  },
  {
   "cell_type": "code",
   "execution_count": 59,
   "metadata": {},
   "outputs": [
    {
     "data": {
      "text/plain": [
       "array([u'BedroomAbvGr', u'3', u'4', u'1', u'2', u'0', u'5', u'6', u'8'], dtype=object)"
      ]
     },
     "execution_count": 59,
     "metadata": {},
     "output_type": "execute_result"
    }
   ],
   "source": [
    "df['BedroomAbvGr'].unique()"
   ]
  },
  {
   "cell_type": "code",
   "execution_count": 65,
   "metadata": {},
   "outputs": [],
   "source": [
    "df=df.iloc[1:,:]"
   ]
  },
  {
   "cell_type": "code",
   "execution_count": 69,
   "metadata": {},
   "outputs": [
    {
     "data": {
      "text/html": [
       "<div>\n",
       "<table border=\"1\" class=\"dataframe\">\n",
       "  <thead>\n",
       "    <tr style=\"text-align: right;\">\n",
       "      <th></th>\n",
       "      <th>Alley</th>\n",
       "      <th>BedroomAbvGr</th>\n",
       "      <th>BldgType</th>\n",
       "      <th>BsmtCond</th>\n",
       "      <th>BsmtExposure</th>\n",
       "      <th>BsmtFinSF1</th>\n",
       "      <th>BsmtFinSF2</th>\n",
       "      <th>BsmtFinType1</th>\n",
       "      <th>BsmtFinType2</th>\n",
       "      <th>BsmtFullBath</th>\n",
       "      <th>...</th>\n",
       "      <th>TotRmsAbvGrd</th>\n",
       "      <th>TotalBsmtSF</th>\n",
       "      <th>Utilities</th>\n",
       "      <th>WoodDeckSF</th>\n",
       "      <th>YearBuilt</th>\n",
       "      <th>YearRemodAdd</th>\n",
       "      <th>YrSold</th>\n",
       "      <th>firstFlrSF</th>\n",
       "      <th>secondFlrSF</th>\n",
       "      <th>threeSsnPorch</th>\n",
       "    </tr>\n",
       "  </thead>\n",
       "  <tbody>\n",
       "    <tr>\n",
       "      <th>1</th>\n",
       "      <td>NA</td>\n",
       "      <td>3</td>\n",
       "      <td>1Fam</td>\n",
       "      <td>TA</td>\n",
       "      <td>No</td>\n",
       "      <td>706</td>\n",
       "      <td>0</td>\n",
       "      <td>GLQ</td>\n",
       "      <td>Unf</td>\n",
       "      <td>1</td>\n",
       "      <td>...</td>\n",
       "      <td>8</td>\n",
       "      <td>856</td>\n",
       "      <td>AllPub</td>\n",
       "      <td>0</td>\n",
       "      <td>2003</td>\n",
       "      <td>2003</td>\n",
       "      <td>2008</td>\n",
       "      <td>856</td>\n",
       "      <td>854</td>\n",
       "      <td>0</td>\n",
       "    </tr>\n",
       "    <tr>\n",
       "      <th>2</th>\n",
       "      <td>NA</td>\n",
       "      <td>3</td>\n",
       "      <td>1Fam</td>\n",
       "      <td>TA</td>\n",
       "      <td>Gd</td>\n",
       "      <td>978</td>\n",
       "      <td>0</td>\n",
       "      <td>ALQ</td>\n",
       "      <td>Unf</td>\n",
       "      <td>0</td>\n",
       "      <td>...</td>\n",
       "      <td>6</td>\n",
       "      <td>1262</td>\n",
       "      <td>AllPub</td>\n",
       "      <td>298</td>\n",
       "      <td>1976</td>\n",
       "      <td>1976</td>\n",
       "      <td>2007</td>\n",
       "      <td>1262</td>\n",
       "      <td>0</td>\n",
       "      <td>0</td>\n",
       "    </tr>\n",
       "    <tr>\n",
       "      <th>3</th>\n",
       "      <td>NA</td>\n",
       "      <td>3</td>\n",
       "      <td>1Fam</td>\n",
       "      <td>TA</td>\n",
       "      <td>Mn</td>\n",
       "      <td>486</td>\n",
       "      <td>0</td>\n",
       "      <td>GLQ</td>\n",
       "      <td>Unf</td>\n",
       "      <td>1</td>\n",
       "      <td>...</td>\n",
       "      <td>6</td>\n",
       "      <td>920</td>\n",
       "      <td>AllPub</td>\n",
       "      <td>0</td>\n",
       "      <td>2001</td>\n",
       "      <td>2002</td>\n",
       "      <td>2008</td>\n",
       "      <td>920</td>\n",
       "      <td>866</td>\n",
       "      <td>0</td>\n",
       "    </tr>\n",
       "    <tr>\n",
       "      <th>4</th>\n",
       "      <td>NA</td>\n",
       "      <td>3</td>\n",
       "      <td>1Fam</td>\n",
       "      <td>Gd</td>\n",
       "      <td>No</td>\n",
       "      <td>216</td>\n",
       "      <td>0</td>\n",
       "      <td>ALQ</td>\n",
       "      <td>Unf</td>\n",
       "      <td>1</td>\n",
       "      <td>...</td>\n",
       "      <td>7</td>\n",
       "      <td>756</td>\n",
       "      <td>AllPub</td>\n",
       "      <td>0</td>\n",
       "      <td>1915</td>\n",
       "      <td>1970</td>\n",
       "      <td>2006</td>\n",
       "      <td>961</td>\n",
       "      <td>756</td>\n",
       "      <td>0</td>\n",
       "    </tr>\n",
       "    <tr>\n",
       "      <th>5</th>\n",
       "      <td>NA</td>\n",
       "      <td>4</td>\n",
       "      <td>1Fam</td>\n",
       "      <td>TA</td>\n",
       "      <td>Av</td>\n",
       "      <td>655</td>\n",
       "      <td>0</td>\n",
       "      <td>GLQ</td>\n",
       "      <td>Unf</td>\n",
       "      <td>1</td>\n",
       "      <td>...</td>\n",
       "      <td>9</td>\n",
       "      <td>1145</td>\n",
       "      <td>AllPub</td>\n",
       "      <td>192</td>\n",
       "      <td>2000</td>\n",
       "      <td>2000</td>\n",
       "      <td>2008</td>\n",
       "      <td>1145</td>\n",
       "      <td>1053</td>\n",
       "      <td>0</td>\n",
       "    </tr>\n",
       "  </tbody>\n",
       "</table>\n",
       "<p>5 rows × 81 columns</p>\n",
       "</div>"
      ],
      "text/plain": [
       "  Alley BedroomAbvGr BldgType BsmtCond BsmtExposure BsmtFinSF1 BsmtFinSF2  \\\n",
       "1    NA            3     1Fam       TA           No        706          0   \n",
       "2    NA            3     1Fam       TA           Gd        978          0   \n",
       "3    NA            3     1Fam       TA           Mn        486          0   \n",
       "4    NA            3     1Fam       Gd           No        216          0   \n",
       "5    NA            4     1Fam       TA           Av        655          0   \n",
       "\n",
       "  BsmtFinType1 BsmtFinType2 BsmtFullBath      ...      TotRmsAbvGrd  \\\n",
       "1          GLQ          Unf            1      ...                 8   \n",
       "2          ALQ          Unf            0      ...                 6   \n",
       "3          GLQ          Unf            1      ...                 6   \n",
       "4          ALQ          Unf            1      ...                 7   \n",
       "5          GLQ          Unf            1      ...                 9   \n",
       "\n",
       "  TotalBsmtSF Utilities WoodDeckSF YearBuilt YearRemodAdd YrSold firstFlrSF  \\\n",
       "1         856    AllPub          0      2003         2003   2008        856   \n",
       "2        1262    AllPub        298      1976         1976   2007       1262   \n",
       "3         920    AllPub          0      2001         2002   2008        920   \n",
       "4         756    AllPub          0      1915         1970   2006        961   \n",
       "5        1145    AllPub        192      2000         2000   2008       1145   \n",
       "\n",
       "  secondFlrSF threeSsnPorch  \n",
       "1         854             0  \n",
       "2           0             0  \n",
       "3         866             0  \n",
       "4         756             0  \n",
       "5        1053             0  \n",
       "\n",
       "[5 rows x 81 columns]"
      ]
     },
     "execution_count": 69,
     "metadata": {},
     "output_type": "execute_result"
    }
   ],
   "source": [
    "df.head()"
   ]
  },
  {
   "cell_type": "code",
   "execution_count": 79,
   "metadata": {},
   "outputs": [
    {
     "data": {
      "text/plain": [
       "Street             Pave\n",
       "TotRmsAbvGrd          6\n",
       "TotalBsmtSF        1262\n",
       "Utilities        AllPub\n",
       "WoodDeckSF          298\n",
       "YearBuilt          1976\n",
       "YearRemodAdd       1976\n",
       "YrSold             2007\n",
       "firstFlrSF         1262\n",
       "secondFlrSF           0\n",
       "threeSsnPorch         0\n",
       "Name: 2, dtype: object"
      ]
     },
     "execution_count": 79,
     "metadata": {},
     "output_type": "execute_result"
    }
   ],
   "source": [
    "df.iloc[1,70:]"
   ]
  },
  {
   "cell_type": "code",
   "execution_count": 81,
   "metadata": {},
   "outputs": [
    {
     "name": "stdout",
     "output_type": "stream",
     "text": [
      "<class 'pandas.core.frame.DataFrame'>\n",
      "RangeIndex: 1460 entries, 1 to 1460\n",
      "Data columns (total 81 columns):\n",
      "Alley            1460 non-null object\n",
      "BedroomAbvGr     1460 non-null object\n",
      "BldgType         1460 non-null object\n",
      "BsmtCond         1460 non-null object\n",
      "BsmtExposure     1460 non-null object\n",
      "BsmtFinSF1       1460 non-null object\n",
      "BsmtFinSF2       1460 non-null object\n",
      "BsmtFinType1     1460 non-null object\n",
      "BsmtFinType2     1460 non-null object\n",
      "BsmtFullBath     1460 non-null object\n",
      "BsmtHalfBath     1460 non-null object\n",
      "BsmtQual         1460 non-null object\n",
      "BsmtUnfSF        1460 non-null object\n",
      "CentralAir       1460 non-null object\n",
      "Condition1       1460 non-null object\n",
      "Condition2       1460 non-null object\n",
      "Electrical       1460 non-null object\n",
      "EnclosedPorch    1460 non-null object\n",
      "ExterCond        1460 non-null object\n",
      "ExterQual        1460 non-null object\n",
      "Exterior1st      1460 non-null object\n",
      "Exterior2nd      1460 non-null object\n",
      "Fence            1460 non-null object\n",
      "FireplaceQu      1460 non-null object\n",
      "Fireplaces       1460 non-null object\n",
      "Foundation       1460 non-null object\n",
      "FullBath         1460 non-null object\n",
      "Functional       1460 non-null object\n",
      "GarageArea       1460 non-null object\n",
      "GarageCars       1460 non-null object\n",
      "GarageCond       1460 non-null object\n",
      "GarageFinish     1460 non-null object\n",
      "GarageQual       1460 non-null object\n",
      "GarageType       1460 non-null object\n",
      "GarageYrBlt      1460 non-null object\n",
      "GrLivArea        1460 non-null object\n",
      "HalfBath         1460 non-null object\n",
      "Heating          1460 non-null object\n",
      "HeatingQC        1460 non-null object\n",
      "HouseStyle       1460 non-null object\n",
      "Id               1460 non-null object\n",
      "KitchenAbvGr     1460 non-null object\n",
      "KitchenQual      1460 non-null object\n",
      "LandContour      1460 non-null object\n",
      "LandSlope        1460 non-null object\n",
      "LotArea          1460 non-null object\n",
      "LotConfig        1460 non-null object\n",
      "LotFrontage      1460 non-null object\n",
      "LotShape         1460 non-null object\n",
      "LowQualFinSF     1460 non-null object\n",
      "MSSubClass       1460 non-null object\n",
      "MSZoning         1460 non-null object\n",
      "MasVnrArea       1460 non-null object\n",
      "MasVnrType       1460 non-null object\n",
      "MiscFeature      1460 non-null object\n",
      "MiscVal          1460 non-null object\n",
      "MoSold           1460 non-null object\n",
      "Neighborhood     1460 non-null object\n",
      "OpenPorchSF      1460 non-null object\n",
      "OverallCond      1460 non-null object\n",
      "OverallQual      1460 non-null object\n",
      "PavedDrive       1460 non-null object\n",
      "PoolArea         1460 non-null object\n",
      "PoolQC           1460 non-null object\n",
      "RoofMatl         1460 non-null object\n",
      "RoofStyle        1460 non-null object\n",
      "SaleCondition    1460 non-null object\n",
      "SalePrice        1460 non-null object\n",
      "SaleType         1460 non-null object\n",
      "ScreenPorch      1460 non-null object\n",
      "Street           1460 non-null object\n",
      "TotRmsAbvGrd     1460 non-null object\n",
      "TotalBsmtSF      1460 non-null object\n",
      "Utilities        1460 non-null object\n",
      "WoodDeckSF       1460 non-null object\n",
      "YearBuilt        1460 non-null object\n",
      "YearRemodAdd     1460 non-null object\n",
      "YrSold           1460 non-null object\n",
      "firstFlrSF       1460 non-null object\n",
      "secondFlrSF      1460 non-null object\n",
      "threeSsnPorch    1460 non-null object\n",
      "dtypes: object(81)\n",
      "memory usage: 924.0+ KB\n"
     ]
    }
   ],
   "source": [
    "df.info()"
   ]
  },
  {
   "cell_type": "code",
   "execution_count": 71,
   "metadata": {},
   "outputs": [
    {
     "data": {
      "text/plain": [
       "array([u'NA', u'Grvl', u'Pave'], dtype=object)"
      ]
     },
     "execution_count": 71,
     "metadata": {},
     "output_type": "execute_result"
    }
   ],
   "source": [
    "#int columns:\n",
    "#BedroomAbvGr,BsmtFinSF1,BsmtFinSF2,BsmtFullBath,BsmtHalfBath,BsmtUnfSF,EnclosedPorch,Fireplaces,FullBath,GarageArea,GarageCars,GrLivArea,HalfBath,Id,KitchenAbvGr,LotArea,LotFrontage,LowQualFinSF,MSSubClass,MasVnrArea,MiscVal,MoSold,OpenPorchSF,OverallCond,OverallQual,PoolArea,SalePrice,ScreenPorch,TotRmsAbvGrd,TotalBsmtSF,WoodDeckSF,firstFlrSF,secondFlrSF,threeSsnPorch"
   ]
  },
  {
   "cell_type": "code",
   "execution_count": 126,
   "metadata": {},
   "outputs": [],
   "source": [
    "df[['BedroomAbvGr','BsmtFinSF1','BsmtFinSF2','BsmtFullBath','BsmtHalfBath','BsmtUnfSF','EnclosedPorch','Fireplaces','FullBath','GarageArea','GarageCars','GrLivArea','HalfBath','Id','KitchenAbvGr','LotArea','LowQualFinSF','MSSubClass','MiscVal','MoSold','OpenPorchSF','OverallCond','OverallQual','PoolArea','SalePrice','ScreenPorch','TotRmsAbvGrd','TotalBsmtSF','WoodDeckSF','firstFlrSF','secondFlrSF','threeSsnPorch']]=df[['BedroomAbvGr','BsmtFinSF1','BsmtFinSF2','BsmtFullBath','BsmtHalfBath','BsmtUnfSF','EnclosedPorch','Fireplaces','FullBath','GarageArea','GarageCars','GrLivArea','HalfBath','Id','KitchenAbvGr','LotArea','LowQualFinSF','MSSubClass','MiscVal','MoSold','OpenPorchSF','OverallCond','OverallQual','PoolArea','SalePrice','ScreenPorch','TotRmsAbvGrd','TotalBsmtSF','WoodDeckSF','firstFlrSF','secondFlrSF','threeSsnPorch']].astype('int')"
   ]
  },
  {
   "cell_type": "code",
   "execution_count": null,
   "metadata": {},
   "outputs": [],
   "source": []
  },
  {
   "cell_type": "code",
   "execution_count": 129,
   "metadata": {},
   "outputs": [
    {
     "data": {
      "text/plain": [
       "array([u'196', u'0', u'162', u'350', u'186', u'240', u'286', u'306',\n",
       "       u'212', u'180', u'380', u'281', u'640', u'200', u'246', u'132',\n",
       "       u'650', u'101', u'412', u'272', u'456', u'1031', u'178', u'573',\n",
       "       u'344', u'287', u'167', u'1115', u'40', u'104', u'576', u'443',\n",
       "       u'468', u'66', u'22', u'284', u'76', u'203', u'68', u'183', u'48',\n",
       "       u'28', u'336', u'600', u'768', u'480', u'220', u'184', u'1129',\n",
       "       u'116', u'135', u'266', u'85', u'309', u'136', u'288', u'70',\n",
       "       u'320', u'50', u'120', u'436', u'252', u'84', u'664', u'226',\n",
       "       u'300', u'653', u'112', u'491', u'268', u'748', u'98', u'275',\n",
       "       u'138', u'205', u'262', u'128', u'260', u'153', u'64', u'312',\n",
       "       u'16', u'922', u'142', u'290', u'127', u'506', u'297', u'NA',\n",
       "       u'604', u'254', u'36', u'102', u'472', u'481', u'108', u'302',\n",
       "       u'172', u'399', u'270', u'46', u'210', u'174', u'348', u'315',\n",
       "       u'299', u'340', u'166', u'72', u'31', u'34', u'238', u'1600',\n",
       "       u'365', u'56', u'150', u'278', u'256', u'225', u'370', u'388',\n",
       "       u'175', u'296', u'146', u'113', u'176', u'616', u'30', u'106',\n",
       "       u'870', u'362', u'530', u'500', u'510', u'247', u'305', u'255',\n",
       "       u'125', u'100', u'432', u'126', u'473', u'74', u'145', u'232',\n",
       "       u'376', u'42', u'161', u'110', u'18', u'224', u'248', u'80', u'304',\n",
       "       u'215', u'772', u'435', u'378', u'562', u'168', u'89', u'285',\n",
       "       u'360', u'94', u'333', u'921', u'762', u'594', u'219', u'188',\n",
       "       u'479', u'584', u'182', u'250', u'292', u'245', u'207', u'82',\n",
       "       u'97', u'335', u'208', u'420', u'170', u'459', u'280', u'99',\n",
       "       u'192', u'204', u'233', u'156', u'452', u'513', u'261', u'164',\n",
       "       u'259', u'209', u'263', u'216', u'351', u'660', u'381', u'54',\n",
       "       u'528', u'258', u'464', u'57', u'147', u'1170', u'293', u'630',\n",
       "       u'466', u'109', u'41', u'160', u'289', u'651', u'169', u'95',\n",
       "       u'442', u'202', u'338', u'894', u'328', u'673', u'603', u'1',\n",
       "       u'375', u'90', u'38', u'157', u'11', u'140', u'130', u'148', u'860',\n",
       "       u'424', u'1047', u'243', u'816', u'387', u'223', u'158', u'137',\n",
       "       u'115', u'189', u'274', u'117', u'60', u'122', u'92', u'415',\n",
       "       u'760', u'27', u'75', u'361', u'105', u'342', u'298', u'541',\n",
       "       u'236', u'144', u'423', u'44', u'151', u'975', u'450', u'230',\n",
       "       u'571', u'24', u'53', u'206', u'14', u'324', u'295', u'396', u'67',\n",
       "       u'154', u'425', u'45', u'1378', u'337', u'149', u'143', u'51',\n",
       "       u'171', u'234', u'63', u'766', u'32', u'81', u'163', u'554', u'218',\n",
       "       u'632', u'114', u'567', u'359', u'451', u'621', u'788', u'86',\n",
       "       u'796', u'391', u'228', u'88', u'165', u'428', u'410', u'564',\n",
       "       u'368', u'318', u'579', u'65', u'705', u'408', u'244', u'123',\n",
       "       u'366', u'731', u'448', u'294', u'310', u'237', u'426', u'96',\n",
       "       u'438', u'194', u'119'], dtype=object)"
      ]
     },
     "execution_count": 129,
     "metadata": {},
     "output_type": "execute_result"
    }
   ],
   "source": [
    "df['MasVnrArea'].unique()"
   ]
  },
  {
   "cell_type": "code",
   "execution_count": 207,
   "metadata": {},
   "outputs": [
    {
     "name": "stderr",
     "output_type": "stream",
     "text": [
      "/home/cloudera/anaconda2/lib/python2.7/site-packages/ipykernel/__main__.py:3: FutureWarning: elementwise comparison failed; returning scalar instead, but in the future will perform elementwise comparison\n",
      "  app.launch_new_instance()\n"
     ]
    }
   ],
   "source": [
    "l=[]\n",
    "for i in range(0,len(df.columns)):\n",
    "    if 'NA' in df[df.columns[i]].unique():\n",
    "        l.append(df.columns[i])\n",
    "    else:\n",
    "        continue"
   ]
  },
  {
   "cell_type": "code",
   "execution_count": 208,
   "metadata": {
    "collapsed": true
   },
   "outputs": [],
   "source": [
    "import numpy as np"
   ]
  },
  {
   "cell_type": "code",
   "execution_count": 210,
   "metadata": {},
   "outputs": [],
   "source": [
    "#df.Alley.value_counts()"
   ]
  },
  {
   "cell_type": "code",
   "execution_count": 211,
   "metadata": {},
   "outputs": [
    {
     "data": {
      "text/plain": [
       "TA    1311\n",
       "Gd      65\n",
       "Fa      45\n",
       "NA      37\n",
       "Po       2\n",
       "Name: BsmtCond, dtype: int64"
      ]
     },
     "execution_count": 211,
     "metadata": {},
     "output_type": "execute_result"
    }
   ],
   "source": [
    "df.BsmtCond.value_counts()"
   ]
  },
  {
   "cell_type": "code",
   "execution_count": 212,
   "metadata": {},
   "outputs": [],
   "source": [
    "df['BsmtFinSF1']=df['BsmtFinSF1'].replace('NA',0)"
   ]
  },
  {
   "cell_type": "code",
   "execution_count": 213,
   "metadata": {},
   "outputs": [],
   "source": [
    "df['BsmtFinSF2']=df['BsmtFinSF2'].replace('NA',0)"
   ]
  },
  {
   "cell_type": "code",
   "execution_count": 183,
   "metadata": {
    "collapsed": true
   },
   "outputs": [],
   "source": [
    "df.drop('Alley',axis=1,inplace=True)"
   ]
  },
  {
   "cell_type": "code",
   "execution_count": null,
   "metadata": {},
   "outputs": [],
   "source": []
  },
  {
   "cell_type": "code",
   "execution_count": 215,
   "metadata": {},
   "outputs": [
    {
     "data": {
      "text/plain": [
       "(1460, 80)"
      ]
     },
     "execution_count": 215,
     "metadata": {},
     "output_type": "execute_result"
    }
   ],
   "source": [
    "df.shape"
   ]
  },
  {
   "cell_type": "code",
   "execution_count": 216,
   "metadata": {},
   "outputs": [],
   "source": [
    "import matplotlib.pyplot as plt"
   ]
  },
  {
   "cell_type": "code",
   "execution_count": 224,
   "metadata": {},
   "outputs": [
    {
     "data": {
      "text/plain": [
       "array([[<matplotlib.axes._subplots.AxesSubplot object at 0x7fe145ce56d0>,\n",
       "        <matplotlib.axes._subplots.AxesSubplot object at 0x7fe1453f1090>,\n",
       "        <matplotlib.axes._subplots.AxesSubplot object at 0x7fe1452eee10>,\n",
       "        <matplotlib.axes._subplots.AxesSubplot object at 0x7fe14527fc90>,\n",
       "        <matplotlib.axes._subplots.AxesSubplot object at 0x7fe1447fdd90>,\n",
       "        <matplotlib.axes._subplots.AxesSubplot object at 0x7fe145653050>],\n",
       "       [<matplotlib.axes._subplots.AxesSubplot object at 0x7fe1452be410>,\n",
       "        <matplotlib.axes._subplots.AxesSubplot object at 0x7fe144774350>,\n",
       "        <matplotlib.axes._subplots.AxesSubplot object at 0x7fe144645b90>,\n",
       "        <matplotlib.axes._subplots.AxesSubplot object at 0x7fe1445cba10>,\n",
       "        <matplotlib.axes._subplots.AxesSubplot object at 0x7fe1445bc710>,\n",
       "        <matplotlib.axes._subplots.AxesSubplot object at 0x7fe1444c4750>],\n",
       "       [<matplotlib.axes._subplots.AxesSubplot object at 0x7fe1444ace10>,\n",
       "        <matplotlib.axes._subplots.AxesSubplot object at 0x7fe144433e50>,\n",
       "        <matplotlib.axes._subplots.AxesSubplot object at 0x7fe1443a6650>,\n",
       "        <matplotlib.axes._subplots.AxesSubplot object at 0x7fe14432d810>,\n",
       "        <matplotlib.axes._subplots.AxesSubplot object at 0x7fe1442a11d0>,\n",
       "        <matplotlib.axes._subplots.AxesSubplot object at 0x7fe144227490>],\n",
       "       [<matplotlib.axes._subplots.AxesSubplot object at 0x7fe1442b0e90>,\n",
       "        <matplotlib.axes._subplots.AxesSubplot object at 0x7fe144122190>,\n",
       "        <matplotlib.axes._subplots.AxesSubplot object at 0x7fe1440d0150>,\n",
       "        <matplotlib.axes._subplots.AxesSubplot object at 0x7fe13f5ccdd0>,\n",
       "        <matplotlib.axes._subplots.AxesSubplot object at 0x7fe13f556c50>,\n",
       "        <matplotlib.axes._subplots.AxesSubplot object at 0x7fe13f4c8610>],\n",
       "       [<matplotlib.axes._subplots.AxesSubplot object at 0x7fe13f44f550>,\n",
       "        <matplotlib.axes._subplots.AxesSubplot object at 0x7fe13f434f90>,\n",
       "        <matplotlib.axes._subplots.AxesSubplot object at 0x7fe13f34a0d0>,\n",
       "        <matplotlib.axes._subplots.AxesSubplot object at 0x7fe13f32fa50>,\n",
       "        <matplotlib.axes._subplots.AxesSubplot object at 0x7fe13f2b5b50>,\n",
       "        <matplotlib.axes._subplots.AxesSubplot object at 0x7fe13f22a5d0>],\n",
       "       [<matplotlib.axes._subplots.AxesSubplot object at 0x7fe13f1b0950>,\n",
       "        <matplotlib.axes._subplots.AxesSubplot object at 0x7fe13f1ef250>,\n",
       "        <matplotlib.axes._subplots.AxesSubplot object at 0x7fe13f0a9690>,\n",
       "        <matplotlib.axes._subplots.AxesSubplot object at 0x7fe13f032510>,\n",
       "        <matplotlib.axes._subplots.AxesSubplot object at 0x7fe13efa3210>,\n",
       "        <matplotlib.axes._subplots.AxesSubplot object at 0x7fe13ef2a090>]], dtype=object)"
      ]
     },
     "execution_count": 224,
     "metadata": {},
     "output_type": "execute_result"
    }
   ],
   "source": [
    "#df['BsmtFinSF1'].hist()\n",
    "#plt.figure(figsize=(15,10))\n",
    "\n",
    "df.hist(figsize=(20,12))\n",
    "#plt.show()"
   ]
  },
  {
   "cell_type": "code",
   "execution_count": 225,
   "metadata": {},
   "outputs": [
    {
     "data": {
      "image/png": "[encoded data removed]",
      "text/plain": [
       "<matplotlib.figure.Figure at 0x7fe14781cf90>"
      ]
     },
     "metadata": {},
     "output_type": "display_data"
    }
   ],
   "source": [
    "plt.show()"
   ]
  },
  {
   "cell_type": "code",
   "execution_count": null,
   "metadata": {
    "collapsed": true
   },
   "outputs": [],
   "source": []
  }
 ],
 "metadata": {
  "kernelspec": {
   "display_name": "Python 3",
   "language": "python",
   "name": "python3"
  },
  "language_info": {
   "codemirror_mode": {
    "name": "ipython",
    "version": 3
   },
   "file_extension": ".py",
   "mimetype": "text/x-python",
   "name": "python",
   "nbconvert_exporter": "python",
   "pygments_lexer": "ipython3",
   "version": "3.6.2"
  }
 },
 "nbformat": 4,
 "nbformat_minor": 2
}
